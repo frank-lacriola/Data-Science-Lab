{
 "cells": [
  {
   "cell_type": "code",
   "execution_count": 10,
   "metadata": {},
   "outputs": [],
   "source": [
    "source = 'data/mnist_test.csv'"
   ]
  },
  {
   "cell_type": "code",
   "execution_count": 52,
   "metadata": {},
   "outputs": [],
   "source": [
    "import csv\n",
    "dataset = []\n",
    "labels = []\n",
    "with open(source) as f:\n",
    "    for row in csv.reader(f):\n",
    "        #print(row)\n",
    "        labels.append(int(row.pop(0)))\n",
    "        dataset.append(list(map(int, row)))        "
   ]
  },
  {
   "cell_type": "code",
   "execution_count": 53,
   "metadata": {},
   "outputs": [],
   "source": [
    "def getChar(p): \n",
    "    if p in range(0, 64):\n",
    "        return \" \"\n",
    "    elif p in range(64, 128):\n",
    "        return \".\"\n",
    "    elif p in range(128, 192):\n",
    "        return '*'\n",
    "    elif p in range(192, 256):\n",
    "        return \"#\""
   ]
  },
  {
   "cell_type": "code",
   "execution_count": 54,
   "metadata": {},
   "outputs": [],
   "source": [
    "def printDigit(dataset, pos):\n",
    "    chars = list(map(getChar, dataset[pos]))\n",
    "    for i in range(28):\n",
    "        for j in range(28):\n",
    "            print(chars[i*28+j], end=\"\")\n",
    "        print(\"\")"
   ]
  },
  {
   "cell_type": "code",
   "execution_count": 55,
   "metadata": {},
   "outputs": [
    {
     "name": "stdout",
     "output_type": "stream",
     "text": [
      "                            \n",
      "                            \n",
      "                            \n",
      "                            \n",
      "                            \n",
      "              .#      **    \n",
      "             .##..*#####    \n",
      "            #########*.     \n",
      "           #####***.        \n",
      "          ##*               \n",
      "         *##                \n",
      "         ##                 \n",
      "        .##                 \n",
      "         ###*               \n",
      "         .#####.            \n",
      "            *###*           \n",
      "              *###*         \n",
      "                ###         \n",
      "                .##         \n",
      "                ###         \n",
      "              .###          \n",
      "        .    *###.          \n",
      "       .# .*###*            \n",
      "       .######.             \n",
      "        *##*.               \n",
      "                            \n",
      "                            \n",
      "                            \n"
     ]
    }
   ],
   "source": [
    "printDigit(dataset, 129)"
   ]
  },
  {
   "cell_type": "code",
   "execution_count": 25,
   "metadata": {},
   "outputs": [],
   "source": [
    "def computeEuclidean(x, y):\n",
    "    return sum([ (x_i - y_i)**2 for x_i, y_i in zip(x, y)])**0.5"
   ]
  },
  {
   "cell_type": "code",
   "execution_count": 26,
   "metadata": {},
   "outputs": [
    {
     "name": "stdout",
     "output_type": "stream",
     "text": [
      "25 29 3539.223219860539\n",
      "25 31 3556.4199695761467\n",
      "25 34 3223.2069434027967\n",
      "29 31 1171.8293391104355\n",
      "29 34 2531.0033583541526\n",
      "31 34 2515.5599774205343\n"
     ]
    }
   ],
   "source": [
    "positions = [25, 29, 31, 34]\n",
    "for i in range(len(positions)):\n",
    "    for j in range(i+1, len(positions)):\n",
    "        a = positions[i]\n",
    "        b = positions[j]\n",
    "        print(a, b, computeEuclidean(dataset[a], dataset[b]))"
   ]
  },
  {
   "cell_type": "code",
   "execution_count": null,
   "metadata": {},
   "outputs": [],
   "source": [
    "29 & 31 --> 1, 34 --> 7, 25 --> 0"
   ]
  },
  {
   "cell_type": "code",
   "execution_count": 71,
   "metadata": {},
   "outputs": [],
   "source": [
    "Z = [0 for i in range(784)]\n",
    "O = [0 for i in range(784)]\n",
    "for i in range(784):\n",
    "    for k in range(len(dataset)-1):\n",
    "        if labels[k] == 0:\n",
    "            if dataset[k][i] >= 128:\n",
    "                Z[i] += 1\n",
    "        if labels[k] == 1:\n",
    "            if dataset[k][i] >= 128:\n",
    "                O[i] += 1\n",
    "    "
   ]
  },
  {
   "cell_type": "code",
   "execution_count": 78,
   "metadata": {},
   "outputs": [],
   "source": [
    "pos_max = 0\n",
    "max_val = 0\n",
    "for i in range(784):\n",
    "    abs_val = abs(z[i]-o[i])\n",
    "    if abs_val >= max_val:\n",
    "        max_val = abs_val\n",
    "        pos_max = i"
   ]
  },
  {
   "cell_type": "code",
   "execution_count": 80,
   "metadata": {},
   "outputs": [
    {
     "data": {
      "text/plain": [
       "406"
      ]
     },
     "execution_count": 80,
     "metadata": {},
     "output_type": "execute_result"
    }
   ],
   "source": [
    "pos_max"
   ]
  },
  {
   "cell_type": "code",
   "execution_count": 73,
   "metadata": {},
   "outputs": [],
   "source": [
    "# ALTERNATIVE:\n",
    "differences = [abs(z-o) for z, o in zip(Z, O)]"
   ]
  },
  {
   "cell_type": "code",
   "execution_count": 74,
   "metadata": {},
   "outputs": [],
   "source": [
    "def argmax(differences):\n",
    "    max_val = max(differences)\n",
    "    for i in range(len(differences)):\n",
    "        if differences[i] == max_val:\n",
    "            break\n",
    "    return i"
   ]
  },
  {
   "cell_type": "code",
   "execution_count": 82,
   "metadata": {},
   "outputs": [
    {
     "data": {
      "text/plain": [
       "406"
      ]
     },
     "execution_count": 82,
     "metadata": {},
     "output_type": "execute_result"
    }
   ],
   "source": [
    "# BEST ALTERNATIVE:\n",
    "def argmax2(v):\n",
    "    return max(enumerate(v), key= lambda v: v[1])[0]\n",
    "argmax2(differences)"
   ]
  },
  {
   "cell_type": "code",
   "execution_count": null,
   "metadata": {},
   "outputs": [],
   "source": []
  }
 ],
 "metadata": {
  "kernelspec": {
   "display_name": "Python 3",
   "language": "python",
   "name": "python3"
  },
  "language_info": {
   "codemirror_mode": {
    "name": "ipython",
    "version": 3
   },
   "file_extension": ".py",
   "mimetype": "text/x-python",
   "name": "python",
   "nbconvert_exporter": "python",
   "pygments_lexer": "ipython3",
   "version": "3.8.5"
  }
 },
 "nbformat": 4,
 "nbformat_minor": 4
}
