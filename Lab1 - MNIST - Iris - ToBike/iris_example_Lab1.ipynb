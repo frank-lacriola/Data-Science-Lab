{
 "cells": [
  {
   "cell_type": "code",
   "execution_count": 1,
   "metadata": {},
   "outputs": [],
   "source": [
    "source = 'data/iris.data'"
   ]
  },
  {
   "cell_type": "code",
   "execution_count": 2,
   "metadata": {
    "scrolled": true
   },
   "outputs": [
    {
     "ename": "FileNotFoundError",
     "evalue": "[Errno 2] No such file or directory: 'data/iris.data'",
     "output_type": "error",
     "traceback": [
      "\u001b[1;31m---------------------------------------------------------------------------\u001b[0m",
      "\u001b[1;31mFileNotFoundError\u001b[0m                         Traceback (most recent call last)",
      "\u001b[1;32m<ipython-input-2-8f4bb2328d84>\u001b[0m in \u001b[0;36m<module>\u001b[1;34m\u001b[0m\n\u001b[0;32m      2\u001b[0m \u001b[0mdataset\u001b[0m \u001b[1;33m=\u001b[0m \u001b[1;33m[\u001b[0m\u001b[1;33m[\u001b[0m\u001b[1;33m]\u001b[0m\u001b[1;33m,\u001b[0m \u001b[1;33m[\u001b[0m\u001b[1;33m]\u001b[0m\u001b[1;33m,\u001b[0m \u001b[1;33m[\u001b[0m\u001b[1;33m]\u001b[0m\u001b[1;33m,\u001b[0m \u001b[1;33m[\u001b[0m\u001b[1;33m]\u001b[0m\u001b[1;33m,\u001b[0m \u001b[1;33m[\u001b[0m\u001b[1;33m]\u001b[0m\u001b[1;33m]\u001b[0m\u001b[1;33m\u001b[0m\u001b[1;33m\u001b[0m\u001b[0m\n\u001b[0;32m      3\u001b[0m \u001b[1;33m\u001b[0m\u001b[0m\n\u001b[1;32m----> 4\u001b[1;33m \u001b[1;32mwith\u001b[0m \u001b[0mopen\u001b[0m\u001b[1;33m(\u001b[0m\u001b[0msource\u001b[0m\u001b[1;33m)\u001b[0m \u001b[1;32mas\u001b[0m \u001b[0mf\u001b[0m\u001b[1;33m:\u001b[0m\u001b[1;33m\u001b[0m\u001b[1;33m\u001b[0m\u001b[0m\n\u001b[0m\u001b[0;32m      5\u001b[0m     \u001b[1;32mfor\u001b[0m \u001b[0mrow\u001b[0m \u001b[1;32min\u001b[0m \u001b[0mcsv\u001b[0m\u001b[1;33m.\u001b[0m\u001b[0mreader\u001b[0m\u001b[1;33m(\u001b[0m\u001b[0mf\u001b[0m\u001b[1;33m)\u001b[0m\u001b[1;33m:\u001b[0m\u001b[1;33m\u001b[0m\u001b[1;33m\u001b[0m\u001b[0m\n\u001b[0;32m      6\u001b[0m         \u001b[1;32mif\u001b[0m \u001b[0mlen\u001b[0m\u001b[1;33m(\u001b[0m\u001b[0mrow\u001b[0m\u001b[1;33m)\u001b[0m \u001b[1;33m==\u001b[0m \u001b[1;36m5\u001b[0m\u001b[1;33m:\u001b[0m \u001b[1;31m# only do this if the number of columns is 5, as expected\u001b[0m\u001b[1;33m\u001b[0m\u001b[1;33m\u001b[0m\u001b[0m\n",
      "\u001b[1;31mFileNotFoundError\u001b[0m: [Errno 2] No such file or directory: 'data/iris.data'"
     ]
    }
   ],
   "source": [
    "import csv\n",
    "dataset = [[], [], [], [], []]\n",
    "\n",
    "with open(source) as f:\n",
    "    csv.reader(f)\n",
    "    for row in :\n",
    "        if len(row) == 5: # only do this if the number of columns is 5, as expected\n",
    "            for i in range(4): # the 4 measurements should be converted to float\n",
    "                dataset[i].append(float(row[i]))\n",
    "            # position 4 is the iris type, which is to be kept as a string\n",
    "            dataset[4].append(row[4])\n",
    "        "
   ]
  },
  {
   "cell_type": "code",
   "execution_count": 111,
   "metadata": {},
   "outputs": [],
   "source": [
    "import math\n",
    "means = []\n",
    "for i in range(4):\n",
    "    means.append(sum(dataset[i])/len(dataset[i]))\n"
   ]
  },
  {
   "cell_type": "code",
   "execution_count": 112,
   "metadata": {},
   "outputs": [
    {
     "data": {
      "text/plain": [
       "[5.843333333333335, 3.0540000000000007, 3.7586666666666693, 1.1986666666666672]"
      ]
     },
     "execution_count": 112,
     "metadata": {},
     "output_type": "execute_result"
    }
   ],
   "source": [
    "means"
   ]
  },
  {
   "cell_type": "code",
   "execution_count": 118,
   "metadata": {},
   "outputs": [],
   "source": [
    "stdDevs = []\n",
    "for j in range(4):\n",
    "    squares = []\n",
    "    for k in range(len(dataset[j])-1):\n",
    "        squares.append((dataset[j][k] - means[j])**2)\n",
    "    stdDevs.append(math.sqrt(sum(squares)/len(squares)))"
   ]
  },
  {
   "cell_type": "code",
   "execution_count": 119,
   "metadata": {},
   "outputs": [
    {
     "data": {
      "text/plain": [
       "[0.8280531149769125,\n",
       " 0.4335717430551015,\n",
       " 1.7609952917594083,\n",
       " 0.7615690776970925]"
      ]
     },
     "execution_count": 119,
     "metadata": {},
     "output_type": "execute_result"
    }
   ],
   "source": [
    "stdDevs"
   ]
  },
  {
   "cell_type": "code",
   "execution_count": 56,
   "metadata": {},
   "outputs": [],
   "source": [
    "import math\n",
    "sumSetosa0=0\n",
    "sumSetosa1=0\n",
    "sumSetosa2=0\n",
    "sumSetosa3=0\n",
    "countSetosa=0\n",
    "countVersicolor=0\n",
    "sumVersicolor2=0\n",
    "sumVersicolor3=0\n",
    "\n",
    "for i in range(len(listOfLists)-1):\n",
    "    if listOfLists[i][4]=='Iris-setosa':\n",
    "        sumSetosa2 += float(listOfLists[i][2])\n",
    "        sumSetosa3 += float(listOfLists[i][3])\n",
    "        countSetosa += 1\n",
    "        \n",
    "    elif listOfLists[i][4]=='Iris-versicolor':\n",
    "        sumVersicolor2 += float(listOfLists[i][2])\n",
    "        sumVersicolor3 += float(listOfLists[i][3])\n",
    "        countVersicolor += 1\n",
    "        \n",
    "    \n",
    "meanVersicolor2 = sumVersicolor2/countVersicolor\n",
    "meanVersicolor3 = sumVersicolor3/countVersicolor\n",
    "meanSetosa2 = sumSetosa2/countSetosa\n",
    "meanSetosa3 = sumSetosa3/countSetosa\n",
    "\n",
    "\n",
    "sumOfSqSetosa2 = 0\n",
    "sumOfSqSetosa3 = 0\n",
    "sumOfSqVersicolor2 = 0\n",
    "sumOfSqVersicolor3 = 0\n",
    "for j in range(len(listOfLists)-1):\n",
    "    if listOfLists[j][4]=='Iris-setosa':\n",
    "        sumOfSqSetosa2 += (float(listOfLists[i][2]) - meanSetosa2)**2\n",
    "        sumOfSqSetosa3 += (float(listOfLists[i][3]) - meanSetosa2)**2\n",
    "        sumOfSqVersicolor2 += (float(listOfLists[i][2]) - meanSetosa2)**2\n",
    "        sumOfSqVersicolor3 += (float(listOfLists[i][3]) - meanSetosa2)**2\n",
    "        \n",
    "        \n",
    "stdevSetosa2 = math.sqrt(sumOfSqSetosa2/countSetosa)\n",
    "stdevSetosa3 = math.sqrt(sumOfSqSetosa3/countSetosa)\n",
    "stdevVersicolor2 = math.sqrt(sumOfSqSetosa2/countSetosa)\n",
    "stdevVersicolor3 = math.sqrt(sumOfSqSetosa3/countSetosa)"
   ]
  },
  {
   "cell_type": "code",
   "execution_count": 62,
   "metadata": {},
   "outputs": [
    {
     "data": {
      "text/plain": [
       "1.464"
      ]
     },
     "execution_count": 62,
     "metadata": {},
     "output_type": "execute_result"
    }
   ],
   "source": [
    "meanSetosa2"
   ]
  },
  {
   "cell_type": "code",
   "execution_count": null,
   "metadata": {},
   "outputs": [],
   "source": []
  }
 ],
 "metadata": {
  "kernelspec": {
   "display_name": "Python 3",
   "language": "python",
   "name": "python3"
  },
  "language_info": {
   "codemirror_mode": {
    "name": "ipython",
    "version": 3
   },
   "file_extension": ".py",
   "mimetype": "text/x-python",
   "name": "python",
   "nbconvert_exporter": "python",
   "pygments_lexer": "ipython3",
   "version": "3.8.5"
  }
 },
 "nbformat": 4,
 "nbformat_minor": 4
}
