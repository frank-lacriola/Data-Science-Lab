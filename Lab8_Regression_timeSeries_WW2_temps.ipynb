{
  "nbformat": 4,
  "nbformat_minor": 0,
  "metadata": {
    "colab": {
      "name": "Lab8_Regression_timeSeries_WW2_temps.ipynb",
      "provenance": [],
      "collapsed_sections": [
        "49Rj4YB5BU7Y",
        "dKOE1GNmNLPv"
      ],
      "authorship_tag": "ABX9TyPHe0sf2C7gVa7F3bGVnRsY",
      "include_colab_link": true
    },
    "kernelspec": {
      "name": "python3",
      "display_name": "Python 3"
    },
    "language_info": {
      "name": "python"
    }
  },
  "cells": [
    {
      "cell_type": "markdown",
      "metadata": {
        "id": "view-in-github",
        "colab_type": "text"
      },
      "source": [
        "<a href=\"https://colab.research.google.com/github/frank-lacriola/Data-Science-Lab/blob/main/Lab8_Regression_timeSeries_WW2_temps.ipynb\" target=\"_parent\"><img src=\"https://colab.research.google.com/assets/colab-badge.svg\" alt=\"Open In Colab\"/></a>"
      ]
    },
    {
      "cell_type": "code",
      "source": [
        "import numpy as np\n",
        "from sklearn.model_selection import train_test_split\n",
        "import matplotlib.pyplot as plt\n",
        "from sklearn.linear_model import LinearRegression\n",
        "from sklearn.metrics import r2_score\n",
        "from sklearn.metrics import mean_absolute_error\n",
        "from sklearn.metrics import mean_squared_error"
      ],
      "metadata": {
        "id": "QbCe3wbTsm4e"
      },
      "execution_count": 1,
      "outputs": []
    },
    {
      "cell_type": "markdown",
      "source": [
        "\n",
        "1.   f1(x) = x · sin(x) + 2x\n",
        "2.   f2(x) = 10 sin(x) + x^2\n",
        "3.   f3(x) = sign(x)(x^2 + 300) + 20 sin(x)\n",
        "\n",
        "\n"
      ],
      "metadata": {
        "id": "iQ_hcHttsinq"
      }
    },
    {
      "cell_type": "markdown",
      "source": [
        "# 1.1 - 1.4 Regression to synthetic data\n",
        "\n"
      ],
      "metadata": {
        "id": "lb-DQON7KQO8"
      }
    },
    {
      "cell_type": "code",
      "execution_count": 2,
      "metadata": {
        "id": "iFmk9KQtNPmY"
      },
      "outputs": [],
      "source": [
        "tr = 20\n",
        "n_samples = 100\n",
        "X = np.linspace(-tr, tr, n_samples)\n"
      ]
    },
    {
      "cell_type": "code",
      "source": [
        "f1 = np.multiply(X, np.sin(X)) + np.multiply(X, 2)\n",
        "f2 = np.multiply(10, np.sin(X)) + np.power(X, 2)\n",
        "f3 = np.multiply(np.sign(X), np.power(X, 2)+300) + np.multiply(20, np.sin(X))"
      ],
      "metadata": {
        "id": "6llySr827EvY"
      },
      "execution_count": 3,
      "outputs": []
    },
    {
      "cell_type": "code",
      "source": [
        "y = f3\n",
        "X_train, X_test, y_train, y_test = train_test_split(\n",
        "  X, y, train_size=0.7, random_state=42, shuffle=True)\n",
        "y_test = y_test[X_test.argsort()]\n",
        "X_test.sort()"
      ],
      "metadata": {
        "id": "s9-CJb6arvGj"
      },
      "execution_count": 4,
      "outputs": []
    },
    {
      "cell_type": "code",
      "source": [
        "plt.scatter(X_train, y_train, c=\"r\", alpha=0.5)\n",
        "plt.xlabel(\"X\")\n",
        "plt.ylabel(\"y\")\n",
        "plt.show()"
      ],
      "metadata": {
        "colab": {
          "base_uri": "https://localhost:8080/",
          "height": 279
        },
        "id": "ui29e4PPuN6d",
        "outputId": "fb672786-d6ab-48c2-8781-7c83e43fb5d6"
      },
      "execution_count": 5,
      "outputs": [
        {
          "output_type": "display_data",
          "data": {
            "image/png": "[encoded data removed]",
            "text/plain": [
              "<Figure size 432x288 with 1 Axes>"
            ]
          },
          "metadata": {
            "needs_background": "light"
          }
        }
      ]
    },
    {
      "cell_type": "markdown",
      "source": [
        "Let's start with linear regression\n"
      ],
      "metadata": {
        "id": "uQKGQykZ8-V3"
      }
    },
    {
      "cell_type": "code",
      "source": [
        "\n",
        "reg = LinearRegression(fit_intercept = True) # default\n",
        "reg.fit(X_train.reshape(-1, 1), y_train.reshape(-1, 1))\n",
        "y_test_pred = reg.predict(X_test.reshape(-1, 1))\n",
        "\n",
        "print(\"The MAE for OLS regression is: \", mean_absolute_error(y_test, y_test_pred))\n",
        "print(\"The MSE for OLS regression is: \", mean_squared_error(y_test, y_test_pred))\n",
        "print(\"The R2 for OLS regression is: \", r2_score(y_test, y_test_pred))"
      ],
      "metadata": {
        "colab": {
          "base_uri": "https://localhost:8080/"
        },
        "id": "L5e9c0EjvMWz",
        "outputId": "a744bce4-fc99-4fc7-c350-e9880949c11d"
      },
      "execution_count": 6,
      "outputs": [
        {
          "output_type": "stream",
          "name": "stdout",
          "text": [
            "The MAE for OLS regression is:  83.00990341591526\n",
            "The MSE for OLS regression is:  13568.763949623855\n",
            "The R2 for OLS regression is:  0.9322327960738965\n"
          ]
        }
      ]
    },
    {
      "cell_type": "code",
      "source": [
        "plt.scatter(X_train, y_train, c=\"r\", alpha=0.5)\n",
        "\n",
        "m, b = np.polyfit(X_test, y_test_pred, 1)\n",
        "plt.plot(X_test, m*X_test + b)\n",
        "\n",
        "plt.xlabel(\"X\")\n",
        "plt.ylabel(\"y\")\n",
        "plt.title(\"OLS regression\")\n",
        "plt.show()"
      ],
      "metadata": {
        "colab": {
          "base_uri": "https://localhost:8080/",
          "height": 295
        },
        "id": "k7Gm2x6Qwj-Q",
        "outputId": "084d6e33-7c13-40d3-8d2e-c8def528c143"
      },
      "execution_count": 7,
      "outputs": [
        {
          "output_type": "display_data",
          "data": {
            "image/png": "[encoded data removed]",
            "text/plain": [
              "<Figure size 432x288 with 1 Axes>"
            ]
          },
          "metadata": {
            "needs_background": "light"
          }
        }
      ]
    },
    {
      "cell_type": "markdown",
      "source": [
        "Epsilon-Support Vector Regression.\n",
        "\n"
      ],
      "metadata": {
        "id": "bUPEGr8U88uQ"
      }
    },
    {
      "cell_type": "code",
      "source": [
        "from sklearn.svm import SVR\n",
        "\n",
        "reg = SVR(epsilon=0.1, kernel='rbf') # default\n",
        "reg.fit(X_train.reshape(-1, 1), y_train)\n",
        "y_test_pred = reg.predict(X_test.reshape(-1, 1))\n",
        "\n",
        "print(\"The MAE for OLS regression is: \", mean_absolute_error(y_test, y_test_pred))\n",
        "print(\"The MSE for OLS regression is: \", mean_squared_error(y_test, y_test_pred))\n",
        "print(\"The R2 for OLS regression is: \", r2_score(y_test, y_test_pred))"
      ],
      "metadata": {
        "colab": {
          "base_uri": "https://localhost:8080/"
        },
        "id": "NmMy1Y_ozq7P",
        "outputId": "2c5e2d2a-0c34-4aaf-de1e-ae1a5c413726"
      },
      "execution_count": 8,
      "outputs": [
        {
          "output_type": "stream",
          "name": "stdout",
          "text": [
            "The MAE for OLS regression is:  457.8367962938813\n",
            "The MSE for OLS regression is:  304500.1614636245\n",
            "The R2 for OLS regression is:  -0.520781451726037\n"
          ]
        }
      ]
    },
    {
      "cell_type": "code",
      "source": [
        "plt.scatter(X_train, y_train, c=\"r\", alpha=0.5)\n",
        "\n",
        "m, b = np.polyfit(X_test, y_test_pred, 1)\n",
        "plt.plot(X_test, m*X_test + b)\n",
        "\n",
        "plt.xlabel(\"X\")\n",
        "plt.ylabel(\"y\")\n",
        "plt.title(\"SVM regression\")\n",
        "plt.show()"
      ],
      "metadata": {
        "colab": {
          "base_uri": "https://localhost:8080/",
          "height": 295
        },
        "id": "NwZAExVK2p1R",
        "outputId": "a8773258-6181-4bac-e4d0-f082b7623025"
      },
      "execution_count": 9,
      "outputs": [
        {
          "output_type": "display_data",
          "data": {
            "image/png": "[encoded data removed]",
            "text/plain": [
              "<Figure size 432x288 with 1 Axes>"
            ]
          },
          "metadata": {
            "needs_background": "light"
          }
        }
      ]
    },
    {
      "cell_type": "markdown",
      "source": [
        "Ridge Regression."
      ],
      "metadata": {
        "id": "6wYSR-TT84bR"
      }
    },
    {
      "cell_type": "code",
      "source": [
        "from sklearn.linear_model import Ridge\n",
        "\n",
        "reg = Ridge(fit_intercept=True) # default\n",
        "reg.fit(X_train.reshape(-1, 1), y_train)\n",
        "y_test_pred = reg.predict(X_test.reshape(-1, 1))\n",
        "\n",
        "print(\"The MAE is: \", mean_absolute_error(y_test, y_test_pred))\n",
        "print(\"The MSE  is: \", mean_squared_error(y_test, y_test_pred))\n",
        "print(\"The R2  is: \", r2_score(y_test, y_test_pred))"
      ],
      "metadata": {
        "colab": {
          "base_uri": "https://localhost:8080/"
        },
        "id": "MmehllSs3rAL",
        "outputId": "d868bddd-389a-4bc3-fdb4-61e382e96fa6"
      },
      "execution_count": 10,
      "outputs": [
        {
          "output_type": "stream",
          "name": "stdout",
          "text": [
            "The MAE is:  82.99599437078463\n",
            "The MSE  is:  13569.372683993237\n",
            "The R2  is:  0.932229755839259\n"
          ]
        }
      ]
    },
    {
      "cell_type": "code",
      "source": [
        "plt.scatter(X_train, y_train, c=\"r\", alpha=0.5)\n",
        "\n",
        "m, b = np.polyfit(X_test, y_test_pred, 1)\n",
        "plt.plot(X_test, m*X_test + b)\n",
        "\n",
        "plt.xlabel(\"X\")\n",
        "plt.ylabel(\"y\")\n",
        "plt.title(\"Ridge regression\")\n",
        "plt.show()"
      ],
      "metadata": {
        "colab": {
          "base_uri": "https://localhost:8080/",
          "height": 295
        },
        "id": "uA3NV4154B1f",
        "outputId": "e82c9cbd-17e0-4d49-bf34-2204b8a4038b"
      },
      "execution_count": 11,
      "outputs": [
        {
          "output_type": "display_data",
          "data": {
            "image/png": "[encoded data removed]",
            "text/plain": [
              "<Figure size 432x288 with 1 Axes>"
            ]
          },
          "metadata": {
            "needs_background": "light"
          }
        }
      ]
    },
    {
      "cell_type": "markdown",
      "source": [
        "MLP Regression; it optimizes the squared error using LBFGS or stochastic gradient descent\n"
      ],
      "metadata": {
        "id": "9tQsDdTX9ArL"
      }
    },
    {
      "cell_type": "code",
      "source": [
        "from sklearn.neural_network import MLPRegressor\n",
        "\n",
        "reg = MLPRegressor(max_iter=200) # default\n",
        "reg.fit(X_train.reshape(-1, 1), y_train)\n",
        "y_test_pred = reg.predict(X_test.reshape(-1, 1))\n",
        "\n",
        "print(\"The MAE  is: \", mean_absolute_error(y_test, y_test_pred))\n",
        "print(\"The MSE  is: \", mean_squared_error(y_test, y_test_pred))\n",
        "print(\"The R2  is: \", r2_score(y_test, y_test_pred))"
      ],
      "metadata": {
        "colab": {
          "base_uri": "https://localhost:8080/"
        },
        "id": "T9IA4HZp4JQY",
        "outputId": "3cf6411e-7f0b-44a0-a711-6c5f15760370"
      },
      "execution_count": 12,
      "outputs": [
        {
          "output_type": "stream",
          "name": "stdout",
          "text": [
            "The MAE  is:  390.4857674768351\n",
            "The MSE  is:  160434.67170100173\n",
            "The R2  is:  0.19873253346111597\n"
          ]
        },
        {
          "output_type": "stream",
          "name": "stderr",
          "text": [
            "/usr/local/lib/python3.7/dist-packages/sklearn/neural_network/_multilayer_perceptron.py:696: ConvergenceWarning: Stochastic Optimizer: Maximum iterations (200) reached and the optimization hasn't converged yet.\n",
            "  ConvergenceWarning,\n"
          ]
        }
      ]
    },
    {
      "cell_type": "code",
      "source": [
        "plt.scatter(X_train, y_train, c=\"r\", alpha=0.5)\n",
        "\n",
        "m, b = np.polyfit(X_test, y_test_pred, 1)\n",
        "plt.plot(X_test, m*X_test + b)\n",
        "\n",
        "plt.xlabel(\"X\")\n",
        "plt.ylabel(\"y\")\n",
        "plt.title(\"MLP_ regression\")\n",
        "plt.show()"
      ],
      "metadata": {
        "colab": {
          "base_uri": "https://localhost:8080/",
          "height": 295
        },
        "id": "My7_dc-S4cIX",
        "outputId": "a800c3fc-fc07-4d22-d9e0-07e39be9bcec"
      },
      "execution_count": 13,
      "outputs": [
        {
          "output_type": "display_data",
          "data": {
            "image/png": "[encoded data removed]",
            "text/plain": [
              "<Figure size 432x288 with 1 Axes>"
            ]
          },
          "metadata": {
            "needs_background": "light"
          }
        }
      ]
    },
    {
      "cell_type": "markdown",
      "source": [
        "RF Regressor\n"
      ],
      "metadata": {
        "id": "-6FBQRw59CHR"
      }
    },
    {
      "cell_type": "code",
      "source": [
        "from sklearn.ensemble import RandomForestRegressor\n",
        "\n",
        "reg = RandomForestRegressor() # default\n",
        "reg.fit(X_train.reshape(-1, 1), y_train)\n",
        "y_test_pred = reg.predict(X_test.reshape(-1, 1))\n",
        "\n",
        "print(\"The MAE  is: \", mean_absolute_error(y_test, y_test_pred))\n",
        "print(\"The MSE  is: \", mean_squared_error(y_test, y_test_pred))\n",
        "print(\"The R2  is: \", r2_score(y_test, y_test_pred))"
      ],
      "metadata": {
        "colab": {
          "base_uri": "https://localhost:8080/"
        },
        "id": "J9swmX8k41xV",
        "outputId": "c59dce6f-f7df-4edb-cc6b-8f5ceb0a208b"
      },
      "execution_count": 14,
      "outputs": [
        {
          "output_type": "stream",
          "name": "stdout",
          "text": [
            "The MAE  is:  5.16685539513234\n",
            "The MSE  is:  68.94343070374302\n",
            "The R2  is:  0.9996556721345281\n"
          ]
        }
      ]
    },
    {
      "cell_type": "code",
      "source": [
        "plt.scatter(X_train, y_train, c=\"r\", alpha=0.5)\n",
        "\n",
        "m, b = np.polyfit(X_test, y_test_pred, 1)\n",
        "plt.plot(X_test, m*X_test + b)\n",
        "\n",
        "plt.xlabel(\"X\")\n",
        "plt.ylabel(\"y\")\n",
        "plt.title(\"RF regression\")\n",
        "plt.show()"
      ],
      "metadata": {
        "colab": {
          "base_uri": "https://localhost:8080/",
          "height": 295
        },
        "id": "I0VVqAor5Smu",
        "outputId": "e429e63d-cf21-4cab-ff53-73db6dc0df98"
      },
      "execution_count": 15,
      "outputs": [
        {
          "output_type": "display_data",
          "data": {
            "image/png": "[encoded data removed]",
            "text/plain": [
              "<Figure size 432x288 with 1 Axes>"
            ]
          },
          "metadata": {
            "needs_background": "light"
          }
        }
      ]
    },
    {
      "cell_type": "markdown",
      "source": [
        "Most performing with f1:\n",
        "\n",
        "\n",
        "1.   RF Regressor \n",
        "The MAE  is:  2.0993614635551348\n",
        "The MSE  is:  7.329359963003432\n",
        "The R2  is:  0.9862133813492747\n",
        "\n",
        "2.   MLP/Ridge: The MAE is:  5.851781153913739\n",
        "The MSE is:  54.961160365684144\n",
        "The R2  is:  0.896617363263935\n",
        "\n",
        "Most performing with f2:\n",
        "\n",
        "\n",
        "\n",
        "1.   RF: The MAE  is:  4.992875327624448\n",
        "The MSE  is:  41.209433223350075\n",
        "The R2  is:  0.9967524816461003\n",
        "\n",
        "\n",
        "Most performing with f3:\n",
        "\n",
        "\n",
        "\n",
        "1.   RF: The MAE  is:  5.529194811721336\n",
        "The MSE  is:  70.31744458614494\n",
        "The R2  is:  0.9996488098234649\n",
        "2.  Ridge/Linear Regresison: The MAE is:  82.99599437078463\n",
        "The MSE  is:  13569.372683993237\n",
        "The R2  is:  0.932229755839259\n",
        "\n",
        "\n",
        "\n"
      ],
      "metadata": {
        "id": "GPF4ZzgJ7sff"
      }
    },
    {
      "cell_type": "markdown",
      "source": [
        "# 1.5 Polynomial / Trigonometric features "
      ],
      "metadata": {
        "id": "49Rj4YB5BU7Y"
      }
    },
    {
      "cell_type": "code",
      "source": [
        "from sklearn.preprocessing import PolynomialFeatures\n",
        "from sklearn.pipeline import make_pipeline"
      ],
      "metadata": {
        "id": "6kE0GGkQB728"
      },
      "execution_count": 16,
      "outputs": []
    },
    {
      "cell_type": "markdown",
      "source": [
        "\n",
        "1.   f1(x) = x · sin(x) + 2x\n",
        "2.   f2(x) = 10 sin(x) + x^2\n",
        "3.   f3(x) = sign(x)(x^2 + 300) + 20 sin(x)\n",
        "\n",
        "\n"
      ],
      "metadata": {
        "id": "oVgPLlKuBxUf"
      }
    },
    {
      "cell_type": "code",
      "execution_count": 17,
      "metadata": {
        "id": "1AQzErRkBxUm"
      },
      "outputs": [],
      "source": [
        "tr = 20\n",
        "n_samples = 100\n",
        "y = f3\n",
        "X_train, X_test, y_train, y_test = train_test_split(\n",
        "  X, y, train_size=0.7, random_state=42, shuffle=True)\n",
        "y_test = y_test[X_test.argsort()]\n",
        "X_test.sort()"
      ]
    },
    {
      "cell_type": "code",
      "source": [
        "X_train.shape, y_train.shape"
      ],
      "metadata": {
        "colab": {
          "base_uri": "https://localhost:8080/"
        },
        "id": "b88Wl9YSEONp",
        "outputId": "95feacb8-05b8-47a2-f128-15c807c36e94"
      },
      "execution_count": 18,
      "outputs": [
        {
          "output_type": "execute_result",
          "data": {
            "text/plain": [
              "((70,), (70,))"
            ]
          },
          "metadata": {},
          "execution_count": 18
        }
      ]
    },
    {
      "cell_type": "code",
      "source": [
        "plt.scatter(X_train, y_train, c=\"r\", alpha=0.5)\n",
        "plt.xlabel(\"X\")\n",
        "plt.ylabel(\"y\")\n",
        "plt.show()"
      ],
      "metadata": {
        "colab": {
          "base_uri": "https://localhost:8080/",
          "height": 0
        },
        "outputId": "be2f9555-8504-4699-fa84-772d309f3600",
        "id": "kWYwwDHeBxUn"
      },
      "execution_count": 19,
      "outputs": [
        {
          "output_type": "display_data",
          "data": {
            "image/png": "[encoded data removed]",
            "text/plain": [
              "<Figure size 432x288 with 1 Axes>"
            ]
          },
          "metadata": {
            "needs_background": "light"
          }
        }
      ]
    },
    {
      "cell_type": "markdown",
      "source": [
        "Let's start with linear regression\n"
      ],
      "metadata": {
        "id": "mfaNOEscBxUn"
      }
    },
    {
      "cell_type": "code",
      "source": [
        "reg = make_pipeline(PolynomialFeatures(5), LinearRegression())\n",
        "reg.fit(X_train.reshape(-1, 1), y_train)\n",
        "y_test_pred = reg.predict(X_test.reshape(-1, 1))\n",
        "\n",
        "print(\"The MAE is: \", mean_absolute_error(y_test, y_test_pred))\n",
        "print(\"The MSE is: \", mean_squared_error(y_test, y_test_pred))\n",
        "print(\"The R2 is: \", r2_score(y_test, y_test_pred))"
      ],
      "metadata": {
        "colab": {
          "base_uri": "https://localhost:8080/"
        },
        "outputId": "3e633e73-5f25-45aa-e18c-0a88955f8291",
        "id": "9eGdIwgCBxUn"
      },
      "execution_count": 20,
      "outputs": [
        {
          "output_type": "stream",
          "name": "stdout",
          "text": [
            "The MAE is:  63.64794812910757\n",
            "The MSE is:  7508.528298696274\n",
            "The R2 is:  0.9624997552988771\n"
          ]
        }
      ]
    },
    {
      "cell_type": "code",
      "source": [
        "plt.plot(X_test, y_test_pred, '-b')\n",
        "plt.scatter(X_train, y_train, c=\"r\", alpha=0.5)\n",
        "plt.xlabel(\"X\")\n",
        "plt.ylabel(\"y\")\n",
        "plt.title(\"OLS poly regression\")\n",
        "plt.show()"
      ],
      "metadata": {
        "colab": {
          "base_uri": "https://localhost:8080/",
          "height": 0
        },
        "outputId": "969373a4-388a-4d92-83c1-5a307ac83606",
        "id": "H-G7RUdYBxUn"
      },
      "execution_count": 21,
      "outputs": [
        {
          "output_type": "display_data",
          "data": {
            "image/png": "[encoded data removed]",
            "text/plain": [
              "<Figure size 432x288 with 1 Axes>"
            ]
          },
          "metadata": {
            "needs_background": "light"
          }
        }
      ]
    },
    {
      "cell_type": "markdown",
      "source": [
        "Epsilon-Support Vector Regression.\n",
        "\n"
      ],
      "metadata": {
        "id": "rWFYkq1ABxUo"
      }
    },
    {
      "cell_type": "code",
      "source": [
        "from sklearn.svm import SVR\n",
        "\n",
        "reg = make_pipeline(PolynomialFeatures(5), SVR())\n",
        "reg.fit(X_train.reshape(-1, 1), y_train)\n",
        "y_test_pred = reg.predict(X_test.reshape(-1, 1))\n",
        "\n",
        "print(\"The MAE is: \", mean_absolute_error(y_test, y_test_pred))\n",
        "print(\"The MSE is: \", mean_squared_error(y_test, y_test_pred))\n",
        "print(\"The R2 is: \", r2_score(y_test, y_test_pred))"
      ],
      "metadata": {
        "colab": {
          "base_uri": "https://localhost:8080/"
        },
        "outputId": "09944c7b-8d2d-45e5-8c4d-bef23d0c4dfc",
        "id": "6La8geQKBxUo"
      },
      "execution_count": 22,
      "outputs": [
        {
          "output_type": "stream",
          "name": "stdout",
          "text": [
            "The MAE is:  474.41929880671864\n",
            "The MSE is:  326552.8592373479\n",
            "The R2 is:  -0.6309204203676184\n"
          ]
        }
      ]
    },
    {
      "cell_type": "code",
      "source": [
        "plt.plot(X_test, y_test_pred, '-b')\n",
        "plt.scatter(X_train, y_train, c=\"r\", alpha=0.5)\n",
        "plt.xlabel(\"X\")\n",
        "plt.ylabel(\"y\")\n",
        "plt.title(\"SVR poly regression\")\n",
        "plt.show()"
      ],
      "metadata": {
        "colab": {
          "base_uri": "https://localhost:8080/",
          "height": 0
        },
        "outputId": "bc240323-adf6-46ec-e68a-1653aff64776",
        "id": "PWDvR5jABxUp"
      },
      "execution_count": 23,
      "outputs": [
        {
          "output_type": "display_data",
          "data": {
            "image/png": "[encoded data removed]",
            "text/plain": [
              "<Figure size 432x288 with 1 Axes>"
            ]
          },
          "metadata": {
            "needs_background": "light"
          }
        }
      ]
    },
    {
      "cell_type": "markdown",
      "source": [
        "Ridge Regression."
      ],
      "metadata": {
        "id": "Mh3wm8rGBxUp"
      }
    },
    {
      "cell_type": "code",
      "source": [
        "from sklearn.linear_model import Ridge\n",
        "\n",
        "reg = make_pipeline(PolynomialFeatures(5), Ridge())\n",
        "reg.fit(X_train.reshape(-1, 1), y_train)\n",
        "y_test_pred = reg.predict(X_test.reshape(-1, 1))\n",
        "\n",
        "print(\"The MAE is: \", mean_absolute_error(y_test, y_test_pred))\n",
        "print(\"The MSE is: \", mean_squared_error(y_test, y_test_pred))\n",
        "print(\"The R2 is: \", r2_score(y_test, y_test_pred))"
      ],
      "metadata": {
        "colab": {
          "base_uri": "https://localhost:8080/"
        },
        "outputId": "578042fe-c88d-4fdd-e958-dcdfd9380d3f",
        "id": "CHoep9TdBxUp"
      },
      "execution_count": 24,
      "outputs": [
        {
          "output_type": "stream",
          "name": "stdout",
          "text": [
            "The MAE is:  63.47541517501624\n",
            "The MSE is:  7507.305781631645\n",
            "The R2 is:  0.962505860981276\n"
          ]
        }
      ]
    },
    {
      "cell_type": "code",
      "source": [
        "plt.plot(X_test, y_test_pred, '-b')\n",
        "plt.scatter(X_train, y_train, c=\"r\", alpha=0.5)\n",
        "plt.xlabel(\"X\")\n",
        "plt.ylabel(\"y\")\n",
        "plt.title(\"Ridge poly regression\")\n",
        "plt.show()"
      ],
      "metadata": {
        "colab": {
          "base_uri": "https://localhost:8080/",
          "height": 0
        },
        "outputId": "03b2483f-b888-4369-9d59-96557ce9bb93",
        "id": "DWOl_5UuBxUp"
      },
      "execution_count": 25,
      "outputs": [
        {
          "output_type": "display_data",
          "data": {
            "image/png": "[encoded data removed]",
            "text/plain": [
              "<Figure size 432x288 with 1 Axes>"
            ]
          },
          "metadata": {
            "needs_background": "light"
          }
        }
      ]
    },
    {
      "cell_type": "markdown",
      "source": [
        "MLP Regression; it optimizes the squared error using LBFGS or stochastic gradient descent\n"
      ],
      "metadata": {
        "id": "kdXwISl2BxUp"
      }
    },
    {
      "cell_type": "code",
      "source": [
        "from sklearn.neural_network import MLPRegressor\n",
        "\n",
        "reg = make_pipeline(PolynomialFeatures(5), MLPRegressor())\n",
        "reg.fit(X_train.reshape(-1, 1), y_train)\n",
        "y_test_pred = reg.predict(X_test.reshape(-1, 1))\n",
        "\n",
        "print(\"The MAE is: \", mean_absolute_error(y_test, y_test_pred))\n",
        "print(\"The MSE is: \", mean_squared_error(y_test, y_test_pred))\n",
        "print(\"The R2 is: \", r2_score(y_test, y_test_pred))"
      ],
      "metadata": {
        "colab": {
          "base_uri": "https://localhost:8080/"
        },
        "outputId": "b041ef16-21b0-494d-b295-e91a10717b48",
        "id": "yy-wiJ6eBxUq"
      },
      "execution_count": 26,
      "outputs": [
        {
          "output_type": "stream",
          "name": "stdout",
          "text": [
            "The MAE is:  6132.021699803384\n",
            "The MSE is:  231573992.57369846\n",
            "The R2 is:  -1155.5623837946443\n"
          ]
        }
      ]
    },
    {
      "cell_type": "code",
      "source": [
        "plt.plot(X_test, y_test_pred, '-b')\n",
        "plt.scatter(X_train, y_train, c=\"r\", alpha=0.5)\n",
        "plt.xlabel(\"X\")\n",
        "plt.ylabel(\"y\")\n",
        "plt.title(\"MLP poly regression\")\n",
        "plt.show()"
      ],
      "metadata": {
        "colab": {
          "base_uri": "https://localhost:8080/",
          "height": 0
        },
        "outputId": "d07c6ea9-8490-492d-bdf3-81e796e8a24b",
        "id": "aYbwsq-oBxUq"
      },
      "execution_count": 27,
      "outputs": [
        {
          "output_type": "display_data",
          "data": {
            "image/png": "[encoded data removed]",
            "text/plain": [
              "<Figure size 432x288 with 1 Axes>"
            ]
          },
          "metadata": {
            "needs_background": "light"
          }
        }
      ]
    },
    {
      "cell_type": "markdown",
      "source": [
        "RF Regressor\n"
      ],
      "metadata": {
        "id": "vBFMlMdOBxUq"
      }
    },
    {
      "cell_type": "code",
      "source": [
        "from sklearn.ensemble import RandomForestRegressor\n",
        "\n",
        "reg = make_pipeline(PolynomialFeatures(5), RandomForestRegressor())\n",
        "reg.fit(X_train.reshape(-1, 1), y_train)\n",
        "y_test_pred = reg.predict(X_test.reshape(-1, 1))\n",
        "\n",
        "print(\"The MAE is: \", mean_absolute_error(y_test, y_test_pred))\n",
        "print(\"The MSE is: \", mean_squared_error(y_test, y_test_pred))\n",
        "print(\"The R2 is: \", r2_score(y_test, y_test_pred))"
      ],
      "metadata": {
        "colab": {
          "base_uri": "https://localhost:8080/"
        },
        "outputId": "5861c391-c9f3-4ecb-d91c-3453a5e017e0",
        "id": "_gPHrngqBxUq"
      },
      "execution_count": 28,
      "outputs": [
        {
          "output_type": "stream",
          "name": "stdout",
          "text": [
            "The MAE is:  8.180860967889007\n",
            "The MSE is:  118.92081777298058\n",
            "The R2 is:  0.999406067395748\n"
          ]
        }
      ]
    },
    {
      "cell_type": "code",
      "source": [
        "plt.plot(X_test, y_test_pred, '-b')\n",
        "plt.scatter(X_train, y_train, c=\"r\", alpha=0.5)\n",
        "plt.xlabel(\"X\")\n",
        "plt.ylabel(\"y\")\n",
        "plt.title(\"RF poly regression\")\n",
        "plt.show()"
      ],
      "metadata": {
        "colab": {
          "base_uri": "https://localhost:8080/",
          "height": 0
        },
        "outputId": "33e487b3-d847-4f65-a978-e6ad9203e502",
        "id": "ThGHOhtfBxUq"
      },
      "execution_count": 29,
      "outputs": [
        {
          "output_type": "display_data",
          "data": {
            "image/png": "[encoded data removed]",
            "text/plain": [
              "<Figure size 432x288 with 1 Axes>"
            ]
          },
          "metadata": {
            "needs_background": "light"
          }
        }
      ]
    },
    {
      "cell_type": "markdown",
      "source": [
        "Most performing with f1:\n",
        "\n",
        "\n",
        "1.   RF Regressor 0.99\n",
        "\n",
        "\n",
        "2.   MLP/Ridge 0.89\n",
        "\n",
        "Most performing with f2:\n",
        "\n",
        "\n",
        "\n",
        "1.   RF/Ridge OLS 0.99\n",
        "\n",
        "\n",
        "Most performing with f3:\n",
        "\n",
        "\n",
        "\n",
        "1.   RF: 0.999\n",
        "2.  Ridge: 0.96\n",
        "\n",
        "\n",
        "\n"
      ],
      "metadata": {
        "id": "xPjl0UoFBxUq"
      }
    },
    {
      "cell_type": "code",
      "source": [
        ""
      ],
      "metadata": {
        "id": "bJJQWj7zBxUr"
      },
      "execution_count": 29,
      "outputs": []
    },
    {
      "cell_type": "markdown",
      "source": [
        "# 1.6 Injecting Noise\n"
      ],
      "metadata": {
        "id": "dKOE1GNmNLPv"
      }
    },
    {
      "cell_type": "code",
      "source": [
        "from sklearn.preprocessing import PolynomialFeatures\n",
        "from sklearn.pipeline import make_pipeline"
      ],
      "metadata": {
        "id": "xcqhslX3Nj3E"
      },
      "execution_count": 30,
      "outputs": []
    },
    {
      "cell_type": "code",
      "source": [
        "def inject_noise(y):\n",
        "  \"\"\"Add a random noise drawn from a normal distribution.\"\"\"\n",
        "  return y + np.random.normal(0, 50, size=y.size)"
      ],
      "metadata": {
        "id": "1z1IGk4TNHXo"
      },
      "execution_count": 31,
      "outputs": []
    },
    {
      "cell_type": "code",
      "execution_count": 32,
      "metadata": {
        "id": "jwTbeJ_MNera"
      },
      "outputs": [],
      "source": [
        "tr = 20\n",
        "n_samples = 100\n",
        "y = f2\n",
        "y = inject_noise(y)\n",
        "X_train, X_test, y_train, y_test = train_test_split(\n",
        "  X, y, train_size=0.7, random_state=42, shuffle=True)\n",
        "y_test = y_test[X_test.argsort()]\n",
        "X_test.sort()"
      ]
    },
    {
      "cell_type": "code",
      "source": [
        "X_train.shape, y_train.shape"
      ],
      "metadata": {
        "colab": {
          "base_uri": "https://localhost:8080/"
        },
        "outputId": "06701918-1531-4915-b71e-1ca18eed71f5",
        "id": "GchM7B-RNera"
      },
      "execution_count": 33,
      "outputs": [
        {
          "output_type": "execute_result",
          "data": {
            "text/plain": [
              "((70,), (70,))"
            ]
          },
          "metadata": {},
          "execution_count": 33
        }
      ]
    },
    {
      "cell_type": "code",
      "source": [
        "plt.scatter(X_train, y_train, c=\"r\", alpha=0.5)\n",
        "plt.xlabel(\"X\")\n",
        "plt.ylabel(\"y\")\n",
        "plt.show()"
      ],
      "metadata": {
        "colab": {
          "base_uri": "https://localhost:8080/",
          "height": 0
        },
        "outputId": "58544e9d-188d-445f-8741-3708259c5a8b",
        "id": "dMOQHoNgNera"
      },
      "execution_count": 34,
      "outputs": [
        {
          "output_type": "display_data",
          "data": {
            "image/png": "[encoded data removed]",
            "text/plain": [
              "<Figure size 432x288 with 1 Axes>"
            ]
          },
          "metadata": {
            "needs_background": "light"
          }
        }
      ]
    },
    {
      "cell_type": "markdown",
      "source": [
        "Let's start with linear regression\n"
      ],
      "metadata": {
        "id": "6Hv-kgCSNera"
      }
    },
    {
      "cell_type": "code",
      "source": [
        "reg = make_pipeline(PolynomialFeatures(5), LinearRegression())\n",
        "reg.fit(X_train.reshape(-1, 1), y_train)\n",
        "y_test_pred = reg.predict(X_test.reshape(-1, 1))\n",
        "\n",
        "print(\"The MAE is: \", mean_absolute_error(y_test, y_test_pred))\n",
        "print(\"The MSE is: \", mean_squared_error(y_test, y_test_pred))\n",
        "print(\"The R2 is: \", r2_score(y_test, y_test_pred))"
      ],
      "metadata": {
        "colab": {
          "base_uri": "https://localhost:8080/"
        },
        "outputId": "84f8e344-7073-450a-a605-fb67bf4ddda0",
        "id": "qkiqfcRvNera"
      },
      "execution_count": 35,
      "outputs": [
        {
          "output_type": "stream",
          "name": "stdout",
          "text": [
            "The MAE is:  40.285696198521705\n",
            "The MSE is:  2627.6575411543326\n",
            "The R2 is:  0.8458424460414504\n"
          ]
        }
      ]
    },
    {
      "cell_type": "code",
      "source": [
        "plt.plot(X_test, y_test_pred, '-b')\n",
        "plt.scatter(X_train, y_train, c=\"r\", alpha=0.5)\n",
        "plt.xlabel(\"X\")\n",
        "plt.ylabel(\"y\")\n",
        "plt.title(\"OLS poly regression\")\n",
        "plt.show()"
      ],
      "metadata": {
        "colab": {
          "base_uri": "https://localhost:8080/",
          "height": 0
        },
        "outputId": "b6855b87-a627-4ca0-81e5-daaab71b3083",
        "id": "WMR6IWJWNera"
      },
      "execution_count": 36,
      "outputs": [
        {
          "output_type": "display_data",
          "data": {
            "image/png": "[encoded data removed]",
            "text/plain": [
              "<Figure size 432x288 with 1 Axes>"
            ]
          },
          "metadata": {
            "needs_background": "light"
          }
        }
      ]
    },
    {
      "cell_type": "markdown",
      "source": [
        "Epsilon-Support Vector Regression.\n",
        "\n"
      ],
      "metadata": {
        "id": "mYH2WiWhNerb"
      }
    },
    {
      "cell_type": "code",
      "source": [
        "from sklearn.svm import SVR\n",
        "\n",
        "reg = make_pipeline(PolynomialFeatures(5), SVR())\n",
        "reg.fit(X_train.reshape(-1, 1), y_train)\n",
        "y_test_pred = reg.predict(X_test.reshape(-1, 1))\n",
        "\n",
        "print(\"The MAE is: \", mean_absolute_error(y_test, y_test_pred))\n",
        "print(\"The MSE is: \", mean_squared_error(y_test, y_test_pred))\n",
        "print(\"The R2 is: \", r2_score(y_test, y_test_pred))"
      ],
      "metadata": {
        "colab": {
          "base_uri": "https://localhost:8080/"
        },
        "outputId": "28e26a23-3d47-4190-ca92-6d22f3e28a51",
        "id": "5bHUE9bUNerb"
      },
      "execution_count": 37,
      "outputs": [
        {
          "output_type": "stream",
          "name": "stdout",
          "text": [
            "The MAE is:  99.35829647066605\n",
            "The MSE is:  15371.064487161499\n",
            "The R2 is:  0.09822126134481324\n"
          ]
        }
      ]
    },
    {
      "cell_type": "code",
      "source": [
        "plt.plot(X_test, y_test_pred, '-b')\n",
        "plt.scatter(X_train, y_train, c=\"r\", alpha=0.5)\n",
        "plt.xlabel(\"X\")\n",
        "plt.ylabel(\"y\")\n",
        "plt.title(\"SVR poly regression\")\n",
        "plt.show()"
      ],
      "metadata": {
        "colab": {
          "base_uri": "https://localhost:8080/",
          "height": 0
        },
        "outputId": "ae676cd9-fd61-4764-94db-16f47e388c98",
        "id": "UePaxw7nNerb"
      },
      "execution_count": 38,
      "outputs": [
        {
          "output_type": "display_data",
          "data": {
            "image/png": "[encoded data removed]",
            "text/plain": [
              "<Figure size 432x288 with 1 Axes>"
            ]
          },
          "metadata": {
            "needs_background": "light"
          }
        }
      ]
    },
    {
      "cell_type": "markdown",
      "source": [
        "Ridge Regression."
      ],
      "metadata": {
        "id": "0GzOGoRsNerb"
      }
    },
    {
      "cell_type": "code",
      "source": [
        "from sklearn.linear_model import Ridge\n",
        "\n",
        "reg = make_pipeline(PolynomialFeatures(5), Ridge())\n",
        "reg.fit(X_train.reshape(-1, 1), y_train)\n",
        "y_test_pred = reg.predict(X_test.reshape(-1, 1))\n",
        "\n",
        "print(\"The MAE is: \", mean_absolute_error(y_test, y_test_pred))\n",
        "print(\"The MSE is: \", mean_squared_error(y_test, y_test_pred))\n",
        "print(\"The R2 is: \", r2_score(y_test, y_test_pred))"
      ],
      "metadata": {
        "colab": {
          "base_uri": "https://localhost:8080/"
        },
        "outputId": "42fd46b1-691c-4fa1-b610-4dac8e95da4a",
        "id": "PQe8DEIhNerb"
      },
      "execution_count": 39,
      "outputs": [
        {
          "output_type": "stream",
          "name": "stdout",
          "text": [
            "The MAE is:  40.28575453274994\n",
            "The MSE is:  2627.662952362961\n",
            "The R2 is:  0.8458421285804902\n"
          ]
        }
      ]
    },
    {
      "cell_type": "code",
      "source": [
        "plt.plot(X_test, y_test_pred, '-b')\n",
        "plt.scatter(X_train, y_train, c=\"r\", alpha=0.5)\n",
        "plt.xlabel(\"X\")\n",
        "plt.ylabel(\"y\")\n",
        "plt.title(\"Ridge poly regression\")\n",
        "plt.show()"
      ],
      "metadata": {
        "colab": {
          "base_uri": "https://localhost:8080/",
          "height": 0
        },
        "outputId": "e5d36f27-0bd1-49cf-aea8-bc6d9e43e330",
        "id": "Li8_AT8oNerb"
      },
      "execution_count": 40,
      "outputs": [
        {
          "output_type": "display_data",
          "data": {
            "image/png": "[encoded data removed]",
            "text/plain": [
              "<Figure size 432x288 with 1 Axes>"
            ]
          },
          "metadata": {
            "needs_background": "light"
          }
        }
      ]
    },
    {
      "cell_type": "markdown",
      "source": [
        "MLP Regression; it optimizes the squared error using LBFGS or stochastic gradient descent\n"
      ],
      "metadata": {
        "id": "wvzCCru5Nerb"
      }
    },
    {
      "cell_type": "code",
      "source": [
        "from sklearn.neural_network import MLPRegressor\n",
        "\n",
        "reg = make_pipeline(PolynomialFeatures(5), MLPRegressor(random_state=1, max_iter=50))\n",
        "reg.fit(X_train.reshape(-1, 1), y_train)\n",
        "y_test_pred = reg.predict(X_test.reshape(-1, 1))\n",
        "\n",
        "print(\"The MAE is: \", mean_absolute_error(y_test, y_test_pred))\n",
        "print(\"The MSE is: \", mean_squared_error(y_test, y_test_pred))\n",
        "print(\"The R2 is: \", r2_score(y_test, y_test_pred))"
      ],
      "metadata": {
        "colab": {
          "base_uri": "https://localhost:8080/"
        },
        "outputId": "7c6ab93d-92cf-4f09-8890-7cc6de0276b7",
        "id": "X4o2gvA1Nerb"
      },
      "execution_count": 41,
      "outputs": [
        {
          "output_type": "stream",
          "name": "stdout",
          "text": [
            "The MAE is:  6294.734966614691\n",
            "The MSE is:  145666463.49554384\n",
            "The R2 is:  -8544.857043608745\n"
          ]
        }
      ]
    },
    {
      "cell_type": "code",
      "source": [
        "plt.plot(X_test, y_test_pred, '-b')\n",
        "plt.scatter(X_train, y_train, c=\"r\", alpha=0.5)\n",
        "plt.xlabel(\"X\")\n",
        "plt.ylabel(\"y\")\n",
        "plt.title(\"MLP poly regression\")\n",
        "plt.show()"
      ],
      "metadata": {
        "colab": {
          "base_uri": "https://localhost:8080/",
          "height": 0
        },
        "outputId": "49cc8430-b450-4cac-c3a7-5033ee38ad46",
        "id": "0EylZE9LNerc"
      },
      "execution_count": 42,
      "outputs": [
        {
          "output_type": "display_data",
          "data": {
            "image/png": "[encoded data removed]",
            "text/plain": [
              "<Figure size 432x288 with 1 Axes>"
            ]
          },
          "metadata": {
            "needs_background": "light"
          }
        }
      ]
    },
    {
      "cell_type": "markdown",
      "source": [
        "RF Regressor\n"
      ],
      "metadata": {
        "id": "8Ekm7NSRNerc"
      }
    },
    {
      "cell_type": "code",
      "source": [
        "from sklearn.ensemble import RandomForestRegressor\n",
        "\n",
        "reg = make_pipeline(PolynomialFeatures(5), RandomForestRegressor())\n",
        "reg.fit(X_train.reshape(-1, 1), y_train)\n",
        "y_test_pred = reg.predict(X_test.reshape(-1, 1))\n",
        "\n",
        "print(\"The MAE is: \", mean_absolute_error(y_test, y_test_pred))\n",
        "print(\"The MSE is: \", mean_squared_error(y_test, y_test_pred))\n",
        "print(\"The R2 is: \", r2_score(y_test, y_test_pred))"
      ],
      "metadata": {
        "colab": {
          "base_uri": "https://localhost:8080/"
        },
        "outputId": "563ae3b6-3605-46a1-aa67-82e38787f630",
        "id": "VWj2Je7dNerc"
      },
      "execution_count": 43,
      "outputs": [
        {
          "output_type": "stream",
          "name": "stdout",
          "text": [
            "The MAE is:  49.020821115164686\n",
            "The MSE is:  3643.9652126148267\n",
            "The R2 is:  0.7862184264544715\n"
          ]
        }
      ]
    },
    {
      "cell_type": "code",
      "source": [
        "plt.plot(X_test, y_test_pred, '-b')\n",
        "plt.scatter(X_train, y_train, c=\"r\", alpha=0.5)\n",
        "plt.xlabel(\"X\")\n",
        "plt.ylabel(\"y\")\n",
        "plt.title(\"RF poly regression\")\n",
        "plt.show()"
      ],
      "metadata": {
        "colab": {
          "base_uri": "https://localhost:8080/",
          "height": 0
        },
        "outputId": "593e8103-0245-4e5c-f3a8-89c4721a8ce4",
        "id": "Z-JzvnXWNerc"
      },
      "execution_count": 44,
      "outputs": [
        {
          "output_type": "display_data",
          "data": {
            "image/png": "[encoded data removed]",
            "text/plain": [
              "<Figure size 432x288 with 1 Axes>"
            ]
          },
          "metadata": {
            "needs_background": "light"
          }
        }
      ]
    },
    {
      "cell_type": "markdown",
      "source": [
        "Most performing with f1:\n",
        "\n",
        "\n",
        "1.   Ridge Linear regression 0.116\n",
        "\n",
        "\n",
        "2.   SVR -0.017490228542584196\n",
        "\n",
        "Most performing with f2:\n",
        "\n",
        "\n",
        "\n",
        "1.   Ridge OLS 0.7892812601912894\n",
        "2.   RF 0.67\n",
        "\n",
        "\n",
        "Most performing with f3:\n",
        "\n",
        "\n",
        "\n",
        "1.   RF: 0.989\n",
        "2.  Ridge: 0.94\n",
        "\n",
        "\n",
        "\n"
      ],
      "metadata": {
        "id": "dgFoln7XNerc"
      }
    },
    {
      "cell_type": "markdown",
      "source": [
        "# 2 - Multivariate regression on synthetic data"
      ],
      "metadata": {
        "id": "KlKV_EXjl-zj"
      }
    },
    {
      "cell_type": "markdown",
      "source": [
        ""
      ],
      "metadata": {
        "id": "6W11eTDEnT1i"
      }
    },
    {
      "cell_type": "code",
      "source": [
        "from sklearn.datasets import make_regression\n",
        "from sklearn.pipeline import make_pipeline\n",
        "from sklearn.preprocessing import PolynomialFeatures, FunctionTransformer\n",
        "from sklearn.compose import make_column_transformer\n",
        "import pandas as pd\n",
        "import seaborn as sns\n",
        "from prettytable import PrettyTable"
      ],
      "metadata": {
        "id": "59V8VpCFqPMf"
      },
      "execution_count": 45,
      "outputs": []
    },
    {
      "cell_type": "code",
      "source": [
        "models = [\n",
        "  LinearRegression(),\n",
        "  Ridge(random_state=42),\n",
        "  MLPRegressor(hidden_layer_sizes=(10,), random_state=42, max_iter=10000),\n",
        "  MLPRegressor(hidden_layer_sizes=(10,10), activation='tanh', solver='lbfgs',\n",
        "    alpha=0.000, batch_size='auto', learning_rate='constant',\n",
        "    learning_rate_init=0.01, power_t=0.5, max_iter=10000,\n",
        "    shuffle=True, random_state=42, tol=0.0001, verbose=True, warm_start=False,\n",
        "    momentum=0.0, nesterovs_momentum=False, early_stopping=False, \n",
        "    validation_fraction=0.0, beta_1=0.9, beta_2=0.999, epsilon=1e-08),\n",
        "  SVR(gamma='scale'),\n",
        "  RandomForestRegressor(n_estimators=300), \n",
        "  make_pipeline(\n",
        "  make_column_transformer(\n",
        "    (FunctionTransformer(np.sin), [0]),\n",
        "    (PolynomialFeatures(5), [0])\n",
        "    ),\n",
        "\n",
        "  LinearRegression()),\n",
        "  make_pipeline(\n",
        "  make_column_transformer(\n",
        "    (FunctionTransformer(np.sin), [0]),\n",
        "    (PolynomialFeatures(5), [0])\n",
        "    ),\n",
        "  Ridge(alpha=1)\n",
        "  )\n",
        "]\n",
        "\n",
        "\"\"\"\"\"\"\n",
        "\n",
        "\n",
        "\n",
        "names = [\n",
        "  'linreg',\n",
        "  'ridge',\n",
        "  'mlp_standard',\n",
        "  'mlp_tuned',\n",
        "  'svr',\n",
        "  'rf',\n",
        "  f'sin+poly{5}+linreg',\n",
        "  f'sin+poly{5}+ridge'\n",
        "]"
      ],
      "metadata": {
        "id": "W6Tn4lnpDDPC"
      },
      "execution_count": 46,
      "outputs": []
    },
    {
      "cell_type": "code",
      "source": [
        "X, y = make_regression(n_samples=2000, random_state=42)\n",
        "t = PrettyTable()\n",
        "t.field_names = ['model', 'MSE', 'R2']\n",
        "for model, name in zip(models, names):\n",
        "  X_train, X_test, y_train, y_test = train_test_split(X, y,\n",
        "    train_size=.7,\n",
        "    random_state=42,\n",
        "    shuffle=True)\n",
        "  model.fit(X_train, y_train)\n",
        "  y_hat = model.predict(X_test)\n",
        "  mse = mean_squared_error(y_test, y_hat)\n",
        "  r2 = r2_score(y_test, y_hat)\n",
        "  t.add_row([name, mse, r2])\n",
        "print(t)"
      ],
      "metadata": {
        "colab": {
          "base_uri": "https://localhost:8080/"
        },
        "id": "1IXj0UtfZ1A-",
        "outputId": "93b4e84f-1dac-489f-ae99-b461a8308d58"
      },
      "execution_count": 47,
      "outputs": [
        {
          "output_type": "stream",
          "name": "stderr",
          "text": [
            "/usr/local/lib/python3.7/dist-packages/sklearn/neural_network/_multilayer_perceptron.py:549: ConvergenceWarning: lbfgs failed to converge (status=1):\n",
            "STOP: TOTAL NO. of ITERATIONS REACHED LIMIT.\n",
            "\n",
            "Increase the number of iterations (max_iter) or scale the data as shown in:\n",
            "    https://scikit-learn.org/stable/modules/preprocessing.html\n",
            "  self.n_iter_ = _check_optimize_result(\"lbfgs\", opt_res, self.max_iter)\n"
          ]
        },
        {
          "output_type": "stream",
          "name": "stdout",
          "text": [
            "+------------------+-----------------------+-----------------------+\n",
            "|      model       |          MSE          |           R2          |\n",
            "+------------------+-----------------------+-----------------------+\n",
            "|      linreg      | 1.970468288251995e-25 |          1.0          |\n",
            "|      ridge       |  0.02658922121774335  |   0.9999993361938854  |\n",
            "|   mlp_standard   |   59.67097245363082   |   0.998510300243291   |\n",
            "|    mlp_tuned     |   8701.989031249814   |   0.7827528124699124  |\n",
            "|       svr        |   38892.56762703369   |  0.029037970232504096 |\n",
            "|        rf        |   10680.858421874182  |   0.7333498761919315  |\n",
            "| sin+poly5+linreg |   40959.662185694775  | -0.022567527960518863 |\n",
            "| sin+poly5+ridge  |   40620.548993992896  | -0.014101487968165127 |\n",
            "+------------------+-----------------------+-----------------------+\n"
          ]
        }
      ]
    },
    {
      "cell_type": "code",
      "source": [
        "df = pd.DataFrame(X)\n",
        "ax = sns.heatmap(df.corr())"
      ],
      "metadata": {
        "colab": {
          "base_uri": "https://localhost:8080/",
          "height": 272
        },
        "id": "L0f6yelytDTP",
        "outputId": "9f7adb11-254d-41e1-fb79-83d473f3c6fb"
      },
      "execution_count": 48,
      "outputs": [
        {
          "output_type": "display_data",
          "data": {
            "image/png": "[encoded data removed]",
            "text/plain": [
              "<Figure size 432x288 with 2 Axes>"
            ]
          },
          "metadata": {
            "needs_background": "light"
          }
        }
      ]
    },
    {
      "cell_type": "code",
      "source": [
        ""
      ],
      "metadata": {
        "id": "JcIlLDyBa2cN"
      },
      "execution_count": 48,
      "outputs": []
    },
    {
      "cell_type": "markdown",
      "source": [
        "Let's try to increase the number of informative features as well as we add a bit of noise:"
      ],
      "metadata": {
        "id": "EX2XpFVShxo4"
      }
    },
    {
      "cell_type": "code",
      "source": [
        "X, y = make_regression(n_samples=2000, random_state=42, noise=10,\n",
        "n_informative=70)\n",
        "t = PrettyTable()\n",
        "t.field_names = ['model', 'MSE', 'R2']\n",
        "for model, name in zip(models, names):\n",
        "  X_train, X_test, y_train, y_test = train_test_split(X, y,\n",
        "    train_size=.7,\n",
        "    random_state=42,\n",
        "    shuffle=True)\n",
        "  model.fit(X_train, y_train)\n",
        "  y_hat = model.predict(X_test)\n",
        "  mse = mean_squared_error(y_test, y_hat)\n",
        "  r2 = r2_score(y_test, y_hat)\n",
        "  t.add_row([name, mse, r2])\n",
        "print(t)"
      ],
      "metadata": {
        "colab": {
          "base_uri": "https://localhost:8080/"
        },
        "id": "wJmD_E4ih4Dz",
        "outputId": "79816744-5b01-4a3e-b39f-7c13d5612f85"
      },
      "execution_count": 49,
      "outputs": [
        {
          "output_type": "stream",
          "name": "stderr",
          "text": [
            "/usr/local/lib/python3.7/dist-packages/sklearn/neural_network/_multilayer_perceptron.py:549: ConvergenceWarning: lbfgs failed to converge (status=1):\n",
            "STOP: TOTAL NO. of ITERATIONS REACHED LIMIT.\n",
            "\n",
            "Increase the number of iterations (max_iter) or scale the data as shown in:\n",
            "    https://scikit-learn.org/stable/modules/preprocessing.html\n",
            "  self.n_iter_ = _check_optimize_result(\"lbfgs\", opt_res, self.max_iter)\n"
          ]
        },
        {
          "output_type": "stream",
          "name": "stdout",
          "text": [
            "+------------------+--------------------+----------------------+\n",
            "|      model       |        MSE         |          R2          |\n",
            "+------------------+--------------------+----------------------+\n",
            "|      linreg      | 99.92193369275128  |  0.9996581789295267  |\n",
            "|      ridge       | 100.17526177647626 |  0.9996573123242324  |\n",
            "|   mlp_standard   | 151.29645197246361 |  0.9994824328026811  |\n",
            "|    mlp_tuned     | 69734.85341234905  |  0.7614453467643892  |\n",
            "|       svr        | 288970.03486527514 | 0.011467822909904779 |\n",
            "|        rf        | 193146.14710481738 |  0.3392699648491039  |\n",
            "| sin+poly5+linreg | 287344.5310564188  | 0.01702847842834354  |\n",
            "| sin+poly5+ridge  | 287575.8006801805  | 0.016237332506315427 |\n",
            "+------------------+--------------------+----------------------+\n"
          ]
        }
      ]
    },
    {
      "cell_type": "code",
      "source": [
        ""
      ],
      "metadata": {
        "id": "bK2GCrlMh83_"
      },
      "execution_count": 49,
      "outputs": []
    },
    {
      "cell_type": "markdown",
      "source": [
        "# 3 - WW2 Whether"
      ],
      "metadata": {
        "id": "yp0C6da2h-WL"
      }
    },
    {
      "cell_type": "code",
      "source": [
        "y\n",
        "!wget https://github.com/dbdmg/data-science-lab/raw/master/datasets/weatherww2.zip"
      ],
      "metadata": {
        "colab": {
          "base_uri": "https://localhost:8080/"
        },
        "id": "tVU2JVq0iD4E",
        "outputId": "bb81ae73-c585-4566-a202-be0f2909320c"
      },
      "execution_count": 50,
      "outputs": [
        {
          "output_type": "stream",
          "name": "stdout",
          "text": [
            "--2021-12-16 14:28:28--  https://github.com/dbdmg/data-science-lab/raw/master/datasets/weatherww2.zip\n",
            "Resolving github.com (github.com)... 140.82.114.4\n",
            "Connecting to github.com (github.com)|140.82.114.4|:443... connected.\n",
            "HTTP request sent, awaiting response... 302 Found\n",
            "Location: https://raw.githubusercontent.com/dbdmg/data-science-lab/master/datasets/weatherww2.zip [following]\n",
            "--2021-12-16 14:28:29--  https://raw.githubusercontent.com/dbdmg/data-science-lab/master/datasets/weatherww2.zip\n",
            "Resolving raw.githubusercontent.com (raw.githubusercontent.com)... 185.199.108.133, 185.199.109.133, 185.199.110.133, ...\n",
            "Connecting to raw.githubusercontent.com (raw.githubusercontent.com)|185.199.108.133|:443... connected.\n",
            "HTTP request sent, awaiting response... 200 OK\n",
            "Length: 1693231 (1.6M) [application/zip]\n",
            "Saving to: ‘weatherww2.zip’\n",
            "\n",
            "weatherww2.zip      100%[===================>]   1.61M  --.-KB/s    in 0.04s   \n",
            "\n",
            "2021-12-16 14:28:29 (43.6 MB/s) - ‘weatherww2.zip’ saved [1693231/1693231]\n",
            "\n"
          ]
        }
      ]
    },
    {
      "cell_type": "code",
      "source": [
        "!unzip \"/content/weatherww2.zip\""
      ],
      "metadata": {
        "colab": {
          "base_uri": "https://localhost:8080/"
        },
        "id": "c4Up2LPxlW1R",
        "outputId": "474a601f-e216-4930-d03d-7f9f57a33543"
      },
      "execution_count": 51,
      "outputs": [
        {
          "output_type": "stream",
          "name": "stdout",
          "text": [
            "Archive:  /content/weatherww2.zip\n",
            "   creating: weatherww2/\n",
            "  inflating: __MACOSX/._weatherww2   \n",
            "  inflating: weatherww2/WeatherStationLocations.csv  \n",
            "  inflating: __MACOSX/weatherww2/._WeatherStationLocations.csv  \n",
            "  inflating: weatherww2/SummaryofWeather.csv  \n",
            "  inflating: __MACOSX/weatherww2/._SummaryofWeather.csv  \n"
          ]
        }
      ]
    },
    {
      "cell_type": "code",
      "source": [
        "df = pd.read_csv(\"/content/weatherww2/SummaryofWeather.csv\")"
      ],
      "metadata": {
        "colab": {
          "base_uri": "https://localhost:8080/"
        },
        "id": "T-z9_PYTlacA",
        "outputId": "26b1ea2d-a961-4f1a-9f52-b590c14a7b0d"
      },
      "execution_count": 52,
      "outputs": [
        {
          "output_type": "stream",
          "name": "stderr",
          "text": [
            "/usr/local/lib/python3.7/dist-packages/IPython/core/interactiveshell.py:2718: DtypeWarning: Columns (7,8,18,25) have mixed types.Specify dtype option on import or set low_memory=False.\n",
            "  interactivity=interactivity, compiler=compiler, result=result)\n"
          ]
        }
      ]
    },
    {
      "cell_type": "code",
      "source": [
        "df.info()"
      ],
      "metadata": {
        "colab": {
          "base_uri": "https://localhost:8080/"
        },
        "id": "cSYdOnlZ6gTK",
        "outputId": "ce03e594-b948-44d1-ff69-d37586cf491a"
      },
      "execution_count": 53,
      "outputs": [
        {
          "output_type": "stream",
          "name": "stdout",
          "text": [
            "<class 'pandas.core.frame.DataFrame'>\n",
            "RangeIndex: 119040 entries, 0 to 119039\n",
            "Data columns (total 31 columns):\n",
            " #   Column       Non-Null Count   Dtype  \n",
            "---  ------       --------------   -----  \n",
            " 0   STA          119040 non-null  int64  \n",
            " 1   Date         119040 non-null  object \n",
            " 2   Precip       119040 non-null  object \n",
            " 3   WindGustSpd  532 non-null     float64\n",
            " 4   MaxTemp      119040 non-null  float64\n",
            " 5   MinTemp      119040 non-null  float64\n",
            " 6   MeanTemp     119040 non-null  float64\n",
            " 7   Snowfall     117877 non-null  object \n",
            " 8   PoorWeather  34237 non-null   object \n",
            " 9   YR           119040 non-null  int64  \n",
            " 10  MO           119040 non-null  int64  \n",
            " 11  DA           119040 non-null  int64  \n",
            " 12  PRCP         117108 non-null  object \n",
            " 13  DR           533 non-null     float64\n",
            " 14  SPD          532 non-null     float64\n",
            " 15  MAX          118566 non-null  float64\n",
            " 16  MIN          118572 non-null  float64\n",
            " 17  MEA          118542 non-null  float64\n",
            " 18  SNF          117877 non-null  object \n",
            " 19  SND          5563 non-null    float64\n",
            " 20  FT           0 non-null       float64\n",
            " 21  FB           0 non-null       float64\n",
            " 22  FTI          0 non-null       float64\n",
            " 23  ITH          0 non-null       float64\n",
            " 24  PGT          525 non-null     float64\n",
            " 25  TSHDSBRSGF   34237 non-null   object \n",
            " 26  SD3          0 non-null       float64\n",
            " 27  RHX          0 non-null       float64\n",
            " 28  RHN          0 non-null       float64\n",
            " 29  RVG          0 non-null       float64\n",
            " 30  WTE          0 non-null       float64\n",
            "dtypes: float64(20), int64(4), object(7)\n",
            "memory usage: 28.2+ MB\n"
          ]
        }
      ]
    },
    {
      "cell_type": "code",
      "source": [
        "df.head()"
      ],
      "metadata": {
        "colab": {
          "base_uri": "https://localhost:8080/",
          "height": 313
        },
        "id": "1XhzkqRi0Ug-",
        "outputId": "88af9399-cb80-446e-b03b-1e47f012a808"
      },
      "execution_count": 54,
      "outputs": [
        {
          "output_type": "execute_result",
          "data": {
            "text/html": [
              "<div>\n",
              "<style scoped>\n",
              "    .dataframe tbody tr th:only-of-type {\n",
              "        vertical-align: middle;\n",
              "    }\n",
              "\n",
              "    .dataframe tbody tr th {\n",
              "        vertical-align: top;\n",
              "    }\n",
              "\n",
              "    .dataframe thead th {\n",
              "        text-align: right;\n",
              "    }\n",
              "</style>\n",
              "<table border=\"1\" class=\"dataframe\">\n",
              "  <thead>\n",
              "    <tr style=\"text-align: right;\">\n",
              "      <th></th>\n",
              "      <th>STA</th>\n",
              "      <th>Date</th>\n",
              "      <th>Precip</th>\n",
              "      <th>WindGustSpd</th>\n",
              "      <th>MaxTemp</th>\n",
              "      <th>MinTemp</th>\n",
              "      <th>MeanTemp</th>\n",
              "      <th>Snowfall</th>\n",
              "      <th>PoorWeather</th>\n",
              "      <th>YR</th>\n",
              "      <th>MO</th>\n",
              "      <th>DA</th>\n",
              "      <th>PRCP</th>\n",
              "      <th>DR</th>\n",
              "      <th>SPD</th>\n",
              "      <th>MAX</th>\n",
              "      <th>MIN</th>\n",
              "      <th>MEA</th>\n",
              "      <th>SNF</th>\n",
              "      <th>SND</th>\n",
              "      <th>FT</th>\n",
              "      <th>FB</th>\n",
              "      <th>FTI</th>\n",
              "      <th>ITH</th>\n",
              "      <th>PGT</th>\n",
              "      <th>TSHDSBRSGF</th>\n",
              "      <th>SD3</th>\n",
              "      <th>RHX</th>\n",
              "      <th>RHN</th>\n",
              "      <th>RVG</th>\n",
              "      <th>WTE</th>\n",
              "    </tr>\n",
              "  </thead>\n",
              "  <tbody>\n",
              "    <tr>\n",
              "      <th>0</th>\n",
              "      <td>10001</td>\n",
              "      <td>1942-7-1</td>\n",
              "      <td>1.016</td>\n",
              "      <td>NaN</td>\n",
              "      <td>25.555556</td>\n",
              "      <td>22.222222</td>\n",
              "      <td>23.888889</td>\n",
              "      <td>0</td>\n",
              "      <td>NaN</td>\n",
              "      <td>42</td>\n",
              "      <td>7</td>\n",
              "      <td>1</td>\n",
              "      <td>0.04</td>\n",
              "      <td>NaN</td>\n",
              "      <td>NaN</td>\n",
              "      <td>78.0</td>\n",
              "      <td>72.0</td>\n",
              "      <td>75.0</td>\n",
              "      <td>0</td>\n",
              "      <td>NaN</td>\n",
              "      <td>NaN</td>\n",
              "      <td>NaN</td>\n",
              "      <td>NaN</td>\n",
              "      <td>NaN</td>\n",
              "      <td>NaN</td>\n",
              "      <td>NaN</td>\n",
              "      <td>NaN</td>\n",
              "      <td>NaN</td>\n",
              "      <td>NaN</td>\n",
              "      <td>NaN</td>\n",
              "      <td>NaN</td>\n",
              "    </tr>\n",
              "    <tr>\n",
              "      <th>1</th>\n",
              "      <td>10001</td>\n",
              "      <td>1942-7-2</td>\n",
              "      <td>0</td>\n",
              "      <td>NaN</td>\n",
              "      <td>28.888889</td>\n",
              "      <td>21.666667</td>\n",
              "      <td>25.555556</td>\n",
              "      <td>0</td>\n",
              "      <td>NaN</td>\n",
              "      <td>42</td>\n",
              "      <td>7</td>\n",
              "      <td>2</td>\n",
              "      <td>0</td>\n",
              "      <td>NaN</td>\n",
              "      <td>NaN</td>\n",
              "      <td>84.0</td>\n",
              "      <td>71.0</td>\n",
              "      <td>78.0</td>\n",
              "      <td>0</td>\n",
              "      <td>NaN</td>\n",
              "      <td>NaN</td>\n",
              "      <td>NaN</td>\n",
              "      <td>NaN</td>\n",
              "      <td>NaN</td>\n",
              "      <td>NaN</td>\n",
              "      <td>NaN</td>\n",
              "      <td>NaN</td>\n",
              "      <td>NaN</td>\n",
              "      <td>NaN</td>\n",
              "      <td>NaN</td>\n",
              "      <td>NaN</td>\n",
              "    </tr>\n",
              "    <tr>\n",
              "      <th>2</th>\n",
              "      <td>10001</td>\n",
              "      <td>1942-7-3</td>\n",
              "      <td>2.54</td>\n",
              "      <td>NaN</td>\n",
              "      <td>26.111111</td>\n",
              "      <td>22.222222</td>\n",
              "      <td>24.444444</td>\n",
              "      <td>0</td>\n",
              "      <td>NaN</td>\n",
              "      <td>42</td>\n",
              "      <td>7</td>\n",
              "      <td>3</td>\n",
              "      <td>0.1</td>\n",
              "      <td>NaN</td>\n",
              "      <td>NaN</td>\n",
              "      <td>79.0</td>\n",
              "      <td>72.0</td>\n",
              "      <td>76.0</td>\n",
              "      <td>0</td>\n",
              "      <td>NaN</td>\n",
              "      <td>NaN</td>\n",
              "      <td>NaN</td>\n",
              "      <td>NaN</td>\n",
              "      <td>NaN</td>\n",
              "      <td>NaN</td>\n",
              "      <td>NaN</td>\n",
              "      <td>NaN</td>\n",
              "      <td>NaN</td>\n",
              "      <td>NaN</td>\n",
              "      <td>NaN</td>\n",
              "      <td>NaN</td>\n",
              "    </tr>\n",
              "    <tr>\n",
              "      <th>3</th>\n",
              "      <td>10001</td>\n",
              "      <td>1942-7-4</td>\n",
              "      <td>2.54</td>\n",
              "      <td>NaN</td>\n",
              "      <td>26.666667</td>\n",
              "      <td>22.222222</td>\n",
              "      <td>24.444444</td>\n",
              "      <td>0</td>\n",
              "      <td>NaN</td>\n",
              "      <td>42</td>\n",
              "      <td>7</td>\n",
              "      <td>4</td>\n",
              "      <td>0.1</td>\n",
              "      <td>NaN</td>\n",
              "      <td>NaN</td>\n",
              "      <td>80.0</td>\n",
              "      <td>72.0</td>\n",
              "      <td>76.0</td>\n",
              "      <td>0</td>\n",
              "      <td>NaN</td>\n",
              "      <td>NaN</td>\n",
              "      <td>NaN</td>\n",
              "      <td>NaN</td>\n",
              "      <td>NaN</td>\n",
              "      <td>NaN</td>\n",
              "      <td>NaN</td>\n",
              "      <td>NaN</td>\n",
              "      <td>NaN</td>\n",
              "      <td>NaN</td>\n",
              "      <td>NaN</td>\n",
              "      <td>NaN</td>\n",
              "    </tr>\n",
              "    <tr>\n",
              "      <th>4</th>\n",
              "      <td>10001</td>\n",
              "      <td>1942-7-5</td>\n",
              "      <td>0</td>\n",
              "      <td>NaN</td>\n",
              "      <td>26.666667</td>\n",
              "      <td>21.666667</td>\n",
              "      <td>24.444444</td>\n",
              "      <td>0</td>\n",
              "      <td>NaN</td>\n",
              "      <td>42</td>\n",
              "      <td>7</td>\n",
              "      <td>5</td>\n",
              "      <td>0</td>\n",
              "      <td>NaN</td>\n",
              "      <td>NaN</td>\n",
              "      <td>80.0</td>\n",
              "      <td>71.0</td>\n",
              "      <td>76.0</td>\n",
              "      <td>0</td>\n",
              "      <td>NaN</td>\n",
              "      <td>NaN</td>\n",
              "      <td>NaN</td>\n",
              "      <td>NaN</td>\n",
              "      <td>NaN</td>\n",
              "      <td>NaN</td>\n",
              "      <td>NaN</td>\n",
              "      <td>NaN</td>\n",
              "      <td>NaN</td>\n",
              "      <td>NaN</td>\n",
              "      <td>NaN</td>\n",
              "      <td>NaN</td>\n",
              "    </tr>\n",
              "  </tbody>\n",
              "</table>\n",
              "</div>"
            ],
            "text/plain": [
              "     STA      Date Precip  WindGustSpd    MaxTemp  ...  SD3  RHX RHN RVG  WTE\n",
              "0  10001  1942-7-1  1.016          NaN  25.555556  ...  NaN  NaN NaN NaN  NaN\n",
              "1  10001  1942-7-2      0          NaN  28.888889  ...  NaN  NaN NaN NaN  NaN\n",
              "2  10001  1942-7-3   2.54          NaN  26.111111  ...  NaN  NaN NaN NaN  NaN\n",
              "3  10001  1942-7-4   2.54          NaN  26.666667  ...  NaN  NaN NaN NaN  NaN\n",
              "4  10001  1942-7-5      0          NaN  26.666667  ...  NaN  NaN NaN NaN  NaN\n",
              "\n",
              "[5 rows x 31 columns]"
            ]
          },
          "metadata": {},
          "execution_count": 54
        }
      ]
    },
    {
      "cell_type": "code",
      "source": [
        "df.describe()"
      ],
      "metadata": {
        "colab": {
          "base_uri": "https://localhost:8080/",
          "height": 320
        },
        "id": "FIgUixG_0XwO",
        "outputId": "56160d0a-6802-48ac-8fd6-a55daf265fa2"
      },
      "execution_count": 55,
      "outputs": [
        {
          "output_type": "execute_result",
          "data": {
            "text/html": [
              "<div>\n",
              "<style scoped>\n",
              "    .dataframe tbody tr th:only-of-type {\n",
              "        vertical-align: middle;\n",
              "    }\n",
              "\n",
              "    .dataframe tbody tr th {\n",
              "        vertical-align: top;\n",
              "    }\n",
              "\n",
              "    .dataframe thead th {\n",
              "        text-align: right;\n",
              "    }\n",
              "</style>\n",
              "<table border=\"1\" class=\"dataframe\">\n",
              "  <thead>\n",
              "    <tr style=\"text-align: right;\">\n",
              "      <th></th>\n",
              "      <th>STA</th>\n",
              "      <th>WindGustSpd</th>\n",
              "      <th>MaxTemp</th>\n",
              "      <th>MinTemp</th>\n",
              "      <th>MeanTemp</th>\n",
              "      <th>YR</th>\n",
              "      <th>MO</th>\n",
              "      <th>DA</th>\n",
              "      <th>DR</th>\n",
              "      <th>SPD</th>\n",
              "      <th>MAX</th>\n",
              "      <th>MIN</th>\n",
              "      <th>MEA</th>\n",
              "      <th>SND</th>\n",
              "      <th>FT</th>\n",
              "      <th>FB</th>\n",
              "      <th>FTI</th>\n",
              "      <th>ITH</th>\n",
              "      <th>PGT</th>\n",
              "      <th>SD3</th>\n",
              "      <th>RHX</th>\n",
              "      <th>RHN</th>\n",
              "      <th>RVG</th>\n",
              "      <th>WTE</th>\n",
              "    </tr>\n",
              "  </thead>\n",
              "  <tbody>\n",
              "    <tr>\n",
              "      <th>count</th>\n",
              "      <td>119040.000000</td>\n",
              "      <td>532.000000</td>\n",
              "      <td>119040.000000</td>\n",
              "      <td>119040.000000</td>\n",
              "      <td>119040.000000</td>\n",
              "      <td>119040.000000</td>\n",
              "      <td>119040.000000</td>\n",
              "      <td>119040.000000</td>\n",
              "      <td>533.000000</td>\n",
              "      <td>532.000000</td>\n",
              "      <td>118566.000000</td>\n",
              "      <td>118572.000000</td>\n",
              "      <td>118542.000000</td>\n",
              "      <td>5563.0</td>\n",
              "      <td>0.0</td>\n",
              "      <td>0.0</td>\n",
              "      <td>0.0</td>\n",
              "      <td>0.0</td>\n",
              "      <td>525.000000</td>\n",
              "      <td>0.0</td>\n",
              "      <td>0.0</td>\n",
              "      <td>0.0</td>\n",
              "      <td>0.0</td>\n",
              "      <td>0.0</td>\n",
              "    </tr>\n",
              "    <tr>\n",
              "      <th>mean</th>\n",
              "      <td>29659.435795</td>\n",
              "      <td>37.774534</td>\n",
              "      <td>27.045111</td>\n",
              "      <td>17.789511</td>\n",
              "      <td>22.411631</td>\n",
              "      <td>43.805284</td>\n",
              "      <td>6.726016</td>\n",
              "      <td>15.797530</td>\n",
              "      <td>26.998124</td>\n",
              "      <td>20.396617</td>\n",
              "      <td>81.003745</td>\n",
              "      <td>64.273808</td>\n",
              "      <td>72.644843</td>\n",
              "      <td>0.0</td>\n",
              "      <td>NaN</td>\n",
              "      <td>NaN</td>\n",
              "      <td>NaN</td>\n",
              "      <td>NaN</td>\n",
              "      <td>12.085333</td>\n",
              "      <td>NaN</td>\n",
              "      <td>NaN</td>\n",
              "      <td>NaN</td>\n",
              "      <td>NaN</td>\n",
              "      <td>NaN</td>\n",
              "    </tr>\n",
              "    <tr>\n",
              "      <th>std</th>\n",
              "      <td>20953.209402</td>\n",
              "      <td>10.297808</td>\n",
              "      <td>8.717817</td>\n",
              "      <td>8.334572</td>\n",
              "      <td>8.297982</td>\n",
              "      <td>1.136718</td>\n",
              "      <td>3.425561</td>\n",
              "      <td>8.794541</td>\n",
              "      <td>15.221732</td>\n",
              "      <td>5.560371</td>\n",
              "      <td>14.869361</td>\n",
              "      <td>14.481498</td>\n",
              "      <td>14.211082</td>\n",
              "      <td>0.0</td>\n",
              "      <td>NaN</td>\n",
              "      <td>NaN</td>\n",
              "      <td>NaN</td>\n",
              "      <td>NaN</td>\n",
              "      <td>5.731328</td>\n",
              "      <td>NaN</td>\n",
              "      <td>NaN</td>\n",
              "      <td>NaN</td>\n",
              "      <td>NaN</td>\n",
              "      <td>NaN</td>\n",
              "    </tr>\n",
              "    <tr>\n",
              "      <th>min</th>\n",
              "      <td>10001.000000</td>\n",
              "      <td>18.520000</td>\n",
              "      <td>-33.333333</td>\n",
              "      <td>-38.333333</td>\n",
              "      <td>-35.555556</td>\n",
              "      <td>40.000000</td>\n",
              "      <td>1.000000</td>\n",
              "      <td>1.000000</td>\n",
              "      <td>2.000000</td>\n",
              "      <td>10.000000</td>\n",
              "      <td>-28.000000</td>\n",
              "      <td>-37.000000</td>\n",
              "      <td>-32.000000</td>\n",
              "      <td>0.0</td>\n",
              "      <td>NaN</td>\n",
              "      <td>NaN</td>\n",
              "      <td>NaN</td>\n",
              "      <td>NaN</td>\n",
              "      <td>0.000000</td>\n",
              "      <td>NaN</td>\n",
              "      <td>NaN</td>\n",
              "      <td>NaN</td>\n",
              "      <td>NaN</td>\n",
              "      <td>NaN</td>\n",
              "    </tr>\n",
              "    <tr>\n",
              "      <th>25%</th>\n",
              "      <td>11801.000000</td>\n",
              "      <td>29.632000</td>\n",
              "      <td>25.555556</td>\n",
              "      <td>15.000000</td>\n",
              "      <td>20.555556</td>\n",
              "      <td>43.000000</td>\n",
              "      <td>4.000000</td>\n",
              "      <td>8.000000</td>\n",
              "      <td>11.000000</td>\n",
              "      <td>16.000000</td>\n",
              "      <td>78.000000</td>\n",
              "      <td>59.000000</td>\n",
              "      <td>69.000000</td>\n",
              "      <td>0.0</td>\n",
              "      <td>NaN</td>\n",
              "      <td>NaN</td>\n",
              "      <td>NaN</td>\n",
              "      <td>NaN</td>\n",
              "      <td>8.500000</td>\n",
              "      <td>NaN</td>\n",
              "      <td>NaN</td>\n",
              "      <td>NaN</td>\n",
              "      <td>NaN</td>\n",
              "      <td>NaN</td>\n",
              "    </tr>\n",
              "    <tr>\n",
              "      <th>50%</th>\n",
              "      <td>22508.000000</td>\n",
              "      <td>37.040000</td>\n",
              "      <td>29.444444</td>\n",
              "      <td>21.111111</td>\n",
              "      <td>25.555556</td>\n",
              "      <td>44.000000</td>\n",
              "      <td>7.000000</td>\n",
              "      <td>16.000000</td>\n",
              "      <td>32.000000</td>\n",
              "      <td>20.000000</td>\n",
              "      <td>85.000000</td>\n",
              "      <td>70.000000</td>\n",
              "      <td>78.000000</td>\n",
              "      <td>0.0</td>\n",
              "      <td>NaN</td>\n",
              "      <td>NaN</td>\n",
              "      <td>NaN</td>\n",
              "      <td>NaN</td>\n",
              "      <td>11.600000</td>\n",
              "      <td>NaN</td>\n",
              "      <td>NaN</td>\n",
              "      <td>NaN</td>\n",
              "      <td>NaN</td>\n",
              "      <td>NaN</td>\n",
              "    </tr>\n",
              "    <tr>\n",
              "      <th>75%</th>\n",
              "      <td>33501.000000</td>\n",
              "      <td>43.059000</td>\n",
              "      <td>31.666667</td>\n",
              "      <td>23.333333</td>\n",
              "      <td>27.222222</td>\n",
              "      <td>45.000000</td>\n",
              "      <td>10.000000</td>\n",
              "      <td>23.000000</td>\n",
              "      <td>34.000000</td>\n",
              "      <td>23.250000</td>\n",
              "      <td>89.000000</td>\n",
              "      <td>74.000000</td>\n",
              "      <td>81.000000</td>\n",
              "      <td>0.0</td>\n",
              "      <td>NaN</td>\n",
              "      <td>NaN</td>\n",
              "      <td>NaN</td>\n",
              "      <td>NaN</td>\n",
              "      <td>15.000000</td>\n",
              "      <td>NaN</td>\n",
              "      <td>NaN</td>\n",
              "      <td>NaN</td>\n",
              "      <td>NaN</td>\n",
              "      <td>NaN</td>\n",
              "    </tr>\n",
              "    <tr>\n",
              "      <th>max</th>\n",
              "      <td>82506.000000</td>\n",
              "      <td>75.932000</td>\n",
              "      <td>50.000000</td>\n",
              "      <td>34.444444</td>\n",
              "      <td>40.000000</td>\n",
              "      <td>45.000000</td>\n",
              "      <td>12.000000</td>\n",
              "      <td>31.000000</td>\n",
              "      <td>78.000000</td>\n",
              "      <td>41.000000</td>\n",
              "      <td>122.000000</td>\n",
              "      <td>94.000000</td>\n",
              "      <td>104.000000</td>\n",
              "      <td>0.0</td>\n",
              "      <td>NaN</td>\n",
              "      <td>NaN</td>\n",
              "      <td>NaN</td>\n",
              "      <td>NaN</td>\n",
              "      <td>23.900000</td>\n",
              "      <td>NaN</td>\n",
              "      <td>NaN</td>\n",
              "      <td>NaN</td>\n",
              "      <td>NaN</td>\n",
              "      <td>NaN</td>\n",
              "    </tr>\n",
              "  </tbody>\n",
              "</table>\n",
              "</div>"
            ],
            "text/plain": [
              "                 STA  WindGustSpd        MaxTemp  ...  RHN  RVG  WTE\n",
              "count  119040.000000   532.000000  119040.000000  ...  0.0  0.0  0.0\n",
              "mean    29659.435795    37.774534      27.045111  ...  NaN  NaN  NaN\n",
              "std     20953.209402    10.297808       8.717817  ...  NaN  NaN  NaN\n",
              "min     10001.000000    18.520000     -33.333333  ...  NaN  NaN  NaN\n",
              "25%     11801.000000    29.632000      25.555556  ...  NaN  NaN  NaN\n",
              "50%     22508.000000    37.040000      29.444444  ...  NaN  NaN  NaN\n",
              "75%     33501.000000    43.059000      31.666667  ...  NaN  NaN  NaN\n",
              "max     82506.000000    75.932000      50.000000  ...  NaN  NaN  NaN\n",
              "\n",
              "[8 rows x 24 columns]"
            ]
          },
          "metadata": {},
          "execution_count": 55
        }
      ]
    },
    {
      "cell_type": "code",
      "source": [
        "df.iloc[:, 0].value_counts().head(10)"
      ],
      "metadata": {
        "colab": {
          "base_uri": "https://localhost:8080/"
        },
        "id": "pXXToPKK5Toe",
        "outputId": "f2703f87-f6d1-4746-e26d-e4b105b4857c"
      },
      "execution_count": 56,
      "outputs": [
        {
          "output_type": "execute_result",
          "data": {
            "text/plain": [
              "22508    2192\n",
              "10701    2185\n",
              "22502    2154\n",
              "22504    2118\n",
              "10803    1750\n",
              "11610    1631\n",
              "16405    1622\n",
              "11601    1604\n",
              "10502    1527\n",
              "11604    1514\n",
              "Name: STA, dtype: int64"
            ]
          },
          "metadata": {},
          "execution_count": 56
        }
      ]
    },
    {
      "cell_type": "markdown",
      "source": [
        "Let's consider only 22508 sensor:"
      ],
      "metadata": {
        "id": "tZ9jXCSHDwRr"
      }
    },
    {
      "cell_type": "code",
      "source": [
        "df = df[df.iloc[:,0]==22508]"
      ],
      "metadata": {
        "id": "t43IcKZSA5SY"
      },
      "execution_count": 57,
      "outputs": []
    },
    {
      "cell_type": "code",
      "source": [
        "df['Date'] = pd.to_datetime(df['Date'])\n",
        "df = df.set_index(\"Date\")"
      ],
      "metadata": {
        "id": "0fgIECynDR9U",
        "colab": {
          "base_uri": "https://localhost:8080/"
        },
        "outputId": "86775c3d-8315-4360-f8c6-a0cfbd4518ac"
      },
      "execution_count": 58,
      "outputs": [
        {
          "output_type": "stream",
          "name": "stderr",
          "text": [
            "/usr/local/lib/python3.7/dist-packages/ipykernel_launcher.py:1: SettingWithCopyWarning: \n",
            "A value is trying to be set on a copy of a slice from a DataFrame.\n",
            "Try using .loc[row_indexer,col_indexer] = value instead\n",
            "\n",
            "See the caveats in the documentation: https://pandas.pydata.org/pandas-docs/stable/user_guide/indexing.html#returning-a-view-versus-a-copy\n",
            "  \"\"\"Entry point for launching an IPython kernel.\n"
          ]
        }
      ]
    },
    {
      "cell_type": "code",
      "source": [
        "df.columns"
      ],
      "metadata": {
        "colab": {
          "base_uri": "https://localhost:8080/"
        },
        "id": "uzsqheHdipm3",
        "outputId": "0c5aba5c-44b7-40f5-d5cc-9b35b3933dac"
      },
      "execution_count": 59,
      "outputs": [
        {
          "output_type": "execute_result",
          "data": {
            "text/plain": [
              "Index(['STA', 'Precip', 'WindGustSpd', 'MaxTemp', 'MinTemp', 'MeanTemp',\n",
              "       'Snowfall', 'PoorWeather', 'YR', 'MO', 'DA', 'PRCP', 'DR', 'SPD', 'MAX',\n",
              "       'MIN', 'MEA', 'SNF', 'SND', 'FT', 'FB', 'FTI', 'ITH', 'PGT',\n",
              "       'TSHDSBRSGF', 'SD3', 'RHX', 'RHN', 'RVG', 'WTE'],\n",
              "      dtype='object')"
            ]
          },
          "metadata": {},
          "execution_count": 59
        }
      ]
    },
    {
      "cell_type": "code",
      "source": [
        "# Time Series\n",
        "fig = plt.figure(figsize=(12, 8))\n",
        "ax = plt.axes()\n",
        "plt.plot((df.index), df['MeanTemp'])"
      ],
      "metadata": {
        "id": "xfGg8ATiGLh7",
        "colab": {
          "base_uri": "https://localhost:8080/",
          "height": 462
        },
        "outputId": "9009f1c4-bf91-47dc-dd2d-68cbbfffc700"
      },
      "execution_count": 60,
      "outputs": [
        {
          "output_type": "execute_result",
          "data": {
            "text/plain": [
              "[<matplotlib.lines.Line2D at 0x7f7916d98d90>]"
            ]
          },
          "metadata": {},
          "execution_count": 60
        },
        {
          "output_type": "display_data",
          "data": {
            "image/png": "[encoded data removed]",
            "text/plain": [
              "<Figure size 864x576 with 1 Axes>"
            ]
          },
          "metadata": {
            "needs_background": "light"
          }
        }
      ]
    },
    {
      "cell_type": "code",
      "source": [
        "def generateWindow(df, t, W):\n",
        "  window = df.iloc[t:t+W, 5]\n",
        "  label = df.iloc[t+W, 5]\n",
        "  return (window, label)"
      ],
      "metadata": {
        "id": "NNUQPFpjflpY"
      },
      "execution_count": 77,
      "outputs": []
    },
    {
      "cell_type": "code",
      "source": [
        "def generateTrainTestSet(df, W):\n",
        "  dataset = np.empty((0, W+1), np.float32)\n",
        "  train_idxs = []\n",
        "  test_idxs = []\n",
        "  for t in range(df.shape[0]-(W+1)):\n",
        "    win, lab = generateWindow(df, t, W)\n",
        "    row = np.concatenate((win, lab), axis=None).reshape((1, W+1))\n",
        "    dataset = np.append(dataset, row, axis=0)\n",
        "    if df.index[t].year in range(1940, 1945):\n",
        "      train_idxs.append(t)\n",
        "    else:\n",
        "      test_idxs.append(t)\n",
        "      \n",
        "  X_train, X_test, y_train, y_test = dataset[train_idxs, :W], dataset[test_idxs, :W], dataset[train_idxs, W], dataset[test_idxs, W]\n",
        "\n",
        "  return X_train, X_test, y_train, y_test"
      ],
      "metadata": {
        "id": "x0XtILINi_zI"
      },
      "execution_count": 78,
      "outputs": []
    },
    {
      "cell_type": "code",
      "source": [
        "X_train, X_test, y_train, y_test = generateTrainTestSet(df, W=3)"
      ],
      "metadata": {
        "id": "59JpynjYk5i2"
      },
      "execution_count": 105,
      "outputs": []
    },
    {
      "cell_type": "code",
      "source": [
        "X_test.shape"
      ],
      "metadata": {
        "id": "v_x0ZELwJCiE",
        "colab": {
          "base_uri": "https://localhost:8080/"
        },
        "outputId": "cda881ab-8631-409d-c950-11c3120b2c9f"
      },
      "execution_count": 92,
      "outputs": [
        {
          "output_type": "execute_result",
          "data": {
            "text/plain": [
              "(361, 3)"
            ]
          },
          "metadata": {},
          "execution_count": 92
        }
      ]
    },
    {
      "cell_type": "code",
      "source": [
        "t = PrettyTable()\n",
        "t.field_names = ['model', 'MSE', 'R2']\n",
        "\n",
        "for model, name in zip(models, names):\n",
        "  model.fit(X_train, y_train)\n",
        "  y_hat = model.predict(X_test)\n",
        "  mse = mean_squared_error(y_test, y_hat)\n",
        "  r2 = r2_score(y_test, y_hat)\n",
        "  t.add_row([name, mse, r2])\n",
        "print(t)"
      ],
      "metadata": {
        "colab": {
          "base_uri": "https://localhost:8080/"
        },
        "id": "8tdH377oudta",
        "outputId": "c99d0d47-a512-48c4-b554-4db7fef323c3"
      },
      "execution_count": 90,
      "outputs": [
        {
          "output_type": "stream",
          "name": "stdout",
          "text": [
            "+------------------+--------------------+----------------------+\n",
            "|      model       |        MSE         |          R2          |\n",
            "+------------------+--------------------+----------------------+\n",
            "|      linreg      | 0.7715757915044672 |  0.6680548800665158  |\n",
            "|      ridge       | 0.7715109708976027 |  0.668082767001742   |\n",
            "|   mlp_standard   | 0.7768422857538341 |  0.6657891440435822  |\n",
            "|    mlp_tuned     | 2.404475022190201  | -0.03444633489822557 |\n",
            "|       svr        | 0.7618929189302558 |  0.6722206176821037  |\n",
            "|        rf        | 0.833786243465889  |  0.6412908781825468  |\n",
            "| sin+poly5+linreg | 1.1428341898377767 |  0.5083331587295001  |\n",
            "| sin+poly5+ridge  | 1.1424806997436656 |  0.5084852362220511  |\n",
            "+------------------+--------------------+----------------------+\n"
          ]
        }
      ]
    },
    {
      "cell_type": "markdown",
      "source": [
        "Let's plot results for the best scoring model:\n",
        "we"
      ],
      "metadata": {
        "id": "viUh31Ij_pvc"
      }
    },
    {
      "cell_type": "code",
      "source": [
        "from datetime import date\n",
        "\n",
        "initial_day = date(1944, 12, 31) + pd.Timedelta(f\"{5} days\")\n",
        "initial_day"
      ],
      "metadata": {
        "colab": {
          "base_uri": "https://localhost:8080/"
        },
        "id": "T5TN6lD7rAJE",
        "outputId": "11453d3c-c0e9-49f4-8393-e3601f296b9e"
      },
      "execution_count": 95,
      "outputs": [
        {
          "output_type": "execute_result",
          "data": {
            "text/plain": [
              "datetime.date(1945, 1, 5)"
            ]
          },
          "metadata": {},
          "execution_count": 95
        }
      ]
    },
    {
      "cell_type": "code",
      "source": [
        "df.loc[initial_day:].shape"
      ],
      "metadata": {
        "colab": {
          "base_uri": "https://localhost:8080/"
        },
        "id": "hRPILb1Prqw4",
        "outputId": "5d4f1f49-d796-45fe-b863-fe626f0a4801"
      },
      "execution_count": 96,
      "outputs": [
        {
          "output_type": "execute_result",
          "data": {
            "text/plain": [
              "(361, 30)"
            ]
          },
          "metadata": {},
          "execution_count": 96
        }
      ]
    },
    {
      "cell_type": "code",
      "source": [
        "svr = SVR(gamma='scale')\n",
        "svr.fit(X_train, y_train)\n",
        "\n",
        "fig = plt.figure(figsize=(12, 8))\n",
        "ax = plt.axes()\n",
        "y_hat = svr.predict(X_test)\n",
        "plt.plot(df.loc[initial_day:].index, y_hat, c='b')\n",
        "plt.plot(df.loc[initial_day:].index, y_test, c='r', linestyle='dashed', linewidth=1)\n",
        "plt.figlegend(['predicted', 'true'])"
      ],
      "metadata": {
        "colab": {
          "base_uri": "https://localhost:8080/",
          "height": 470
        },
        "id": "QQBajZSoxJRh",
        "outputId": "54fe6db3-40b7-4a93-b2c1-dfe1a2e29e8c"
      },
      "execution_count": 97,
      "outputs": [
        {
          "output_type": "execute_result",
          "data": {
            "text/plain": [
              "<matplotlib.legend.Legend at 0x7f78f0110bd0>"
            ]
          },
          "metadata": {},
          "execution_count": 97
        },
        {
          "output_type": "display_data",
          "data": {
            "image/png": "[encoded data removed]",
            "text/plain": [
              "<Figure size 864x576 with 1 Axes>"
            ]
          },
          "metadata": {
            "needs_background": "light"
          }
        }
      ]
    },
    {
      "cell_type": "markdown",
      "source": [
        "Let's do Grid Search on Ridge:"
      ],
      "metadata": {
        "id": "sszzS4VNAB4h"
      }
    },
    {
      "cell_type": "code",
      "source": [
        "from sklearn.model_selection import GridSearchCV\n",
        "from sklearn.model_selection import TimeSeriesSplit\n",
        "\n",
        "# for Ridge:\n",
        "reg = Ridge()\n",
        "param_grid = {'alpha': [0.1, 0.2, 0.5, 1, 2],\n",
        "              'fit_intercept': [True, False]}\n",
        "gridsearch = GridSearchCV(reg, param_grid, scoring=('r2'),\\\n",
        "                          cv=TimeSeriesSplit(n_splits=5), refit=True)\n",
        "gridsearch.fit(X_train, y_train)\n",
        "\n",
        "print(\"Best alpha: \", gridsearch.best_params_['alpha'])\n",
        "print(\"Best score on training: \", gridsearch.best_score_)\n",
        "print(gridsearch.best_params_['fit_intercept'])\n",
        "\n",
        "best_configured_model = gridsearch.best_estimator_\n",
        "y_hat = best_configured_model.predict(X_test)\n",
        "print(\"R2 score on test set: \", r2_score(y_pred=y_hat, y_true=y_test))"
      ],
      "metadata": {
        "colab": {
          "base_uri": "https://localhost:8080/"
        },
        "id": "YCewVkQuyiT6",
        "outputId": "72c654e0-0811-435b-8716-cff15505ed97"
      },
      "execution_count": 101,
      "outputs": [
        {
          "output_type": "stream",
          "name": "stdout",
          "text": [
            "Best alpha:  2\n",
            "Best score on training:  0.7513864028888346\n",
            "True\n",
            "R2 score on test set:  0.6681105006293798\n"
          ]
        }
      ]
    },
    {
      "cell_type": "code",
      "source": [
        "svr = SVR(gamma='scale')\n",
        "svr.fit(X_train, y_train)\n",
        "\n",
        "param_grid = {'epsilon': [0.1, 0.2, 0.5, 0.7, 0.9, 1, 2],\n",
        "              'kernel': ['rbf']}\n",
        "gridsearch = GridSearchCV(svr, param_grid, scoring=('r2'),\\\n",
        "                          cv=TimeSeriesSplit(n_splits=5), refit=True)\n",
        "gridsearch.fit(X_train, y_train)\n",
        "\n",
        "print(\"Best epsilon: \", gridsearch.best_params_['epsilon'])\n",
        "print(\"Best score on training: \", gridsearch.best_score_)\n",
        "print(gridsearch.best_params_['kernel'])\n",
        "\n",
        "best_configured_model = gridsearch.best_estimator_\n",
        "y_hat = best_configured_model.predict(X_test)\n",
        "print(\"R2 score on test set: \", r2_score(y_pred=y_hat, y_true=y_test))"
      ],
      "metadata": {
        "colab": {
          "base_uri": "https://localhost:8080/"
        },
        "id": "k0vfdrlcAArC",
        "outputId": "9face829-1cbb-47cb-d4ef-ab695b2b5000"
      },
      "execution_count": 107,
      "outputs": [
        {
          "output_type": "stream",
          "name": "stdout",
          "text": [
            "Best epsilon:  0.2\n",
            "Best score on training:  0.7330802772846846\n",
            "rbf\n",
            "R2 score on test set:  0.679642911093479\n"
          ]
        }
      ]
    },
    {
      "cell_type": "code",
      "source": [
        ""
      ],
      "metadata": {
        "id": "J2_UVYZFFnuu"
      },
      "execution_count": null,
      "outputs": []
    }
  ]
}