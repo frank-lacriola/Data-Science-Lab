{
  "nbformat": 4,
  "nbformat_minor": 0,
  "metadata": {
    "colab": {
      "name": "Lab7_ML_on_audios.ipynb",
      "provenance": [],
      "authorship_tag": "ABX9TyNo1M5msfILHVzXNpq/rY08",
      "include_colab_link": true
    },
    "kernelspec": {
      "name": "python3",
      "display_name": "Python 3"
    },
    "language_info": {
      "name": "python"
    }
  },
  "cells": [
    {
      "cell_type": "markdown",
      "metadata": {
        "id": "view-in-github",
        "colab_type": "text"
      },
      "source": [
        "<a href=\"https://colab.research.google.com/github/frank-lacriola/Data-Science-Lab/blob/main/Lab7%20-%20Features%20selection%20and%20classification%20for%20audio%20data/Lab7_ML_on_audios.ipynb\" target=\"_parent\"><img src=\"https://colab.research.google.com/assets/colab-badge.svg\" alt=\"Open In Colab\"/></a>"
      ]
    },
    {
      "cell_type": "code",
      "execution_count": null,
      "metadata": {
        "colab": {
          "base_uri": "https://localhost:8080/"
        },
        "id": "5e4Q3R971Kj5",
        "outputId": "d5ef668e-ce14-4728-c034-c2db8173072b"
      },
      "outputs": [
        {
          "output_type": "stream",
          "name": "stdout",
          "text": [
            "--2021-12-12 21:01:17--  https://github.com/dbdmg/data-science-lab/raw/master/datasets/free-spoken-digit.zip\n",
            "Resolving github.com (github.com)... 192.30.255.113\n",
            "Connecting to github.com (github.com)|192.30.255.113|:443... connected.\n",
            "HTTP request sent, awaiting response... 302 Found\n",
            "Location: https://raw.githubusercontent.com/dbdmg/data-science-lab/master/datasets/free-spoken-digit.zip [following]\n",
            "--2021-12-12 21:01:17--  https://raw.githubusercontent.com/dbdmg/data-science-lab/master/datasets/free-spoken-digit.zip\n",
            "Resolving raw.githubusercontent.com (raw.githubusercontent.com)... 185.199.110.133, 185.199.109.133, 185.199.108.133, ...\n",
            "Connecting to raw.githubusercontent.com (raw.githubusercontent.com)|185.199.110.133|:443... connected.\n",
            "HTTP request sent, awaiting response... 200 OK\n",
            "Length: 9315920 (8.9M) [application/zip]\n",
            "Saving to: ‘free-spoken-digit.zip’\n",
            "\n",
            "free-spoken-digit.z 100%[===================>]   8.88M  --.-KB/s    in 0.1s    \n",
            "\n",
            "2021-12-12 21:01:18 (63.3 MB/s) - ‘free-spoken-digit.zip’ saved [9315920/9315920]\n",
            "\n"
          ]
        }
      ],
      "source": [
        "!wget https://github.com/dbdmg/data-science-lab/raw/master/datasets/free-spoken-digit.zip"
      ]
    },
    {
      "cell_type": "code",
      "source": [
        "!unzip \"/content/free-spoken-digit.zip\""
      ],
      "metadata": {
        "id": "PUX2ihv41q_Y"
      },
      "execution_count": null,
      "outputs": []
    },
    {
      "cell_type": "code",
      "source": [
        "pip install python_speech_features"
      ],
      "metadata": {
        "colab": {
          "base_uri": "https://localhost:8080/"
        },
        "id": "WhpA1a5xfPrZ",
        "outputId": "aa0ff392-8075-4b29-918f-54646e122182"
      },
      "execution_count": null,
      "outputs": [
        {
          "output_type": "stream",
          "name": "stdout",
          "text": [
            "Collecting python_speech_features\n",
            "  Downloading python_speech_features-0.6.tar.gz (5.6 kB)\n",
            "Building wheels for collected packages: python-speech-features\n",
            "  Building wheel for python-speech-features (setup.py) ... \u001b[?25l\u001b[?25hdone\n",
            "  Created wheel for python-speech-features: filename=python_speech_features-0.6-py3-none-any.whl size=5888 sha256=bd9367657ed8b8af92a224d2b0b0bb10781634a360419e4bc43372c3d3e62b53\n",
            "  Stored in directory: /root/.cache/pip/wheels/b0/0e/94/28cd6afa3cd5998a63eef99fe31777acd7d758f59cf24839eb\n",
            "Successfully built python-speech-features\n",
            "Installing collected packages: python-speech-features\n",
            "Successfully installed python-speech-features-0.6\n"
          ]
        }
      ]
    },
    {
      "cell_type": "code",
      "source": [
        "import os\n",
        "from scipy.io import wavfile\n",
        "import numpy as np\n",
        "from python_speech_features import mfcc\n",
        "\n",
        "\n",
        "files_list = os.listdir(\"/content/dev\")\n",
        "labels = [f.split(\".\")[0].split(\"_\")[1] for f in files_list]"
      ],
      "metadata": {
        "id": "NJcwGiM41vRJ"
      },
      "execution_count": null,
      "outputs": []
    },
    {
      "cell_type": "code",
      "source": [
        "def pad(rate, audio):\n",
        "    diff = rate - np.shape(audio)[0]\n",
        "    if diff > 0:\n",
        "      zero_padding = np.zeros(diff, dtype=np.float32)\n",
        "      audio = np.concatenate((audio, zero_padding), axis=0)\n",
        "      audio = np.reshape(audio, rate)\n",
        "    else:\n",
        "      audio = audio[:rate]\n",
        "      \n",
        "    return audio"
      ],
      "metadata": {
        "id": "WpjUUeB8aO7Q"
      },
      "execution_count": null,
      "outputs": []
    },
    {
      "cell_type": "code",
      "source": [
        "init_path = \"/content/dev/\"\n",
        "\n",
        "for i, f in enumerate(files_list):\n",
        "  rate, data =  wavfile.read(init_path + f)\n",
        "  audio = pad(rate, data)\n",
        "  feature_vector = mfcc(audio, rate)\n",
        "  feature_vector = np.expand_dims(feature_vector, 0)\n",
        "  if i==0:\n",
        "    features = np.array(feature_vector, dtype=np.float32)\n",
        "  else:\n",
        "    features = np.append(features, feature_vector, axis=0)\n"
      ],
      "metadata": {
        "id": "UaPLBlfx4HqK"
      },
      "execution_count": null,
      "outputs": []
    },
    {
      "cell_type": "code",
      "source": [
        "# Sklearn needs 2d inputs --> reshape\n",
        "features = np.reshape(features, (features.shape[0], features.shape[1]*features.shape[2]))\n",
        "print(features.shape)"
      ],
      "metadata": {
        "colab": {
          "base_uri": "https://localhost:8080/"
        },
        "id": "fug9gjL2Em2u",
        "outputId": "8fdeeb45-b007-44cf-8b3d-e9436f6aa96e"
      },
      "execution_count": null,
      "outputs": [
        {
          "output_type": "stream",
          "name": "stdout",
          "text": [
            "(1500, 1287)\n"
          ]
        }
      ]
    },
    {
      "cell_type": "code",
      "source": [
        "from sklearn.model_selection import train_test_split\n",
        "\n",
        "X_train, X_test, y_train, y_test = train_test_split(features, labels, test_size=0.2)"
      ],
      "metadata": {
        "id": "lpGjU4AB5Ioz"
      },
      "execution_count": null,
      "outputs": []
    },
    {
      "cell_type": "markdown",
      "source": [
        "Let's try the trees approaches:"
      ],
      "metadata": {
        "id": "mM_V_YzgKxrY"
      }
    },
    {
      "cell_type": "code",
      "source": [
        "from sklearn.tree import DecisionTreeClassifier\n",
        "from sklearn.metrics import f1_score\n",
        "from sklearn.metrics import accuracy_score\n",
        "\n",
        "clf = DecisionTreeClassifier()\n",
        "clf.fit(X_train, y_train)\n",
        "\n",
        "y_pred = clf.predict(X_test)\n",
        "print(\"The f1 on the test is: \", f1_score(y_pred=y_pred, y_true=y_test, average='macro'))\n",
        "print(\"The accuracy on the test is: \", accuracy_score(y_pred=y_pred, y_true=y_test))"
      ],
      "metadata": {
        "id": "D7Fx6IoZ7I9Y",
        "colab": {
          "base_uri": "https://localhost:8080/"
        },
        "outputId": "4b51f232-366d-4186-e0b8-6ce0dd98bce0"
      },
      "execution_count": null,
      "outputs": [
        {
          "output_type": "stream",
          "name": "stdout",
          "text": [
            "The f1 on the test is:  0.7253961444178388\n",
            "The accuracy on the test is:  0.7333333333333333\n"
          ]
        }
      ]
    },
    {
      "cell_type": "code",
      "source": [
        "from sklearn.ensemble import RandomForestClassifier\n",
        "\n",
        "rf = RandomForestClassifier(n_estimators=100)\n",
        "rf.fit(X_train, y_train)\n",
        "\n",
        "y_pred = rf.predict(X_test)\n",
        "print(\"The f1 on the test is: \", f1_score(y_pred=y_pred, y_true=y_test, average='macro'))\n",
        "print(\"The accuracy on the test is: \", accuracy_score(y_pred=y_pred, y_true=y_test))"
      ],
      "metadata": {
        "colab": {
          "base_uri": "https://localhost:8080/"
        },
        "id": "8Q4gUb2ezJo0",
        "outputId": "f715b015-6c40-46de-965e-5a700cd6dd46"
      },
      "execution_count": null,
      "outputs": [
        {
          "output_type": "stream",
          "name": "stdout",
          "text": [
            "The f1 on the test is:  0.9698280899128356\n",
            "The accuracy on the test is:  0.97\n"
          ]
        }
      ]
    },
    {
      "cell_type": "markdown",
      "source": [
        "SVM multi class classification with the 'one vs one' approach:"
      ],
      "metadata": {
        "id": "7YLrI6E8KocB"
      }
    },
    {
      "cell_type": "code",
      "source": [
        "from sklearn.svm import SVC\n",
        "\n",
        "svm = SVC(decision_function_shape='ovo') # redundant attrib.\n",
        "svm.fit(X_train, y_train)\n",
        "\n",
        "y_pred = svm.predict(X_test)\n",
        "\n",
        "print(\"The f1 on the test is: \", f1_score(y_pred=y_pred, y_true=y_test, average='macro'))\n",
        "print(\"The accuracy on the test is: \", accuracy_score(y_pred=y_pred, y_true=y_test))"
      ],
      "metadata": {
        "colab": {
          "base_uri": "https://localhost:8080/"
        },
        "id": "bfdqIO-eImRa",
        "outputId": "e70ebe82-1bd7-4b73-a595-ae5d765dd87d"
      },
      "execution_count": null,
      "outputs": [
        {
          "output_type": "stream",
          "name": "stdout",
          "text": [
            "The f1 on the test is:  0.9702607452244241\n",
            "The accuracy on the test is:  0.97\n"
          ]
        }
      ]
    },
    {
      "cell_type": "markdown",
      "source": [
        "SVM multi class classification with the 'one vs rest' approach:"
      ],
      "metadata": {
        "id": "RO-fp9wMKu2a"
      }
    },
    {
      "cell_type": "code",
      "source": [
        "from sklearn.svm import LinearSVC\n",
        "\n",
        "svm_linear = LinearSVC()\n",
        "svm_linear.fit(X_train, y_train)\n",
        "\n",
        "y_pred = svm_linear.predict(X_test)\n",
        "\n",
        "print(\"The f1 on the test is: \", f1_score(y_pred=y_pred, y_true=y_test, average='macro'))\n",
        "print(\"The accuracy on the test is: \", accuracy_score(y_pred=y_pred, y_true=y_test))"
      ],
      "metadata": {
        "colab": {
          "base_uri": "https://localhost:8080/"
        },
        "id": "5znU2lL2KUov",
        "outputId": "45e8b30c-f7a3-412e-b294-a4791f698ae7"
      },
      "execution_count": null,
      "outputs": [
        {
          "output_type": "stream",
          "name": "stdout",
          "text": [
            "The f1 on the test is:  0.9649593483341702\n",
            "The accuracy on the test is:  0.9666666666666667\n"
          ]
        }
      ]
    },
    {
      "cell_type": "markdown",
      "source": [
        "Let's try cross validation over the best performing model"
      ],
      "metadata": {
        "id": "TEzJndUlRVfT"
      }
    },
    {
      "cell_type": "code",
      "source": [
        "from sklearn.model_selection import cross_val_score\n",
        "import random\n",
        "\n",
        "\"\"\"dataset = np.array(list(zip(features, labels)))\n",
        "random.shuffle(dataset)\"\"\"\n",
        "acc = cross_val_score(svm, features, labels, cv=5, scoring='f1_macro')\n",
        "print(acc)"
      ],
      "metadata": {
        "colab": {
          "base_uri": "https://localhost:8080/"
        },
        "id": "knaQvenpSuTF",
        "outputId": "0147930f-b833-4ea0-bc45-eaeb44221c19"
      },
      "execution_count": null,
      "outputs": [
        {
          "output_type": "stream",
          "name": "stdout",
          "text": [
            "[0.99338436 0.98327118 0.9833852  0.98024622 0.97332323]\n"
          ]
        }
      ]
    },
    {
      "cell_type": "code",
      "source": [
        "from sklearn.model_selection import cross_val_predict\n",
        "\n",
        "\"\"\"dataset = np.array(list(zip(features, labels)))\n",
        "random.shuffle(dataset)\"\"\"\n",
        "y_pred = cross_val_predict(svm, features, labels, cv=None) # default is 5-Fold\n",
        "print(f1_score(y_pred, labels, average='macro'))"
      ],
      "metadata": {
        "id": "Gld8PHtZKdaM",
        "colab": {
          "base_uri": "https://localhost:8080/"
        },
        "outputId": "155e22cd-9326-442a-d22c-d45e4f97752c"
      },
      "execution_count": null,
      "outputs": [
        {
          "output_type": "stream",
          "name": "stdout",
          "text": [
            "0.9827304685282628\n"
          ]
        }
      ]
    },
    {
      "cell_type": "markdown",
      "source": [
        "Validate RF"
      ],
      "metadata": {
        "id": "NWqSo9jIWbx5"
      }
    },
    {
      "cell_type": "code",
      "source": [
        "from sklearn.model_selection import cross_val_predict\n",
        "\n",
        "\"\"\"dataset = np.array(list(zip(features, labels)))\n",
        "random.shuffle(dataset)\"\"\"\n",
        "y_pred = cross_val_predict(rf, features, labels, cv=None) # default is 5-Fold\n",
        "print(f1_score(y_pred, labels, average='macro'))"
      ],
      "metadata": {
        "colab": {
          "base_uri": "https://localhost:8080/"
        },
        "id": "iXByg8MkVXgK",
        "outputId": "2adf4639-cfca-4441-e3b4-eb188b46f843"
      },
      "execution_count": null,
      "outputs": [
        {
          "output_type": "stream",
          "name": "stdout",
          "text": [
            "0.970708913600682\n"
          ]
        }
      ]
    },
    {
      "cell_type": "code",
      "source": [
        ""
      ],
      "metadata": {
        "id": "LGpzEByBWeae"
      },
      "execution_count": null,
      "outputs": []
    }
  ]
}