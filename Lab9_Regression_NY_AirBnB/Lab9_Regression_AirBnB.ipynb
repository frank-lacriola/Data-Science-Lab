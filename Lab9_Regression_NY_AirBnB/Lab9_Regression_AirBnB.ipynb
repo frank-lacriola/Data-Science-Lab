{
  "nbformat": 4,
  "nbformat_minor": 0,
  "metadata": {
    "colab": {
      "name": "Lab9_Regression_AirBnB.ipynb",
      "provenance": [],
      "authorship_tag": "ABX9TyNTLGqYZCVrph8U48MfHFZe",
      "include_colab_link": true
    },
    "kernelspec": {
      "name": "python3",
      "display_name": "Python 3"
    },
    "language_info": {
      "name": "python"
    }
  },
  "cells": [
    {
      "cell_type": "markdown",
      "metadata": {
        "id": "view-in-github",
        "colab_type": "text"
      },
      "source": [
        "<a href=\"https://colab.research.google.com/github/frank-lacriola/Data-Science-Lab/blob/main/Lab9_Regression_NY_AirBnB/Lab9_Regression_AirBnB.ipynb\" target=\"_parent\"><img src=\"https://colab.research.google.com/assets/colab-badge.svg\" alt=\"Open In Colab\"/></a>"
      ]
    },
    {
      "cell_type": "code",
      "execution_count": null,
      "metadata": {
        "colab": {
          "base_uri": "https://localhost:8080/"
        },
        "id": "nMhpwVjP-v6P",
        "outputId": "dcfd4055-be49-4aef-e866-96784c85f299"
      },
      "outputs": [
        {
          "output_type": "stream",
          "name": "stdout",
          "text": [
            "--2021-12-17 15:08:55--  https://github.com/dbdmg/data-science-lab/raw/master/datasets/NYC_Airbnb.zip\n",
            "Resolving github.com (github.com)... 192.30.255.112\n",
            "Connecting to github.com (github.com)|192.30.255.112|:443... connected.\n",
            "HTTP request sent, awaiting response... 302 Found\n",
            "Location: https://raw.githubusercontent.com/dbdmg/data-science-lab/master/datasets/NYC_Airbnb.zip [following]\n",
            "--2021-12-17 15:08:56--  https://raw.githubusercontent.com/dbdmg/data-science-lab/master/datasets/NYC_Airbnb.zip\n",
            "Resolving raw.githubusercontent.com (raw.githubusercontent.com)... 185.199.108.133, 185.199.109.133, 185.199.110.133, ...\n",
            "Connecting to raw.githubusercontent.com (raw.githubusercontent.com)|185.199.108.133|:443... connected.\n",
            "HTTP request sent, awaiting response... 200 OK\n",
            "Length: 2563162 (2.4M) [application/zip]\n",
            "Saving to: ‘NYC_Airbnb.zip’\n",
            "\n",
            "NYC_Airbnb.zip      100%[===================>]   2.44M  --.-KB/s    in 0.05s   \n",
            "\n",
            "2021-12-17 15:08:56 (51.2 MB/s) - ‘NYC_Airbnb.zip’ saved [2563162/2563162]\n",
            "\n"
          ]
        }
      ],
      "source": [
        "!wget https://github.com/dbdmg/data-science-lab/raw/master/datasets/NYC_Airbnb.zip"
      ]
    },
    {
      "cell_type": "code",
      "source": [
        ""
      ],
      "metadata": {
        "id": "bEAkFu4Vgwil"
      },
      "execution_count": null,
      "outputs": []
    },
    {
      "cell_type": "code",
      "source": [
        "!unzip \"/content/NYC_Airbnb.zip\""
      ],
      "metadata": {
        "colab": {
          "base_uri": "https://localhost:8080/"
        },
        "id": "mmKRuw6e_LwP",
        "outputId": "c4982f61-f233-4c3a-9876-cf938b07be08"
      },
      "execution_count": null,
      "outputs": [
        {
          "output_type": "stream",
          "name": "stdout",
          "text": [
            "Archive:  /content/NYC_Airbnb.zip\n",
            "   creating: NYC_Airbnb/\n",
            "  inflating: NYC_Airbnb/development.csv  \n",
            "  inflating: __MACOSX/NYC_Airbnb/._development.csv  \n",
            "  inflating: NYC_Airbnb/sample_submission.csv  \n",
            "  inflating: __MACOSX/NYC_Airbnb/._sample_submission.csv  \n",
            "  inflating: NYC_Airbnb/evaluation.csv  \n",
            "  inflating: __MACOSX/NYC_Airbnb/._evaluation.csv  \n"
          ]
        }
      ]
    },
    {
      "cell_type": "code",
      "source": [
        "from sklearn.datasets import make_regression\n",
        "from sklearn.pipeline import make_pipeline\n",
        "from sklearn.preprocessing import PolynomialFeatures, FunctionTransformer\n",
        "from sklearn.compose import make_column_transformer\n",
        "import pandas as pd\n",
        "import seaborn as sns\n",
        "from prettytable import PrettyTable\n",
        "import numpy as np\n",
        "from sklearn.model_selection import train_test_split\n",
        "from sklearn.model_selection import GridSearchCV\n",
        "import matplotlib.pyplot as plt\n",
        "from sklearn.linear_model import LinearRegression, Ridge\n",
        "from sklearn.svm import SVR\n",
        "from sklearn.neural_network import MLPRegressor\n",
        "from sklearn.ensemble import RandomForestRegressor\n",
        "from sklearn.metrics import r2_score\n",
        "from sklearn.metrics import mean_absolute_error\n",
        "from sklearn.metrics import mean_squared_error"
      ],
      "metadata": {
        "id": "PTy34Op3gzCQ"
      },
      "execution_count": null,
      "outputs": []
    },
    {
      "cell_type": "code",
      "source": [
        "df = pd.read_csv(\"/content/NYC_Airbnb/development.csv\", index_col=0)"
      ],
      "metadata": {
        "id": "6MTThdfw_X1s"
      },
      "execution_count": null,
      "outputs": []
    },
    {
      "cell_type": "code",
      "source": [
        "df.info()"
      ],
      "metadata": {
        "colab": {
          "base_uri": "https://localhost:8080/"
        },
        "id": "Iayiq3RV9nLY",
        "outputId": "48651e41-37b6-496f-9057-b2c7d889bd78"
      },
      "execution_count": null,
      "outputs": [
        {
          "output_type": "stream",
          "name": "stdout",
          "text": [
            "<class 'pandas.core.frame.DataFrame'>\n",
            "Int64Index: 39116 entries, 12783632 to 15310580\n",
            "Data columns (total 15 columns):\n",
            " #   Column                          Non-Null Count  Dtype  \n",
            "---  ------                          --------------  -----  \n",
            " 0   name                            39103 non-null  object \n",
            " 1   host_id                         39116 non-null  int64  \n",
            " 2   host_name                       39097 non-null  object \n",
            " 3   neighbourhood_group             39116 non-null  object \n",
            " 4   neighbourhood                   39116 non-null  object \n",
            " 5   latitude                        39116 non-null  float64\n",
            " 6   longitude                       39116 non-null  float64\n",
            " 7   room_type                       39116 non-null  object \n",
            " 8   price                           39116 non-null  int64  \n",
            " 9   minimum_nights                  39116 non-null  int64  \n",
            " 10  number_of_reviews               39116 non-null  int64  \n",
            " 11  last_review                     31075 non-null  object \n",
            " 12  reviews_per_month               31075 non-null  float64\n",
            " 13  calculated_host_listings_count  39116 non-null  int64  \n",
            " 14  availability_365                39116 non-null  int64  \n",
            "dtypes: float64(3), int64(6), object(6)\n",
            "memory usage: 4.8+ MB\n"
          ]
        }
      ]
    },
    {
      "cell_type": "code",
      "source": [
        "df.head()"
      ],
      "metadata": {
        "colab": {
          "base_uri": "https://localhost:8080/",
          "height": 472
        },
        "id": "Z8eODrydBCWN",
        "outputId": "22035117-2878-419a-e201-2c1d3e31b7e3"
      },
      "execution_count": null,
      "outputs": [
        {
          "output_type": "execute_result",
          "data": {
            "text/html": [
              "\n",
              "  <div id=\"df-3421c6a6-f432-4857-8152-40a5c9d935e4\">\n",
              "    <div class=\"colab-df-container\">\n",
              "      <div>\n",
              "<style scoped>\n",
              "    .dataframe tbody tr th:only-of-type {\n",
              "        vertical-align: middle;\n",
              "    }\n",
              "\n",
              "    .dataframe tbody tr th {\n",
              "        vertical-align: top;\n",
              "    }\n",
              "\n",
              "    .dataframe thead th {\n",
              "        text-align: right;\n",
              "    }\n",
              "</style>\n",
              "<table border=\"1\" class=\"dataframe\">\n",
              "  <thead>\n",
              "    <tr style=\"text-align: right;\">\n",
              "      <th></th>\n",
              "      <th>name</th>\n",
              "      <th>host_id</th>\n",
              "      <th>host_name</th>\n",
              "      <th>neighbourhood_group</th>\n",
              "      <th>neighbourhood</th>\n",
              "      <th>latitude</th>\n",
              "      <th>longitude</th>\n",
              "      <th>room_type</th>\n",
              "      <th>price</th>\n",
              "      <th>minimum_nights</th>\n",
              "      <th>number_of_reviews</th>\n",
              "      <th>last_review</th>\n",
              "      <th>reviews_per_month</th>\n",
              "      <th>calculated_host_listings_count</th>\n",
              "      <th>availability_365</th>\n",
              "    </tr>\n",
              "    <tr>\n",
              "      <th>id</th>\n",
              "      <th></th>\n",
              "      <th></th>\n",
              "      <th></th>\n",
              "      <th></th>\n",
              "      <th></th>\n",
              "      <th></th>\n",
              "      <th></th>\n",
              "      <th></th>\n",
              "      <th></th>\n",
              "      <th></th>\n",
              "      <th></th>\n",
              "      <th></th>\n",
              "      <th></th>\n",
              "      <th></th>\n",
              "      <th></th>\n",
              "    </tr>\n",
              "  </thead>\n",
              "  <tbody>\n",
              "    <tr>\n",
              "      <th>12783632</th>\n",
              "      <td>NYC Mini Hotel</td>\n",
              "      <td>57230304</td>\n",
              "      <td>Imanuelly</td>\n",
              "      <td>Queens</td>\n",
              "      <td>Elmhurst</td>\n",
              "      <td>40.74037</td>\n",
              "      <td>-73.88610</td>\n",
              "      <td>Private room</td>\n",
              "      <td>75</td>\n",
              "      <td>1</td>\n",
              "      <td>2</td>\n",
              "      <td>2019-05-26</td>\n",
              "      <td>0.92</td>\n",
              "      <td>3</td>\n",
              "      <td>351</td>\n",
              "    </tr>\n",
              "    <tr>\n",
              "      <th>3463385</th>\n",
              "      <td>Gorgeous room in Manhattan</td>\n",
              "      <td>10698270</td>\n",
              "      <td>Evgenia</td>\n",
              "      <td>Manhattan</td>\n",
              "      <td>Upper East Side</td>\n",
              "      <td>40.76717</td>\n",
              "      <td>-73.95532</td>\n",
              "      <td>Private room</td>\n",
              "      <td>95</td>\n",
              "      <td>1</td>\n",
              "      <td>202</td>\n",
              "      <td>2019-05-27</td>\n",
              "      <td>3.31</td>\n",
              "      <td>2</td>\n",
              "      <td>263</td>\n",
              "    </tr>\n",
              "    <tr>\n",
              "      <th>17572926</th>\n",
              "      <td>Great 1 Bedroom on Upper East</td>\n",
              "      <td>36578169</td>\n",
              "      <td>James</td>\n",
              "      <td>Manhattan</td>\n",
              "      <td>Upper East Side</td>\n",
              "      <td>40.77984</td>\n",
              "      <td>-73.94725</td>\n",
              "      <td>Entire home/apt</td>\n",
              "      <td>130</td>\n",
              "      <td>2</td>\n",
              "      <td>0</td>\n",
              "      <td>NaN</td>\n",
              "      <td>NaN</td>\n",
              "      <td>1</td>\n",
              "      <td>0</td>\n",
              "    </tr>\n",
              "    <tr>\n",
              "      <th>33913644</th>\n",
              "      <td>Modern and bright 2Bed 2Bath Bushwick, Brooklyn</td>\n",
              "      <td>50981314</td>\n",
              "      <td>Ofier</td>\n",
              "      <td>Brooklyn</td>\n",
              "      <td>Bushwick</td>\n",
              "      <td>40.70205</td>\n",
              "      <td>-73.91338</td>\n",
              "      <td>Entire home/apt</td>\n",
              "      <td>150</td>\n",
              "      <td>2</td>\n",
              "      <td>4</td>\n",
              "      <td>2019-07-07</td>\n",
              "      <td>1.64</td>\n",
              "      <td>1</td>\n",
              "      <td>89</td>\n",
              "    </tr>\n",
              "    <tr>\n",
              "      <th>9405895</th>\n",
              "      <td>Stylish and zen Brooklyn retreat</td>\n",
              "      <td>48775347</td>\n",
              "      <td>Mathieu</td>\n",
              "      <td>Brooklyn</td>\n",
              "      <td>Fort Greene</td>\n",
              "      <td>40.68914</td>\n",
              "      <td>-73.97853</td>\n",
              "      <td>Entire home/apt</td>\n",
              "      <td>325</td>\n",
              "      <td>3</td>\n",
              "      <td>16</td>\n",
              "      <td>2019-04-20</td>\n",
              "      <td>0.42</td>\n",
              "      <td>1</td>\n",
              "      <td>103</td>\n",
              "    </tr>\n",
              "  </tbody>\n",
              "</table>\n",
              "</div>\n",
              "      <button class=\"colab-df-convert\" onclick=\"convertToInteractive('df-3421c6a6-f432-4857-8152-40a5c9d935e4')\"\n",
              "              title=\"Convert this dataframe to an interactive table.\"\n",
              "              style=\"display:none;\">\n",
              "        \n",
              "  <svg xmlns=\"http://www.w3.org/2000/svg\" height=\"24px\"viewBox=\"0 0 24 24\"\n",
              "       width=\"24px\">\n",
              "    <path d=\"M0 0h24v24H0V0z\" fill=\"none\"/>\n",
              "    <path d=\"M18.56 5.44l.94 2.06.94-2.06 2.06-.94-2.06-.94-.94-2.06-.94 2.06-2.06.94zm-11 1L8.5 8.5l.94-2.06 2.06-.94-2.06-.94L8.5 2.5l-.94 2.06-2.06.94zm10 10l.94 2.06.94-2.06 2.06-.94-2.06-.94-.94-2.06-.94 2.06-2.06.94z\"/><path d=\"M17.41 7.96l-1.37-1.37c-.4-.4-.92-.59-1.43-.59-.52 0-1.04.2-1.43.59L10.3 9.45l-7.72 7.72c-.78.78-.78 2.05 0 2.83L4 21.41c.39.39.9.59 1.41.59.51 0 1.02-.2 1.41-.59l7.78-7.78 2.81-2.81c.8-.78.8-2.07 0-2.86zM5.41 20L4 18.59l7.72-7.72 1.47 1.35L5.41 20z\"/>\n",
              "  </svg>\n",
              "      </button>\n",
              "      \n",
              "  <style>\n",
              "    .colab-df-container {\n",
              "      display:flex;\n",
              "      flex-wrap:wrap;\n",
              "      gap: 12px;\n",
              "    }\n",
              "\n",
              "    .colab-df-convert {\n",
              "      background-color: #E8F0FE;\n",
              "      border: none;\n",
              "      border-radius: 50%;\n",
              "      cursor: pointer;\n",
              "      display: none;\n",
              "      fill: #1967D2;\n",
              "      height: 32px;\n",
              "      padding: 0 0 0 0;\n",
              "      width: 32px;\n",
              "    }\n",
              "\n",
              "    .colab-df-convert:hover {\n",
              "      background-color: #E2EBFA;\n",
              "      box-shadow: 0px 1px 2px rgba(60, 64, 67, 0.3), 0px 1px 3px 1px rgba(60, 64, 67, 0.15);\n",
              "      fill: #174EA6;\n",
              "    }\n",
              "\n",
              "    [theme=dark] .colab-df-convert {\n",
              "      background-color: #3B4455;\n",
              "      fill: #D2E3FC;\n",
              "    }\n",
              "\n",
              "    [theme=dark] .colab-df-convert:hover {\n",
              "      background-color: #434B5C;\n",
              "      box-shadow: 0px 1px 3px 1px rgba(0, 0, 0, 0.15);\n",
              "      filter: drop-shadow(0px 1px 2px rgba(0, 0, 0, 0.3));\n",
              "      fill: #FFFFFF;\n",
              "    }\n",
              "  </style>\n",
              "\n",
              "      <script>\n",
              "        const buttonEl =\n",
              "          document.querySelector('#df-3421c6a6-f432-4857-8152-40a5c9d935e4 button.colab-df-convert');\n",
              "        buttonEl.style.display =\n",
              "          google.colab.kernel.accessAllowed ? 'block' : 'none';\n",
              "\n",
              "        async function convertToInteractive(key) {\n",
              "          const element = document.querySelector('#df-3421c6a6-f432-4857-8152-40a5c9d935e4');\n",
              "          const dataTable =\n",
              "            await google.colab.kernel.invokeFunction('convertToInteractive',\n",
              "                                                     [key], {});\n",
              "          if (!dataTable) return;\n",
              "\n",
              "          const docLinkHtml = 'Like what you see? Visit the ' +\n",
              "            '<a target=\"_blank\" href=https://colab.research.google.com/notebooks/data_table.ipynb>data table notebook</a>'\n",
              "            + ' to learn more about interactive tables.';\n",
              "          element.innerHTML = '';\n",
              "          dataTable['output_type'] = 'display_data';\n",
              "          await google.colab.output.renderOutput(dataTable, element);\n",
              "          const docLink = document.createElement('div');\n",
              "          docLink.innerHTML = docLinkHtml;\n",
              "          element.appendChild(docLink);\n",
              "        }\n",
              "      </script>\n",
              "    </div>\n",
              "  </div>\n",
              "  "
            ],
            "text/plain": [
              "                                                     name  ...  availability_365\n",
              "id                                                         ...                  \n",
              "12783632                                   NYC Mini Hotel  ...               351\n",
              "3463385                        Gorgeous room in Manhattan  ...               263\n",
              "17572926                    Great 1 Bedroom on Upper East  ...                 0\n",
              "33913644  Modern and bright 2Bed 2Bath Bushwick, Brooklyn  ...                89\n",
              "9405895                  Stylish and zen Brooklyn retreat  ...               103\n",
              "\n",
              "[5 rows x 15 columns]"
            ]
          },
          "metadata": {},
          "execution_count": 5
        }
      ]
    },
    {
      "cell_type": "code",
      "source": [
        "df.describe()"
      ],
      "metadata": {
        "colab": {
          "base_uri": "https://localhost:8080/",
          "height": 300
        },
        "id": "mPNzZIGWBC5i",
        "outputId": "72f251d9-c6b3-4d7a-fda3-ab7cb4d3beaf"
      },
      "execution_count": null,
      "outputs": [
        {
          "output_type": "execute_result",
          "data": {
            "text/html": [
              "\n",
              "  <div id=\"df-4b001094-5e10-4daa-810a-de0367b4dcc3\">\n",
              "    <div class=\"colab-df-container\">\n",
              "      <div>\n",
              "<style scoped>\n",
              "    .dataframe tbody tr th:only-of-type {\n",
              "        vertical-align: middle;\n",
              "    }\n",
              "\n",
              "    .dataframe tbody tr th {\n",
              "        vertical-align: top;\n",
              "    }\n",
              "\n",
              "    .dataframe thead th {\n",
              "        text-align: right;\n",
              "    }\n",
              "</style>\n",
              "<table border=\"1\" class=\"dataframe\">\n",
              "  <thead>\n",
              "    <tr style=\"text-align: right;\">\n",
              "      <th></th>\n",
              "      <th>host_id</th>\n",
              "      <th>latitude</th>\n",
              "      <th>longitude</th>\n",
              "      <th>price</th>\n",
              "      <th>minimum_nights</th>\n",
              "      <th>number_of_reviews</th>\n",
              "      <th>reviews_per_month</th>\n",
              "      <th>calculated_host_listings_count</th>\n",
              "      <th>availability_365</th>\n",
              "    </tr>\n",
              "  </thead>\n",
              "  <tbody>\n",
              "    <tr>\n",
              "      <th>count</th>\n",
              "      <td>3.911600e+04</td>\n",
              "      <td>39116.000000</td>\n",
              "      <td>39116.000000</td>\n",
              "      <td>39116.000000</td>\n",
              "      <td>39116.000000</td>\n",
              "      <td>39116.000000</td>\n",
              "      <td>31075.000000</td>\n",
              "      <td>39116.000000</td>\n",
              "      <td>39116.000000</td>\n",
              "    </tr>\n",
              "    <tr>\n",
              "      <th>mean</th>\n",
              "      <td>6.753109e+07</td>\n",
              "      <td>40.729037</td>\n",
              "      <td>-73.952308</td>\n",
              "      <td>153.406995</td>\n",
              "      <td>7.053073</td>\n",
              "      <td>23.261658</td>\n",
              "      <td>1.376466</td>\n",
              "      <td>7.204827</td>\n",
              "      <td>112.957613</td>\n",
              "    </tr>\n",
              "    <tr>\n",
              "      <th>std</th>\n",
              "      <td>7.863542e+07</td>\n",
              "      <td>0.054373</td>\n",
              "      <td>0.045880</td>\n",
              "      <td>242.218222</td>\n",
              "      <td>20.494289</td>\n",
              "      <td>44.601529</td>\n",
              "      <td>1.683171</td>\n",
              "      <td>33.109702</td>\n",
              "      <td>131.576326</td>\n",
              "    </tr>\n",
              "    <tr>\n",
              "      <th>min</th>\n",
              "      <td>2.438000e+03</td>\n",
              "      <td>40.507080</td>\n",
              "      <td>-74.244420</td>\n",
              "      <td>0.000000</td>\n",
              "      <td>1.000000</td>\n",
              "      <td>0.000000</td>\n",
              "      <td>0.010000</td>\n",
              "      <td>1.000000</td>\n",
              "      <td>0.000000</td>\n",
              "    </tr>\n",
              "    <tr>\n",
              "      <th>25%</th>\n",
              "      <td>7.824647e+06</td>\n",
              "      <td>40.690260</td>\n",
              "      <td>-73.983160</td>\n",
              "      <td>69.000000</td>\n",
              "      <td>1.000000</td>\n",
              "      <td>1.000000</td>\n",
              "      <td>0.190000</td>\n",
              "      <td>1.000000</td>\n",
              "      <td>0.000000</td>\n",
              "    </tr>\n",
              "    <tr>\n",
              "      <th>50%</th>\n",
              "      <td>3.059726e+07</td>\n",
              "      <td>40.723240</td>\n",
              "      <td>-73.955700</td>\n",
              "      <td>108.000000</td>\n",
              "      <td>3.000000</td>\n",
              "      <td>5.000000</td>\n",
              "      <td>0.720000</td>\n",
              "      <td>1.000000</td>\n",
              "      <td>46.000000</td>\n",
              "    </tr>\n",
              "    <tr>\n",
              "      <th>75%</th>\n",
              "      <td>1.074344e+08</td>\n",
              "      <td>40.763130</td>\n",
              "      <td>-73.936530</td>\n",
              "      <td>178.000000</td>\n",
              "      <td>5.000000</td>\n",
              "      <td>23.000000</td>\n",
              "      <td>2.020000</td>\n",
              "      <td>2.000000</td>\n",
              "      <td>226.000000</td>\n",
              "    </tr>\n",
              "    <tr>\n",
              "      <th>max</th>\n",
              "      <td>2.743213e+08</td>\n",
              "      <td>40.913060</td>\n",
              "      <td>-73.716900</td>\n",
              "      <td>10000.000000</td>\n",
              "      <td>1250.000000</td>\n",
              "      <td>629.000000</td>\n",
              "      <td>58.500000</td>\n",
              "      <td>327.000000</td>\n",
              "      <td>365.000000</td>\n",
              "    </tr>\n",
              "  </tbody>\n",
              "</table>\n",
              "</div>\n",
              "      <button class=\"colab-df-convert\" onclick=\"convertToInteractive('df-4b001094-5e10-4daa-810a-de0367b4dcc3')\"\n",
              "              title=\"Convert this dataframe to an interactive table.\"\n",
              "              style=\"display:none;\">\n",
              "        \n",
              "  <svg xmlns=\"http://www.w3.org/2000/svg\" height=\"24px\"viewBox=\"0 0 24 24\"\n",
              "       width=\"24px\">\n",
              "    <path d=\"M0 0h24v24H0V0z\" fill=\"none\"/>\n",
              "    <path d=\"M18.56 5.44l.94 2.06.94-2.06 2.06-.94-2.06-.94-.94-2.06-.94 2.06-2.06.94zm-11 1L8.5 8.5l.94-2.06 2.06-.94-2.06-.94L8.5 2.5l-.94 2.06-2.06.94zm10 10l.94 2.06.94-2.06 2.06-.94-2.06-.94-.94-2.06-.94 2.06-2.06.94z\"/><path d=\"M17.41 7.96l-1.37-1.37c-.4-.4-.92-.59-1.43-.59-.52 0-1.04.2-1.43.59L10.3 9.45l-7.72 7.72c-.78.78-.78 2.05 0 2.83L4 21.41c.39.39.9.59 1.41.59.51 0 1.02-.2 1.41-.59l7.78-7.78 2.81-2.81c.8-.78.8-2.07 0-2.86zM5.41 20L4 18.59l7.72-7.72 1.47 1.35L5.41 20z\"/>\n",
              "  </svg>\n",
              "      </button>\n",
              "      \n",
              "  <style>\n",
              "    .colab-df-container {\n",
              "      display:flex;\n",
              "      flex-wrap:wrap;\n",
              "      gap: 12px;\n",
              "    }\n",
              "\n",
              "    .colab-df-convert {\n",
              "      background-color: #E8F0FE;\n",
              "      border: none;\n",
              "      border-radius: 50%;\n",
              "      cursor: pointer;\n",
              "      display: none;\n",
              "      fill: #1967D2;\n",
              "      height: 32px;\n",
              "      padding: 0 0 0 0;\n",
              "      width: 32px;\n",
              "    }\n",
              "\n",
              "    .colab-df-convert:hover {\n",
              "      background-color: #E2EBFA;\n",
              "      box-shadow: 0px 1px 2px rgba(60, 64, 67, 0.3), 0px 1px 3px 1px rgba(60, 64, 67, 0.15);\n",
              "      fill: #174EA6;\n",
              "    }\n",
              "\n",
              "    [theme=dark] .colab-df-convert {\n",
              "      background-color: #3B4455;\n",
              "      fill: #D2E3FC;\n",
              "    }\n",
              "\n",
              "    [theme=dark] .colab-df-convert:hover {\n",
              "      background-color: #434B5C;\n",
              "      box-shadow: 0px 1px 3px 1px rgba(0, 0, 0, 0.15);\n",
              "      filter: drop-shadow(0px 1px 2px rgba(0, 0, 0, 0.3));\n",
              "      fill: #FFFFFF;\n",
              "    }\n",
              "  </style>\n",
              "\n",
              "      <script>\n",
              "        const buttonEl =\n",
              "          document.querySelector('#df-4b001094-5e10-4daa-810a-de0367b4dcc3 button.colab-df-convert');\n",
              "        buttonEl.style.display =\n",
              "          google.colab.kernel.accessAllowed ? 'block' : 'none';\n",
              "\n",
              "        async function convertToInteractive(key) {\n",
              "          const element = document.querySelector('#df-4b001094-5e10-4daa-810a-de0367b4dcc3');\n",
              "          const dataTable =\n",
              "            await google.colab.kernel.invokeFunction('convertToInteractive',\n",
              "                                                     [key], {});\n",
              "          if (!dataTable) return;\n",
              "\n",
              "          const docLinkHtml = 'Like what you see? Visit the ' +\n",
              "            '<a target=\"_blank\" href=https://colab.research.google.com/notebooks/data_table.ipynb>data table notebook</a>'\n",
              "            + ' to learn more about interactive tables.';\n",
              "          element.innerHTML = '';\n",
              "          dataTable['output_type'] = 'display_data';\n",
              "          await google.colab.output.renderOutput(dataTable, element);\n",
              "          const docLink = document.createElement('div');\n",
              "          docLink.innerHTML = docLinkHtml;\n",
              "          element.appendChild(docLink);\n",
              "        }\n",
              "      </script>\n",
              "    </div>\n",
              "  </div>\n",
              "  "
            ],
            "text/plain": [
              "            host_id  ...  availability_365\n",
              "count  3.911600e+04  ...      39116.000000\n",
              "mean   6.753109e+07  ...        112.957613\n",
              "std    7.863542e+07  ...        131.576326\n",
              "min    2.438000e+03  ...          0.000000\n",
              "25%    7.824647e+06  ...          0.000000\n",
              "50%    3.059726e+07  ...         46.000000\n",
              "75%    1.074344e+08  ...        226.000000\n",
              "max    2.743213e+08  ...        365.000000\n",
              "\n",
              "[8 rows x 9 columns]"
            ]
          },
          "metadata": {},
          "execution_count": 6
        }
      ]
    },
    {
      "cell_type": "markdown",
      "source": [
        "We look for any irregularity in attribute distribution:"
      ],
      "metadata": {
        "id": "xL1dbAwY-8ze"
      }
    },
    {
      "cell_type": "code",
      "source": [
        "df.boxplot(column=['minimum_nights', 'calculated_host_listings_count'], figsize=(12, 8))"
      ],
      "metadata": {
        "colab": {
          "base_uri": "https://localhost:8080/",
          "height": 501
        },
        "id": "72np-xmD_B7u",
        "outputId": "1fb042d9-d2ec-48b9-ac33-85e07e271306"
      },
      "execution_count": null,
      "outputs": [
        {
          "output_type": "execute_result",
          "data": {
            "text/plain": [
              "<matplotlib.axes._subplots.AxesSubplot at 0x7f8060c81f50>"
            ]
          },
          "metadata": {},
          "execution_count": 14
        },
        {
          "output_type": "display_data",
          "data": {
            "image/png": "[encoded data removed]",
            "text/plain": [
              "<Figure size 864x576 with 1 Axes>"
            ]
          },
          "metadata": {
            "needs_background": "light"
          }
        }
      ]
    },
    {
      "cell_type": "code",
      "source": [
        "df.boxplot(column='reviews_per_month', figsize=(8, 5))"
      ],
      "metadata": {
        "colab": {
          "base_uri": "https://localhost:8080/",
          "height": 338
        },
        "id": "WLjARJZ6_x2L",
        "outputId": "27d057ba-d0f0-439e-c716-f3536cbf9e0e"
      },
      "execution_count": null,
      "outputs": [
        {
          "output_type": "execute_result",
          "data": {
            "text/plain": [
              "<matplotlib.axes._subplots.AxesSubplot at 0x7f8060c811d0>"
            ]
          },
          "metadata": {},
          "execution_count": 15
        },
        {
          "output_type": "display_data",
          "data": {
            "image/png": "[encoded data removed]",
            "text/plain": [
              "<Figure size 576x360 with 1 Axes>"
            ]
          },
          "metadata": {
            "needs_background": "light"
          }
        }
      ]
    },
    {
      "cell_type": "markdown",
      "source": [
        "We can decide to represent neighbourhood_group with integers"
      ],
      "metadata": {
        "id": "2g3-nSx-Dl3t"
      }
    },
    {
      "cell_type": "code",
      "source": [
        "df['neighbourhood_group'].unique()"
      ],
      "metadata": {
        "colab": {
          "base_uri": "https://localhost:8080/"
        },
        "id": "zJ1b027FDGbc",
        "outputId": "78b2bf07-46ed-4132-95a9-b2b9569f33b9"
      },
      "execution_count": null,
      "outputs": [
        {
          "output_type": "execute_result",
          "data": {
            "text/plain": [
              "array(['Queens', 'Manhattan', 'Brooklyn', 'Bronx', 'Staten Island'],\n",
              "      dtype=object)"
            ]
          },
          "metadata": {},
          "execution_count": 8
        }
      ]
    },
    {
      "cell_type": "code",
      "source": [
        "df['room_type'].unique()"
      ],
      "metadata": {
        "colab": {
          "base_uri": "https://localhost:8080/"
        },
        "id": "oSqw9p03Flww",
        "outputId": "88e14afa-7849-4262-eea8-8db717966047"
      },
      "execution_count": null,
      "outputs": [
        {
          "output_type": "execute_result",
          "data": {
            "text/plain": [
              "array(['Private room', 'Entire home/apt', 'Shared room'], dtype=object)"
            ]
          },
          "metadata": {},
          "execution_count": 33
        }
      ]
    },
    {
      "cell_type": "code",
      "source": [
        "encoded_groups"
      ],
      "metadata": {
        "colab": {
          "base_uri": "https://localhost:8080/"
        },
        "id": "xRDB5upABtbn",
        "outputId": "1532547c-a02d-448b-d095-e84a3ec1db24"
      },
      "execution_count": null,
      "outputs": [
        {
          "output_type": "execute_result",
          "data": {
            "text/plain": [
              "array([[0., 0., 0., 1., 0.],\n",
              "       [0., 0., 1., 0., 0.],\n",
              "       [0., 0., 1., 0., 0.],\n",
              "       ...,\n",
              "       [0., 1., 0., 0., 0.],\n",
              "       [0., 1., 0., 0., 0.],\n",
              "       [0., 0., 1., 0., 0.]])"
            ]
          },
          "metadata": {},
          "execution_count": 22
        }
      ]
    },
    {
      "cell_type": "markdown",
      "source": [
        "# Let's make other kind of preprocessing:"
      ],
      "metadata": {
        "id": "JA2I5TwxIlOt"
      }
    },
    {
      "cell_type": "code",
      "source": [
        "# preprocessing date for regression\n",
        "import datetime as dt\n",
        "\n",
        "df['last_review'] = pd.to_datetime(df['last_review']).map(dt.datetime.toordinal)"
      ],
      "metadata": {
        "id": "8MleG5TUIqnL"
      },
      "execution_count": null,
      "outputs": []
    },
    {
      "cell_type": "markdown",
      "source": [
        "# Let's perform Regression Pipeline:"
      ],
      "metadata": {
        "id": "kX5HL8nPDS7H"
      }
    },
    {
      "cell_type": "code",
      "source": [
        ""
      ],
      "metadata": {
        "id": "MVlNSGWbDVGP"
      },
      "execution_count": null,
      "outputs": []
    },
    {
      "cell_type": "code",
      "source": [
        ""
      ],
      "metadata": {
        "id": "vm3K8H3Rgt_F"
      },
      "execution_count": null,
      "outputs": []
    },
    {
      "cell_type": "code",
      "source": [
        "models = [\n",
        "  LinearRegression(),\n",
        "  Ridge(random_state=42),\n",
        "  MLPRegressor(hidden_layer_sizes=(10,), random_state=42, max_iter=10000),\n",
        "  MLPRegressor(hidden_layer_sizes=(10,10), activation='tanh', solver='lbfgs',\n",
        "    alpha=0.000, batch_size='auto', learning_rate='constant',\n",
        "    learning_rate_init=0.01, power_t=0.5, max_iter=10000,\n",
        "    shuffle=True, random_state=42, tol=0.0001, verbose=True, warm_start=False,\n",
        "    momentum=0.0, nesterovs_momentum=False, early_stopping=False, \n",
        "    validation_fraction=0.0, beta_1=0.9, beta_2=0.999, epsilon=1e-08),\n",
        "  SVR(gamma='scale'),\n",
        "  RandomForestRegressor(n_estimators=300), \n",
        "  make_pipeline(\n",
        "  make_column_transformer(\n",
        "    (FunctionTransformer(np.sin), [0]),\n",
        "    (PolynomialFeatures(5), [0])\n",
        "    ),\n",
        "\n",
        "  LinearRegression()),\n",
        "  make_pipeline(\n",
        "  make_column_transformer(\n",
        "    (FunctionTransformer(np.sin), [0]),\n",
        "    (PolynomialFeatures(5), [0])\n",
        "    ),\n",
        "  Ridge(alpha=1)\n",
        "  )\n",
        "]\n",
        "\n",
        "\n",
        "\n",
        "names = [\n",
        "  'linreg',\n",
        "  'ridge',\n",
        "  'mlp_standard',\n",
        "  'mlp_tuned',\n",
        "  'svr',\n",
        "  'rf',\n",
        "  f'sin+poly{5}+linreg',\n",
        "  f'sin+poly{5}+ridge'\n",
        "]"
      ],
      "metadata": {
        "id": "W6Tn4lnpDDPC"
      },
      "execution_count": null,
      "outputs": []
    },
    {
      "cell_type": "markdown",
      "source": [
        "Let's do regression without categorical attributes:"
      ],
      "metadata": {
        "id": "KLRFPTgIFsIv"
      }
    },
    {
      "cell_type": "code",
      "source": [
        "df.columns"
      ],
      "metadata": {
        "colab": {
          "base_uri": "https://localhost:8080/"
        },
        "id": "uBYmkNgvbvqg",
        "outputId": "78a05888-22d9-4305-828c-29da046ed9cd"
      },
      "execution_count": null,
      "outputs": [
        {
          "output_type": "execute_result",
          "data": {
            "text/plain": [
              "Index(['name', 'host_id', 'host_name', 'neighbourhood_group', 'neighbourhood',\n",
              "       'latitude', 'longitude', 'room_type', 'price', 'minimum_nights',\n",
              "       'number_of_reviews', 'last_review', 'reviews_per_month',\n",
              "       'calculated_host_listings_count', 'availability_365'],\n",
              "      dtype='object')"
            ]
          },
          "metadata": {},
          "execution_count": 122
        }
      ]
    },
    {
      "cell_type": "code",
      "source": [
        "categorical_attr = ['name', 'host_id', 'host_name', 'neighbourhood_group',\\\n",
        "                    'neighbourhood', 'room_type']"
      ],
      "metadata": {
        "id": "RhkicDk4Fzxi"
      },
      "execution_count": null,
      "outputs": []
    },
    {
      "cell_type": "code",
      "source": [
        "df_drop_cat_na = df.drop(columns=categorical_attr).dropna()"
      ],
      "metadata": {
        "id": "Fff8KA6QKjZK"
      },
      "execution_count": null,
      "outputs": []
    },
    {
      "cell_type": "code",
      "source": [
        ""
      ],
      "metadata": {
        "id": "HdZMk9hSFQqs"
      },
      "execution_count": null,
      "outputs": []
    },
    {
      "cell_type": "code",
      "source": [
        "t = PrettyTable()\n",
        "t.field_names = ['model', 'MSE', 'R2']\n",
        "for model, name in zip(models, names):\n",
        "  X_train, X_test, y_train, y_test = train_test_split(df_drop_cat_na.drop(columns='price'), df_drop_cat_na['price'],\n",
        "    train_size=.7,\n",
        "    random_state=42,\n",
        "    shuffle=True)\n",
        "  model.fit(X_train, y_train)\n",
        "  y_hat = model.predict(X_test)\n",
        "  mse = mean_squared_error(y_test, y_hat)\n",
        "  r2 = r2_score(y_test, y_hat)\n",
        "  t.add_row([name, mse, r2])\n",
        "print(t)"
      ],
      "metadata": {
        "colab": {
          "base_uri": "https://localhost:8080/"
        },
        "id": "M4cBZKLQGvcN",
        "outputId": "5260577c-95ef-43fb-ef96-66c803ffb743"
      },
      "execution_count": null,
      "outputs": [
        {
          "output_type": "stream",
          "name": "stdout",
          "text": [
            "+------------------+--------------------+------------------------+\n",
            "|      model       |        MSE         |           R2           |\n",
            "+------------------+--------------------+------------------------+\n",
            "|      linreg      | 26916.48245685793  |  0.048558176168394196  |\n",
            "|      ridge       | 26917.403334259507 |  0.048525625062361355  |\n",
            "|   mlp_standard   | 28380.705001139162 | -0.003199053635284832  |\n",
            "|    mlp_tuned     | 28290.612138793593 | -1.445782483044944e-05 |\n",
            "|       svr        | 29894.608788946036 | -0.056712412347190266  |\n",
            "|        rf        | 26124.713710099277 |  0.07654555905456262   |\n",
            "| sin+poly5+linreg | 27317.193172339743 |  0.034393883542938375  |\n",
            "| sin+poly5+ridge  | 27675.81401279784  |  0.021717380695422284  |\n",
            "+------------------+--------------------+------------------------+\n"
          ]
        },
        {
          "output_type": "stream",
          "name": "stderr",
          "text": [
            "/usr/local/lib/python3.7/dist-packages/sklearn/linear_model/_ridge.py:156: LinAlgWarning: Ill-conditioned matrix (rcond=7.71167e-17): result may not be accurate.\n",
            "  return linalg.solve(A, Xy, sym_pos=True, overwrite_a=True).T\n"
          ]
        }
      ]
    },
    {
      "cell_type": "markdown",
      "source": [
        "Let's encode some categorical attribute and do regression:"
      ],
      "metadata": {
        "id": "YQPqVx7COG7J"
      }
    },
    {
      "cell_type": "code",
      "source": [
        "categorical_attr = ['name', 'host_id', 'host_name',\\\n",
        "                    'neighbourhood']"
      ],
      "metadata": {
        "id": "hhL10Kr3TCbe"
      },
      "execution_count": null,
      "outputs": []
    },
    {
      "cell_type": "code",
      "source": [
        "df_drop_cat_na = df.dropna().drop(columns=categorical_attr)"
      ],
      "metadata": {
        "id": "MM9OvHNoOVv-"
      },
      "execution_count": null,
      "outputs": []
    },
    {
      "cell_type": "code",
      "source": [
        "# This perform one-hot encoding\n",
        "df_drop_cat_na = pd.get_dummies(df_drop_cat_na, columns=[\"neighbourhood_group\", \"room_type\"], prefix=[\"group\", \"room\"])"
      ],
      "metadata": {
        "id": "a16C6P6rU0rN"
      },
      "execution_count": null,
      "outputs": []
    },
    {
      "cell_type": "code",
      "source": [
        "t = PrettyTable()\n",
        "t.field_names = ['model', 'MSE', 'R2']\n",
        "for model, name in zip(models, names):\n",
        "  X_train, X_test, y_train, y_test = train_test_split(df_drop_cat_na.drop(columns='price'), df_drop_cat_na['price'],\n",
        "    train_size=.7,\n",
        "    random_state=42,\n",
        "    shuffle=True)\n",
        "  model.fit(X_train, y_train)\n",
        "  y_hat = model.predict(X_test)\n",
        "  mse = mean_squared_error(y_test, y_hat)\n",
        "  r2 = r2_score(y_test, y_hat)\n",
        "  t.add_row([name, mse, r2])\n",
        "print(t)"
      ],
      "metadata": {
        "colab": {
          "base_uri": "https://localhost:8080/"
        },
        "id": "PdESHMZBQicc",
        "outputId": "59383512-48fa-42cb-9dd6-1ba6a2d7caa6"
      },
      "execution_count": null,
      "outputs": [
        {
          "output_type": "stream",
          "name": "stdout",
          "text": [
            "+------------------+--------------------+------------------------+\n",
            "|      model       |        MSE         |           R2           |\n",
            "+------------------+--------------------+------------------------+\n",
            "|      linreg      | 34159.65069501224  |  0.10748406439513469   |\n",
            "|      ridge       | 34157.20149454196  |  0.10754805657317934   |\n",
            "|   mlp_standard   | 40550.38285332503  | -0.059491597692343134  |\n",
            "|    mlp_tuned     |  38273.8091853129  | -9.775251578858501e-06 |\n",
            "|       svr        | 39950.27046883575  |  -0.04381199162457028  |\n",
            "|        rf        | 33968.856095557705 |  0.11246910425871226   |\n",
            "| sin+poly5+linreg | 37530.522305799175 |  0.01941066293190874   |\n",
            "| sin+poly5+ridge  | 37781.956454006395 |  0.012841246106374604  |\n",
            "+------------------+--------------------+------------------------+\n"
          ]
        },
        {
          "output_type": "stream",
          "name": "stderr",
          "text": [
            "/usr/local/lib/python3.7/dist-packages/sklearn/linear_model/_ridge.py:156: LinAlgWarning: Ill-conditioned matrix (rcond=7.70258e-17): result may not be accurate.\n",
            "  return linalg.solve(A, Xy, sym_pos=True, overwrite_a=True).T\n"
          ]
        }
      ]
    },
    {
      "cell_type": "markdown",
      "source": [
        "Let's try to normalize using Standard Scaler:"
      ],
      "metadata": {
        "id": "MxJOm2mBX8P0"
      }
    },
    {
      "cell_type": "code",
      "source": [
        "interesting_models = [\n",
        "  Ridge(random_state=42),\n",
        "  RandomForestRegressor(n_estimators=300), \n",
        "]\n",
        "\n",
        "interesting_names = [\n",
        "  'ridge',\n",
        "  'rf',\n",
        "]"
      ],
      "metadata": {
        "id": "RXNrBD0mDkHj"
      },
      "execution_count": null,
      "outputs": []
    },
    {
      "cell_type": "code",
      "source": [
        "from sklearn.preprocessing import StandardScaler\n",
        "\n",
        "# create an abs_scaler object\n",
        "scaler = StandardScaler()\n",
        "\n",
        "# calculate the maximum absolute value for scaling the data using the fit method\n",
        "scaler.fit(df_drop_cat_na.iloc[:, :9])\n",
        "\n",
        "# transform the data using the parameters calculated by the fit method (the maximum absolute values)\n",
        "scaled_data = scaler.transform(df_drop_cat_na.iloc[:, :9])\n",
        "\n",
        "# store the results in a data frame\n",
        "df_drop_cat_na.iloc[:, :9] = scaled_data\n",
        "\n",
        "# visualize the data frame\n",
        "df_drop_cat_na"
      ],
      "metadata": {
        "colab": {
          "base_uri": "https://localhost:8080/",
          "height": 536
        },
        "id": "fMmuALy1Y9j1",
        "outputId": "1c1c81fa-b571-4055-dd54-46ea7a12338f"
      },
      "execution_count": null,
      "outputs": [
        {
          "output_type": "execute_result",
          "data": {
            "text/html": [
              "\n",
              "  <div id=\"df-05a66511-690e-4aaf-a24e-0db1477f6d75\">\n",
              "    <div class=\"colab-df-container\">\n",
              "      <div>\n",
              "<style scoped>\n",
              "    .dataframe tbody tr th:only-of-type {\n",
              "        vertical-align: middle;\n",
              "    }\n",
              "\n",
              "    .dataframe tbody tr th {\n",
              "        vertical-align: top;\n",
              "    }\n",
              "\n",
              "    .dataframe thead th {\n",
              "        text-align: right;\n",
              "    }\n",
              "</style>\n",
              "<table border=\"1\" class=\"dataframe\">\n",
              "  <thead>\n",
              "    <tr style=\"text-align: right;\">\n",
              "      <th></th>\n",
              "      <th>latitude</th>\n",
              "      <th>longitude</th>\n",
              "      <th>price</th>\n",
              "      <th>minimum_nights</th>\n",
              "      <th>number_of_reviews</th>\n",
              "      <th>last_review</th>\n",
              "      <th>reviews_per_month</th>\n",
              "      <th>calculated_host_listings_count</th>\n",
              "      <th>availability_365</th>\n",
              "      <th>group_Bronx</th>\n",
              "      <th>group_Brooklyn</th>\n",
              "      <th>group_Manhattan</th>\n",
              "      <th>group_Queens</th>\n",
              "      <th>group_Staten Island</th>\n",
              "      <th>room_Entire home/apt</th>\n",
              "      <th>room_Private room</th>\n",
              "      <th>room_Shared room</th>\n",
              "    </tr>\n",
              "    <tr>\n",
              "      <th>id</th>\n",
              "      <th></th>\n",
              "      <th></th>\n",
              "      <th></th>\n",
              "      <th></th>\n",
              "      <th></th>\n",
              "      <th></th>\n",
              "      <th></th>\n",
              "      <th></th>\n",
              "      <th></th>\n",
              "      <th></th>\n",
              "      <th></th>\n",
              "      <th></th>\n",
              "      <th></th>\n",
              "      <th></th>\n",
              "      <th></th>\n",
              "      <th></th>\n",
              "      <th></th>\n",
              "    </tr>\n",
              "  </thead>\n",
              "  <tbody>\n",
              "    <tr>\n",
              "      <th>12783632</th>\n",
              "      <td>0.222208</td>\n",
              "      <td>1.402739</td>\n",
              "      <td>-0.343621</td>\n",
              "      <td>-0.271454</td>\n",
              "      <td>-0.565345</td>\n",
              "      <td>0.564030</td>\n",
              "      <td>-0.271228</td>\n",
              "      <td>-0.082781</td>\n",
              "      <td>1.822310</td>\n",
              "      <td>0</td>\n",
              "      <td>0</td>\n",
              "      <td>0</td>\n",
              "      <td>1</td>\n",
              "      <td>0</td>\n",
              "      <td>0</td>\n",
              "      <td>1</td>\n",
              "      <td>0</td>\n",
              "    </tr>\n",
              "    <tr>\n",
              "      <th>3463385</th>\n",
              "      <td>0.711583</td>\n",
              "      <td>-0.087631</td>\n",
              "      <td>-0.241990</td>\n",
              "      <td>-0.271454</td>\n",
              "      <td>3.580090</td>\n",
              "      <td>0.566424</td>\n",
              "      <td>1.148876</td>\n",
              "      <td>-0.120666</td>\n",
              "      <td>1.142815</td>\n",
              "      <td>0</td>\n",
              "      <td>0</td>\n",
              "      <td>1</td>\n",
              "      <td>0</td>\n",
              "      <td>0</td>\n",
              "      <td>0</td>\n",
              "      <td>1</td>\n",
              "      <td>0</td>\n",
              "    </tr>\n",
              "    <tr>\n",
              "      <th>33913644</th>\n",
              "      <td>-0.477526</td>\n",
              "      <td>0.815376</td>\n",
              "      <td>0.037496</td>\n",
              "      <td>-0.215924</td>\n",
              "      <td>-0.523891</td>\n",
              "      <td>0.664582</td>\n",
              "      <td>0.156586</td>\n",
              "      <td>-0.158551</td>\n",
              "      <td>-0.200733</td>\n",
              "      <td>0</td>\n",
              "      <td>1</td>\n",
              "      <td>0</td>\n",
              "      <td>0</td>\n",
              "      <td>0</td>\n",
              "      <td>1</td>\n",
              "      <td>0</td>\n",
              "      <td>0</td>\n",
              "    </tr>\n",
              "    <tr>\n",
              "      <th>9405895</th>\n",
              "      <td>-0.713266</td>\n",
              "      <td>-0.587364</td>\n",
              "      <td>0.926770</td>\n",
              "      <td>-0.160393</td>\n",
              "      <td>-0.275165</td>\n",
              "      <td>0.477843</td>\n",
              "      <td>-0.568321</td>\n",
              "      <td>-0.158551</td>\n",
              "      <td>-0.092632</td>\n",
              "      <td>0</td>\n",
              "      <td>1</td>\n",
              "      <td>0</td>\n",
              "      <td>0</td>\n",
              "      <td>0</td>\n",
              "      <td>1</td>\n",
              "      <td>0</td>\n",
              "      <td>0</td>\n",
              "    </tr>\n",
              "    <tr>\n",
              "      <th>7310413</th>\n",
              "      <td>-0.441370</td>\n",
              "      <td>0.828725</td>\n",
              "      <td>0.418614</td>\n",
              "      <td>-0.215924</td>\n",
              "      <td>-0.544618</td>\n",
              "      <td>-2.488426</td>\n",
              "      <td>-0.782228</td>\n",
              "      <td>-0.158551</td>\n",
              "      <td>-0.887951</td>\n",
              "      <td>0</td>\n",
              "      <td>1</td>\n",
              "      <td>0</td>\n",
              "      <td>0</td>\n",
              "      <td>0</td>\n",
              "      <td>1</td>\n",
              "      <td>0</td>\n",
              "      <td>0</td>\n",
              "    </tr>\n",
              "    <tr>\n",
              "      <th>...</th>\n",
              "      <td>...</td>\n",
              "      <td>...</td>\n",
              "      <td>...</td>\n",
              "      <td>...</td>\n",
              "      <td>...</td>\n",
              "      <td>...</td>\n",
              "      <td>...</td>\n",
              "      <td>...</td>\n",
              "      <td>...</td>\n",
              "      <td>...</td>\n",
              "      <td>...</td>\n",
              "      <td>...</td>\n",
              "      <td>...</td>\n",
              "      <td>...</td>\n",
              "      <td>...</td>\n",
              "      <td>...</td>\n",
              "      <td>...</td>\n",
              "    </tr>\n",
              "    <tr>\n",
              "      <th>20678811</th>\n",
              "      <td>-1.455363</td>\n",
              "      <td>0.273442</td>\n",
              "      <td>-0.521476</td>\n",
              "      <td>-0.160393</td>\n",
              "      <td>0.595376</td>\n",
              "      <td>0.604730</td>\n",
              "      <td>0.709178</td>\n",
              "      <td>-0.082781</td>\n",
              "      <td>1.474841</td>\n",
              "      <td>0</td>\n",
              "      <td>1</td>\n",
              "      <td>0</td>\n",
              "      <td>0</td>\n",
              "      <td>0</td>\n",
              "      <td>0</td>\n",
              "      <td>1</td>\n",
              "      <td>0</td>\n",
              "    </tr>\n",
              "    <tr>\n",
              "      <th>29630190</th>\n",
              "      <td>-0.770238</td>\n",
              "      <td>-0.839276</td>\n",
              "      <td>-0.394436</td>\n",
              "      <td>-0.215924</td>\n",
              "      <td>-0.295892</td>\n",
              "      <td>0.547272</td>\n",
              "      <td>0.251655</td>\n",
              "      <td>-0.120666</td>\n",
              "      <td>-0.887951</td>\n",
              "      <td>0</td>\n",
              "      <td>1</td>\n",
              "      <td>0</td>\n",
              "      <td>0</td>\n",
              "      <td>0</td>\n",
              "      <td>0</td>\n",
              "      <td>1</td>\n",
              "      <td>0</td>\n",
              "    </tr>\n",
              "    <tr>\n",
              "      <th>3811639</th>\n",
              "      <td>-0.371799</td>\n",
              "      <td>0.624612</td>\n",
              "      <td>0.037496</td>\n",
              "      <td>-0.160393</td>\n",
              "      <td>3.600817</td>\n",
              "      <td>0.628671</td>\n",
              "      <td>1.214236</td>\n",
              "      <td>-0.158551</td>\n",
              "      <td>1.490284</td>\n",
              "      <td>0</td>\n",
              "      <td>1</td>\n",
              "      <td>0</td>\n",
              "      <td>0</td>\n",
              "      <td>0</td>\n",
              "      <td>1</td>\n",
              "      <td>0</td>\n",
              "      <td>0</td>\n",
              "    </tr>\n",
              "    <tr>\n",
              "      <th>2404708</th>\n",
              "      <td>-0.158519</td>\n",
              "      <td>-0.248898</td>\n",
              "      <td>0.545653</td>\n",
              "      <td>-0.049333</td>\n",
              "      <td>-0.171529</td>\n",
              "      <td>0.422779</td>\n",
              "      <td>-0.609914</td>\n",
              "      <td>-0.158551</td>\n",
              "      <td>1.304967</td>\n",
              "      <td>0</td>\n",
              "      <td>1</td>\n",
              "      <td>0</td>\n",
              "      <td>0</td>\n",
              "      <td>0</td>\n",
              "      <td>1</td>\n",
              "      <td>0</td>\n",
              "      <td>0</td>\n",
              "    </tr>\n",
              "    <tr>\n",
              "      <th>15310580</th>\n",
              "      <td>0.167244</td>\n",
              "      <td>-0.624397</td>\n",
              "      <td>-0.114951</td>\n",
              "      <td>-0.049333</td>\n",
              "      <td>-0.440982</td>\n",
              "      <td>-0.525278</td>\n",
              "      <td>-0.669333</td>\n",
              "      <td>-0.120666</td>\n",
              "      <td>-0.887951</td>\n",
              "      <td>0</td>\n",
              "      <td>0</td>\n",
              "      <td>1</td>\n",
              "      <td>0</td>\n",
              "      <td>0</td>\n",
              "      <td>1</td>\n",
              "      <td>0</td>\n",
              "      <td>0</td>\n",
              "    </tr>\n",
              "  </tbody>\n",
              "</table>\n",
              "<p>31056 rows × 17 columns</p>\n",
              "</div>\n",
              "      <button class=\"colab-df-convert\" onclick=\"convertToInteractive('df-05a66511-690e-4aaf-a24e-0db1477f6d75')\"\n",
              "              title=\"Convert this dataframe to an interactive table.\"\n",
              "              style=\"display:none;\">\n",
              "        \n",
              "  <svg xmlns=\"http://www.w3.org/2000/svg\" height=\"24px\"viewBox=\"0 0 24 24\"\n",
              "       width=\"24px\">\n",
              "    <path d=\"M0 0h24v24H0V0z\" fill=\"none\"/>\n",
              "    <path d=\"M18.56 5.44l.94 2.06.94-2.06 2.06-.94-2.06-.94-.94-2.06-.94 2.06-2.06.94zm-11 1L8.5 8.5l.94-2.06 2.06-.94-2.06-.94L8.5 2.5l-.94 2.06-2.06.94zm10 10l.94 2.06.94-2.06 2.06-.94-2.06-.94-.94-2.06-.94 2.06-2.06.94z\"/><path d=\"M17.41 7.96l-1.37-1.37c-.4-.4-.92-.59-1.43-.59-.52 0-1.04.2-1.43.59L10.3 9.45l-7.72 7.72c-.78.78-.78 2.05 0 2.83L4 21.41c.39.39.9.59 1.41.59.51 0 1.02-.2 1.41-.59l7.78-7.78 2.81-2.81c.8-.78.8-2.07 0-2.86zM5.41 20L4 18.59l7.72-7.72 1.47 1.35L5.41 20z\"/>\n",
              "  </svg>\n",
              "      </button>\n",
              "      \n",
              "  <style>\n",
              "    .colab-df-container {\n",
              "      display:flex;\n",
              "      flex-wrap:wrap;\n",
              "      gap: 12px;\n",
              "    }\n",
              "\n",
              "    .colab-df-convert {\n",
              "      background-color: #E8F0FE;\n",
              "      border: none;\n",
              "      border-radius: 50%;\n",
              "      cursor: pointer;\n",
              "      display: none;\n",
              "      fill: #1967D2;\n",
              "      height: 32px;\n",
              "      padding: 0 0 0 0;\n",
              "      width: 32px;\n",
              "    }\n",
              "\n",
              "    .colab-df-convert:hover {\n",
              "      background-color: #E2EBFA;\n",
              "      box-shadow: 0px 1px 2px rgba(60, 64, 67, 0.3), 0px 1px 3px 1px rgba(60, 64, 67, 0.15);\n",
              "      fill: #174EA6;\n",
              "    }\n",
              "\n",
              "    [theme=dark] .colab-df-convert {\n",
              "      background-color: #3B4455;\n",
              "      fill: #D2E3FC;\n",
              "    }\n",
              "\n",
              "    [theme=dark] .colab-df-convert:hover {\n",
              "      background-color: #434B5C;\n",
              "      box-shadow: 0px 1px 3px 1px rgba(0, 0, 0, 0.15);\n",
              "      filter: drop-shadow(0px 1px 2px rgba(0, 0, 0, 0.3));\n",
              "      fill: #FFFFFF;\n",
              "    }\n",
              "  </style>\n",
              "\n",
              "      <script>\n",
              "        const buttonEl =\n",
              "          document.querySelector('#df-05a66511-690e-4aaf-a24e-0db1477f6d75 button.colab-df-convert');\n",
              "        buttonEl.style.display =\n",
              "          google.colab.kernel.accessAllowed ? 'block' : 'none';\n",
              "\n",
              "        async function convertToInteractive(key) {\n",
              "          const element = document.querySelector('#df-05a66511-690e-4aaf-a24e-0db1477f6d75');\n",
              "          const dataTable =\n",
              "            await google.colab.kernel.invokeFunction('convertToInteractive',\n",
              "                                                     [key], {});\n",
              "          if (!dataTable) return;\n",
              "\n",
              "          const docLinkHtml = 'Like what you see? Visit the ' +\n",
              "            '<a target=\"_blank\" href=https://colab.research.google.com/notebooks/data_table.ipynb>data table notebook</a>'\n",
              "            + ' to learn more about interactive tables.';\n",
              "          element.innerHTML = '';\n",
              "          dataTable['output_type'] = 'display_data';\n",
              "          await google.colab.output.renderOutput(dataTable, element);\n",
              "          const docLink = document.createElement('div');\n",
              "          docLink.innerHTML = docLinkHtml;\n",
              "          element.appendChild(docLink);\n",
              "        }\n",
              "      </script>\n",
              "    </div>\n",
              "  </div>\n",
              "  "
            ],
            "text/plain": [
              "          latitude  longitude  ...  room_Private room  room_Shared room\n",
              "id                             ...                                     \n",
              "12783632  0.222208   1.402739  ...                  1                 0\n",
              "3463385   0.711583  -0.087631  ...                  1                 0\n",
              "33913644 -0.477526   0.815376  ...                  0                 0\n",
              "9405895  -0.713266  -0.587364  ...                  0                 0\n",
              "7310413  -0.441370   0.828725  ...                  0                 0\n",
              "...            ...        ...  ...                ...               ...\n",
              "20678811 -1.455363   0.273442  ...                  1                 0\n",
              "29630190 -0.770238  -0.839276  ...                  1                 0\n",
              "3811639  -0.371799   0.624612  ...                  0                 0\n",
              "2404708  -0.158519  -0.248898  ...                  0                 0\n",
              "15310580  0.167244  -0.624397  ...                  0                 0\n",
              "\n",
              "[31056 rows x 17 columns]"
            ]
          },
          "metadata": {},
          "execution_count": 136
        }
      ]
    },
    {
      "cell_type": "code",
      "source": [
        "df_drop_cat_na.columns"
      ],
      "metadata": {
        "id": "mwaXnAhZdYMA"
      },
      "execution_count": null,
      "outputs": []
    },
    {
      "cell_type": "code",
      "source": [
        "t = PrettyTable()\n",
        "t.field_names = ['model', 'MSE', 'R2']\n",
        "for model, name in zip(interesting_models, interesting_names):\n",
        "  X_train, X_test, y_train, y_test = train_test_split(df_drop_cat_na.drop(columns='price'), df_drop_cat_na['price'],\n",
        "    train_size=.7,\n",
        "    random_state=42,\n",
        "    shuffle=True)\n",
        "  model.fit(X_train, y_train)\n",
        "  y_hat = model.predict(X_test)\n",
        "  mse = mean_squared_error(y_test, y_hat)\n",
        "  r2 = r2_score(y_test, y_hat)\n",
        "  t.add_row([name, mse, r2])\n",
        "print(t)"
      ],
      "metadata": {
        "colab": {
          "base_uri": "https://localhost:8080/"
        },
        "id": "PvEX24qZQRyP",
        "outputId": "88dfae8c-75ec-4f03-9c36-18292cab0260"
      },
      "execution_count": null,
      "outputs": [
        {
          "output_type": "stream",
          "name": "stdout",
          "text": [
            "+-------+--------------------+---------------------+\n",
            "| model |        MSE         |          R2         |\n",
            "+-------+--------------------+---------------------+\n",
            "| ridge | 0.8820702349652658 | 0.10749395595585942 |\n",
            "|   rf  | 0.8728993585180671 | 0.11677333341793783 |\n",
            "+-------+--------------------+---------------------+\n"
          ]
        }
      ]
    },
    {
      "cell_type": "code",
      "source": [
        "df_drop_cat_na.info()"
      ],
      "metadata": {
        "id": "bvr9VGBSaYkC",
        "colab": {
          "base_uri": "https://localhost:8080/"
        },
        "outputId": "94ea1a61-bce5-43ee-acb9-055201d118b9"
      },
      "execution_count": null,
      "outputs": [
        {
          "output_type": "stream",
          "name": "stdout",
          "text": [
            "<class 'pandas.core.frame.DataFrame'>\n",
            "Int64Index: 31056 entries, 12783632 to 15310580\n",
            "Data columns (total 17 columns):\n",
            " #   Column                          Non-Null Count  Dtype  \n",
            "---  ------                          --------------  -----  \n",
            " 0   latitude                        31056 non-null  float64\n",
            " 1   longitude                       31056 non-null  float64\n",
            " 2   price                           31056 non-null  float64\n",
            " 3   minimum_nights                  31056 non-null  float64\n",
            " 4   number_of_reviews               31056 non-null  float64\n",
            " 5   last_review                     31056 non-null  float64\n",
            " 6   reviews_per_month               31056 non-null  float64\n",
            " 7   calculated_host_listings_count  31056 non-null  float64\n",
            " 8   availability_365                31056 non-null  float64\n",
            " 9   group_Bronx                     31056 non-null  uint8  \n",
            " 10  group_Brooklyn                  31056 non-null  uint8  \n",
            " 11  group_Manhattan                 31056 non-null  uint8  \n",
            " 12  group_Queens                    31056 non-null  uint8  \n",
            " 13  group_Staten Island             31056 non-null  uint8  \n",
            " 14  room_Entire home/apt            31056 non-null  uint8  \n",
            " 15  room_Private room               31056 non-null  uint8  \n",
            " 16  room_Shared room                31056 non-null  uint8  \n",
            "dtypes: float64(9), uint8(8)\n",
            "memory usage: 2.6 MB\n"
          ]
        }
      ]
    },
    {
      "cell_type": "code",
      "source": [
        ""
      ],
      "metadata": {
        "id": "fNW-zqz9gCId"
      },
      "execution_count": null,
      "outputs": []
    },
    {
      "cell_type": "markdown",
      "source": [
        "Let's try a Grid Search:"
      ],
      "metadata": {
        "id": "9G8qC04HgkY3"
      }
    },
    {
      "cell_type": "code",
      "source": [
        "lasso_params = {'alpha':[0.02, 0.024, 0.025, 0.026, 0.03]}\n",
        "ridge_params = {'alpha':[200, 230, 250,265, 270, 275, 290, 300, 500]}\n",
        "\n",
        "models2 = {'OLS': LinearRegression(),\n",
        "           'Ridge': GridSearchCV(Ridge(random_state=42), \n",
        "                               param_grid=ridge_params).fit(df_drop_cat_na.drop(columns='price'), df_drop_cat_na['price']).best_estimator_}"
      ],
      "metadata": {
        "id": "6gC1cgIDgmDK"
      },
      "execution_count": null,
      "outputs": []
    },
    {
      "cell_type": "code",
      "source": [
        "models2['Ridge']"
      ],
      "metadata": {
        "colab": {
          "base_uri": "https://localhost:8080/"
        },
        "id": "RFwY6F8HiYvM",
        "outputId": "493600d4-68dc-4b74-8314-e1280ffc28cf"
      },
      "execution_count": null,
      "outputs": [
        {
          "output_type": "execute_result",
          "data": {
            "text/plain": [
              "Ridge(alpha=200, random_state=42)"
            ]
          },
          "metadata": {},
          "execution_count": 144
        }
      ]
    },
    {
      "cell_type": "code",
      "source": [
        "t = PrettyTable()\n",
        "t.field_names = ['model', 'MSE', 'R2']\n",
        "for model, name in zip(models2.val, names):\n",
        "  X_train, X_test, y_train, y_test = train_test_split(df_drop_cat_na.drop(columns='price'), df_drop_cat_na['price'],\n",
        "    train_size=.7,\n",
        "    random_state=42,\n",
        "    shuffle=True)\n",
        "  model.fit(X_train, y_train)\n",
        "  y_hat = model.predict(X_test)\n",
        "  mse = mean_squared_error(y_test, y_hat)\n",
        "  r2 = r2_score(y_test, y_hat)\n",
        "  t.add_row([name, mse, r2])\n",
        "print(t)"
      ],
      "metadata": {
        "id": "ubEqBtBJhIJC"
      },
      "execution_count": null,
      "outputs": []
    }
  ]
}