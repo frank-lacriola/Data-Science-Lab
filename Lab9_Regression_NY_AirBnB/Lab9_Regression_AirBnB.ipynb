{
  "nbformat": 4,
  "nbformat_minor": 0,
  "metadata": {
    "colab": {
      "name": "Lab9_Regression_AirBnB.ipynb",
      "provenance": [],
      "collapsed_sections": [],
      "authorship_tag": "ABX9TyM8ox1cVZZN6cwmffErqhYT",
      "include_colab_link": true
    },
    "kernelspec": {
      "name": "python3",
      "display_name": "Python 3"
    },
    "language_info": {
      "name": "python"
    }
  },
  "cells": [
    {
      "cell_type": "markdown",
      "metadata": {
        "id": "view-in-github",
        "colab_type": "text"
      },
      "source": [
        "<a href=\"https://colab.research.google.com/github/frank-lacriola/Data-Science-Lab/blob/main/Lab9_Regression_NY_AirBnB/Lab9_Regression_AirBnB.ipynb\" target=\"_parent\"><img src=\"https://colab.research.google.com/assets/colab-badge.svg\" alt=\"Open In Colab\"/></a>"
      ]
    },
    {
      "cell_type": "code",
      "execution_count": 1,
      "metadata": {
        "colab": {
          "base_uri": "https://localhost:8080/"
        },
        "id": "nMhpwVjP-v6P",
        "outputId": "5436f934-2b65-413d-d93d-f54f559cbeb2"
      },
      "outputs": [
        {
          "output_type": "stream",
          "name": "stdout",
          "text": [
            "--2021-12-22 23:38:03--  https://github.com/dbdmg/data-science-lab/raw/master/datasets/NYC_Airbnb.zip\n",
            "Resolving github.com (github.com)... 140.82.112.4\n",
            "Connecting to github.com (github.com)|140.82.112.4|:443... connected.\n",
            "HTTP request sent, awaiting response... 302 Found\n",
            "Location: https://raw.githubusercontent.com/dbdmg/data-science-lab/master/datasets/NYC_Airbnb.zip [following]\n",
            "--2021-12-22 23:38:04--  https://raw.githubusercontent.com/dbdmg/data-science-lab/master/datasets/NYC_Airbnb.zip\n",
            "Resolving raw.githubusercontent.com (raw.githubusercontent.com)... 185.199.111.133, 185.199.108.133, 185.199.110.133, ...\n",
            "Connecting to raw.githubusercontent.com (raw.githubusercontent.com)|185.199.111.133|:443... connected.\n",
            "HTTP request sent, awaiting response... 200 OK\n",
            "Length: 2563162 (2.4M) [application/zip]\n",
            "Saving to: ‘NYC_Airbnb.zip’\n",
            "\n",
            "NYC_Airbnb.zip      100%[===================>]   2.44M  --.-KB/s    in 0.07s   \n",
            "\n",
            "2021-12-22 23:38:04 (36.6 MB/s) - ‘NYC_Airbnb.zip’ saved [2563162/2563162]\n",
            "\n"
          ]
        }
      ],
      "source": [
        " !wget https://github.com/dbdmg/data-science-lab/raw/master/datasets/NYC_Airbnb.zip"
      ]
    },
    {
      "cell_type": "code",
      "source": [
        "!unzip \"/content/NYC_Airbnb.zip\""
      ],
      "metadata": {
        "colab": {
          "base_uri": "https://localhost:8080/"
        },
        "id": "mmKRuw6e_LwP",
        "outputId": "ec93e89b-1329-4e64-d5d5-aee7612f38c6"
      },
      "execution_count": 2,
      "outputs": [
        {
          "output_type": "stream",
          "name": "stdout",
          "text": [
            "Archive:  /content/NYC_Airbnb.zip\n",
            "   creating: NYC_Airbnb/\n",
            "  inflating: NYC_Airbnb/development.csv  \n",
            "  inflating: __MACOSX/NYC_Airbnb/._development.csv  \n",
            "  inflating: NYC_Airbnb/sample_submission.csv  \n",
            "  inflating: __MACOSX/NYC_Airbnb/._sample_submission.csv  \n",
            "  inflating: NYC_Airbnb/evaluation.csv  \n",
            "  inflating: __MACOSX/NYC_Airbnb/._evaluation.csv  \n"
          ]
        }
      ]
    },
    {
      "cell_type": "code",
      "source": [
        "from sklearn.datasets import make_regression\n",
        "from sklearn.pipeline import make_pipeline\n",
        "from sklearn.preprocessing import PolynomialFeatures, FunctionTransformer\n",
        "from sklearn.compose import make_column_transformer\n",
        "import pandas as pd\n",
        "import seaborn as sns\n",
        "from prettytable import PrettyTable\n",
        "import numpy as np\n",
        "from sklearn.model_selection import train_test_split\n",
        "from sklearn.model_selection import GridSearchCV\n",
        "import matplotlib.pyplot as plt\n",
        "from sklearn.linear_model import LinearRegression, Ridge\n",
        "from sklearn.svm import SVR\n",
        "from sklearn.neural_network import MLPRegressor\n",
        "from sklearn.ensemble import RandomForestRegressor\n",
        "from sklearn.metrics import r2_score\n",
        "from sklearn.metrics import mean_absolute_error\n",
        "from sklearn.metrics import mean_squared_error"
      ],
      "metadata": {
        "id": "PTy34Op3gzCQ"
      },
      "execution_count": 3,
      "outputs": []
    },
    {
      "cell_type": "code",
      "source": [
        "df = pd.read_csv(\"/content/NYC_Airbnb/development.csv\", index_col=0)"
      ],
      "metadata": {
        "id": "6MTThdfw_X1s"
      },
      "execution_count": 4,
      "outputs": []
    },
    {
      "cell_type": "code",
      "source": [
        "df.info()"
      ],
      "metadata": {
        "colab": {
          "base_uri": "https://localhost:8080/"
        },
        "id": "Iayiq3RV9nLY",
        "outputId": "645e100a-a699-435c-afbb-5d9cd0874968"
      },
      "execution_count": 5,
      "outputs": [
        {
          "output_type": "stream",
          "name": "stdout",
          "text": [
            "<class 'pandas.core.frame.DataFrame'>\n",
            "Int64Index: 39116 entries, 12783632 to 15310580\n",
            "Data columns (total 15 columns):\n",
            " #   Column                          Non-Null Count  Dtype  \n",
            "---  ------                          --------------  -----  \n",
            " 0   name                            39103 non-null  object \n",
            " 1   host_id                         39116 non-null  int64  \n",
            " 2   host_name                       39097 non-null  object \n",
            " 3   neighbourhood_group             39116 non-null  object \n",
            " 4   neighbourhood                   39116 non-null  object \n",
            " 5   latitude                        39116 non-null  float64\n",
            " 6   longitude                       39116 non-null  float64\n",
            " 7   room_type                       39116 non-null  object \n",
            " 8   price                           39116 non-null  int64  \n",
            " 9   minimum_nights                  39116 non-null  int64  \n",
            " 10  number_of_reviews               39116 non-null  int64  \n",
            " 11  last_review                     31075 non-null  object \n",
            " 12  reviews_per_month               31075 non-null  float64\n",
            " 13  calculated_host_listings_count  39116 non-null  int64  \n",
            " 14  availability_365                39116 non-null  int64  \n",
            "dtypes: float64(3), int64(6), object(6)\n",
            "memory usage: 4.8+ MB\n"
          ]
        }
      ]
    },
    {
      "cell_type": "code",
      "source": [
        "df.head()"
      ],
      "metadata": {
        "colab": {
          "base_uri": "https://localhost:8080/",
          "height": 544
        },
        "id": "Z8eODrydBCWN",
        "outputId": "90c23ceb-02f1-439b-891f-3a6ce0456a62"
      },
      "execution_count": 6,
      "outputs": [
        {
          "output_type": "execute_result",
          "data": {
            "text/html": [
              "\n",
              "  <div id=\"df-87c3b637-1816-48d6-b94c-f5b4ef398264\">\n",
              "    <div class=\"colab-df-container\">\n",
              "      <div>\n",
              "<style scoped>\n",
              "    .dataframe tbody tr th:only-of-type {\n",
              "        vertical-align: middle;\n",
              "    }\n",
              "\n",
              "    .dataframe tbody tr th {\n",
              "        vertical-align: top;\n",
              "    }\n",
              "\n",
              "    .dataframe thead th {\n",
              "        text-align: right;\n",
              "    }\n",
              "</style>\n",
              "<table border=\"1\" class=\"dataframe\">\n",
              "  <thead>\n",
              "    <tr style=\"text-align: right;\">\n",
              "      <th></th>\n",
              "      <th>name</th>\n",
              "      <th>host_id</th>\n",
              "      <th>host_name</th>\n",
              "      <th>neighbourhood_group</th>\n",
              "      <th>neighbourhood</th>\n",
              "      <th>latitude</th>\n",
              "      <th>longitude</th>\n",
              "      <th>room_type</th>\n",
              "      <th>price</th>\n",
              "      <th>minimum_nights</th>\n",
              "      <th>number_of_reviews</th>\n",
              "      <th>last_review</th>\n",
              "      <th>reviews_per_month</th>\n",
              "      <th>calculated_host_listings_count</th>\n",
              "      <th>availability_365</th>\n",
              "    </tr>\n",
              "    <tr>\n",
              "      <th>id</th>\n",
              "      <th></th>\n",
              "      <th></th>\n",
              "      <th></th>\n",
              "      <th></th>\n",
              "      <th></th>\n",
              "      <th></th>\n",
              "      <th></th>\n",
              "      <th></th>\n",
              "      <th></th>\n",
              "      <th></th>\n",
              "      <th></th>\n",
              "      <th></th>\n",
              "      <th></th>\n",
              "      <th></th>\n",
              "      <th></th>\n",
              "    </tr>\n",
              "  </thead>\n",
              "  <tbody>\n",
              "    <tr>\n",
              "      <th>12783632</th>\n",
              "      <td>NYC Mini Hotel</td>\n",
              "      <td>57230304</td>\n",
              "      <td>Imanuelly</td>\n",
              "      <td>Queens</td>\n",
              "      <td>Elmhurst</td>\n",
              "      <td>40.74037</td>\n",
              "      <td>-73.88610</td>\n",
              "      <td>Private room</td>\n",
              "      <td>75</td>\n",
              "      <td>1</td>\n",
              "      <td>2</td>\n",
              "      <td>2019-05-26</td>\n",
              "      <td>0.92</td>\n",
              "      <td>3</td>\n",
              "      <td>351</td>\n",
              "    </tr>\n",
              "    <tr>\n",
              "      <th>3463385</th>\n",
              "      <td>Gorgeous room in Manhattan</td>\n",
              "      <td>10698270</td>\n",
              "      <td>Evgenia</td>\n",
              "      <td>Manhattan</td>\n",
              "      <td>Upper East Side</td>\n",
              "      <td>40.76717</td>\n",
              "      <td>-73.95532</td>\n",
              "      <td>Private room</td>\n",
              "      <td>95</td>\n",
              "      <td>1</td>\n",
              "      <td>202</td>\n",
              "      <td>2019-05-27</td>\n",
              "      <td>3.31</td>\n",
              "      <td>2</td>\n",
              "      <td>263</td>\n",
              "    </tr>\n",
              "    <tr>\n",
              "      <th>17572926</th>\n",
              "      <td>Great 1 Bedroom on Upper East</td>\n",
              "      <td>36578169</td>\n",
              "      <td>James</td>\n",
              "      <td>Manhattan</td>\n",
              "      <td>Upper East Side</td>\n",
              "      <td>40.77984</td>\n",
              "      <td>-73.94725</td>\n",
              "      <td>Entire home/apt</td>\n",
              "      <td>130</td>\n",
              "      <td>2</td>\n",
              "      <td>0</td>\n",
              "      <td>NaN</td>\n",
              "      <td>NaN</td>\n",
              "      <td>1</td>\n",
              "      <td>0</td>\n",
              "    </tr>\n",
              "    <tr>\n",
              "      <th>33913644</th>\n",
              "      <td>Modern and bright 2Bed 2Bath Bushwick, Brooklyn</td>\n",
              "      <td>50981314</td>\n",
              "      <td>Ofier</td>\n",
              "      <td>Brooklyn</td>\n",
              "      <td>Bushwick</td>\n",
              "      <td>40.70205</td>\n",
              "      <td>-73.91338</td>\n",
              "      <td>Entire home/apt</td>\n",
              "      <td>150</td>\n",
              "      <td>2</td>\n",
              "      <td>4</td>\n",
              "      <td>2019-07-07</td>\n",
              "      <td>1.64</td>\n",
              "      <td>1</td>\n",
              "      <td>89</td>\n",
              "    </tr>\n",
              "    <tr>\n",
              "      <th>9405895</th>\n",
              "      <td>Stylish and zen Brooklyn retreat</td>\n",
              "      <td>48775347</td>\n",
              "      <td>Mathieu</td>\n",
              "      <td>Brooklyn</td>\n",
              "      <td>Fort Greene</td>\n",
              "      <td>40.68914</td>\n",
              "      <td>-73.97853</td>\n",
              "      <td>Entire home/apt</td>\n",
              "      <td>325</td>\n",
              "      <td>3</td>\n",
              "      <td>16</td>\n",
              "      <td>2019-04-20</td>\n",
              "      <td>0.42</td>\n",
              "      <td>1</td>\n",
              "      <td>103</td>\n",
              "    </tr>\n",
              "  </tbody>\n",
              "</table>\n",
              "</div>\n",
              "      <button class=\"colab-df-convert\" onclick=\"convertToInteractive('df-87c3b637-1816-48d6-b94c-f5b4ef398264')\"\n",
              "              title=\"Convert this dataframe to an interactive table.\"\n",
              "              style=\"display:none;\">\n",
              "        \n",
              "  <svg xmlns=\"http://www.w3.org/2000/svg\" height=\"24px\"viewBox=\"0 0 24 24\"\n",
              "       width=\"24px\">\n",
              "    <path d=\"M0 0h24v24H0V0z\" fill=\"none\"/>\n",
              "    <path d=\"M18.56 5.44l.94 2.06.94-2.06 2.06-.94-2.06-.94-.94-2.06-.94 2.06-2.06.94zm-11 1L8.5 8.5l.94-2.06 2.06-.94-2.06-.94L8.5 2.5l-.94 2.06-2.06.94zm10 10l.94 2.06.94-2.06 2.06-.94-2.06-.94-.94-2.06-.94 2.06-2.06.94z\"/><path d=\"M17.41 7.96l-1.37-1.37c-.4-.4-.92-.59-1.43-.59-.52 0-1.04.2-1.43.59L10.3 9.45l-7.72 7.72c-.78.78-.78 2.05 0 2.83L4 21.41c.39.39.9.59 1.41.59.51 0 1.02-.2 1.41-.59l7.78-7.78 2.81-2.81c.8-.78.8-2.07 0-2.86zM5.41 20L4 18.59l7.72-7.72 1.47 1.35L5.41 20z\"/>\n",
              "  </svg>\n",
              "      </button>\n",
              "      \n",
              "  <style>\n",
              "    .colab-df-container {\n",
              "      display:flex;\n",
              "      flex-wrap:wrap;\n",
              "      gap: 12px;\n",
              "    }\n",
              "\n",
              "    .colab-df-convert {\n",
              "      background-color: #E8F0FE;\n",
              "      border: none;\n",
              "      border-radius: 50%;\n",
              "      cursor: pointer;\n",
              "      display: none;\n",
              "      fill: #1967D2;\n",
              "      height: 32px;\n",
              "      padding: 0 0 0 0;\n",
              "      width: 32px;\n",
              "    }\n",
              "\n",
              "    .colab-df-convert:hover {\n",
              "      background-color: #E2EBFA;\n",
              "      box-shadow: 0px 1px 2px rgba(60, 64, 67, 0.3), 0px 1px 3px 1px rgba(60, 64, 67, 0.15);\n",
              "      fill: #174EA6;\n",
              "    }\n",
              "\n",
              "    [theme=dark] .colab-df-convert {\n",
              "      background-color: #3B4455;\n",
              "      fill: #D2E3FC;\n",
              "    }\n",
              "\n",
              "    [theme=dark] .colab-df-convert:hover {\n",
              "      background-color: #434B5C;\n",
              "      box-shadow: 0px 1px 3px 1px rgba(0, 0, 0, 0.15);\n",
              "      filter: drop-shadow(0px 1px 2px rgba(0, 0, 0, 0.3));\n",
              "      fill: #FFFFFF;\n",
              "    }\n",
              "  </style>\n",
              "\n",
              "      <script>\n",
              "        const buttonEl =\n",
              "          document.querySelector('#df-87c3b637-1816-48d6-b94c-f5b4ef398264 button.colab-df-convert');\n",
              "        buttonEl.style.display =\n",
              "          google.colab.kernel.accessAllowed ? 'block' : 'none';\n",
              "\n",
              "        async function convertToInteractive(key) {\n",
              "          const element = document.querySelector('#df-87c3b637-1816-48d6-b94c-f5b4ef398264');\n",
              "          const dataTable =\n",
              "            await google.colab.kernel.invokeFunction('convertToInteractive',\n",
              "                                                     [key], {});\n",
              "          if (!dataTable) return;\n",
              "\n",
              "          const docLinkHtml = 'Like what you see? Visit the ' +\n",
              "            '<a target=\"_blank\" href=https://colab.research.google.com/notebooks/data_table.ipynb>data table notebook</a>'\n",
              "            + ' to learn more about interactive tables.';\n",
              "          element.innerHTML = '';\n",
              "          dataTable['output_type'] = 'display_data';\n",
              "          await google.colab.output.renderOutput(dataTable, element);\n",
              "          const docLink = document.createElement('div');\n",
              "          docLink.innerHTML = docLinkHtml;\n",
              "          element.appendChild(docLink);\n",
              "        }\n",
              "      </script>\n",
              "    </div>\n",
              "  </div>\n",
              "  "
            ],
            "text/plain": [
              "                                                     name  ...  availability_365\n",
              "id                                                         ...                  \n",
              "12783632                                   NYC Mini Hotel  ...               351\n",
              "3463385                        Gorgeous room in Manhattan  ...               263\n",
              "17572926                    Great 1 Bedroom on Upper East  ...                 0\n",
              "33913644  Modern and bright 2Bed 2Bath Bushwick, Brooklyn  ...                89\n",
              "9405895                  Stylish and zen Brooklyn retreat  ...               103\n",
              "\n",
              "[5 rows x 15 columns]"
            ]
          },
          "metadata": {},
          "execution_count": 6
        }
      ]
    },
    {
      "cell_type": "code",
      "source": [
        "df.describe()"
      ],
      "metadata": {
        "colab": {
          "base_uri": "https://localhost:8080/",
          "height": 364
        },
        "id": "mPNzZIGWBC5i",
        "outputId": "00025fcd-3cab-40c3-a4bd-8413f839ed46"
      },
      "execution_count": 7,
      "outputs": [
        {
          "output_type": "execute_result",
          "data": {
            "text/html": [
              "\n",
              "  <div id=\"df-05c3b3ab-029f-403c-8815-56316c2e32e7\">\n",
              "    <div class=\"colab-df-container\">\n",
              "      <div>\n",
              "<style scoped>\n",
              "    .dataframe tbody tr th:only-of-type {\n",
              "        vertical-align: middle;\n",
              "    }\n",
              "\n",
              "    .dataframe tbody tr th {\n",
              "        vertical-align: top;\n",
              "    }\n",
              "\n",
              "    .dataframe thead th {\n",
              "        text-align: right;\n",
              "    }\n",
              "</style>\n",
              "<table border=\"1\" class=\"dataframe\">\n",
              "  <thead>\n",
              "    <tr style=\"text-align: right;\">\n",
              "      <th></th>\n",
              "      <th>host_id</th>\n",
              "      <th>latitude</th>\n",
              "      <th>longitude</th>\n",
              "      <th>price</th>\n",
              "      <th>minimum_nights</th>\n",
              "      <th>number_of_reviews</th>\n",
              "      <th>reviews_per_month</th>\n",
              "      <th>calculated_host_listings_count</th>\n",
              "      <th>availability_365</th>\n",
              "    </tr>\n",
              "  </thead>\n",
              "  <tbody>\n",
              "    <tr>\n",
              "      <th>count</th>\n",
              "      <td>3.911600e+04</td>\n",
              "      <td>39116.000000</td>\n",
              "      <td>39116.000000</td>\n",
              "      <td>39116.000000</td>\n",
              "      <td>39116.000000</td>\n",
              "      <td>39116.000000</td>\n",
              "      <td>31075.000000</td>\n",
              "      <td>39116.000000</td>\n",
              "      <td>39116.000000</td>\n",
              "    </tr>\n",
              "    <tr>\n",
              "      <th>mean</th>\n",
              "      <td>6.753109e+07</td>\n",
              "      <td>40.729037</td>\n",
              "      <td>-73.952308</td>\n",
              "      <td>153.406995</td>\n",
              "      <td>7.053073</td>\n",
              "      <td>23.261658</td>\n",
              "      <td>1.376466</td>\n",
              "      <td>7.204827</td>\n",
              "      <td>112.957613</td>\n",
              "    </tr>\n",
              "    <tr>\n",
              "      <th>std</th>\n",
              "      <td>7.863542e+07</td>\n",
              "      <td>0.054373</td>\n",
              "      <td>0.045880</td>\n",
              "      <td>242.218222</td>\n",
              "      <td>20.494289</td>\n",
              "      <td>44.601529</td>\n",
              "      <td>1.683171</td>\n",
              "      <td>33.109702</td>\n",
              "      <td>131.576326</td>\n",
              "    </tr>\n",
              "    <tr>\n",
              "      <th>min</th>\n",
              "      <td>2.438000e+03</td>\n",
              "      <td>40.507080</td>\n",
              "      <td>-74.244420</td>\n",
              "      <td>0.000000</td>\n",
              "      <td>1.000000</td>\n",
              "      <td>0.000000</td>\n",
              "      <td>0.010000</td>\n",
              "      <td>1.000000</td>\n",
              "      <td>0.000000</td>\n",
              "    </tr>\n",
              "    <tr>\n",
              "      <th>25%</th>\n",
              "      <td>7.824647e+06</td>\n",
              "      <td>40.690260</td>\n",
              "      <td>-73.983160</td>\n",
              "      <td>69.000000</td>\n",
              "      <td>1.000000</td>\n",
              "      <td>1.000000</td>\n",
              "      <td>0.190000</td>\n",
              "      <td>1.000000</td>\n",
              "      <td>0.000000</td>\n",
              "    </tr>\n",
              "    <tr>\n",
              "      <th>50%</th>\n",
              "      <td>3.059726e+07</td>\n",
              "      <td>40.723240</td>\n",
              "      <td>-73.955700</td>\n",
              "      <td>108.000000</td>\n",
              "      <td>3.000000</td>\n",
              "      <td>5.000000</td>\n",
              "      <td>0.720000</td>\n",
              "      <td>1.000000</td>\n",
              "      <td>46.000000</td>\n",
              "    </tr>\n",
              "    <tr>\n",
              "      <th>75%</th>\n",
              "      <td>1.074344e+08</td>\n",
              "      <td>40.763130</td>\n",
              "      <td>-73.936530</td>\n",
              "      <td>178.000000</td>\n",
              "      <td>5.000000</td>\n",
              "      <td>23.000000</td>\n",
              "      <td>2.020000</td>\n",
              "      <td>2.000000</td>\n",
              "      <td>226.000000</td>\n",
              "    </tr>\n",
              "    <tr>\n",
              "      <th>max</th>\n",
              "      <td>2.743213e+08</td>\n",
              "      <td>40.913060</td>\n",
              "      <td>-73.716900</td>\n",
              "      <td>10000.000000</td>\n",
              "      <td>1250.000000</td>\n",
              "      <td>629.000000</td>\n",
              "      <td>58.500000</td>\n",
              "      <td>327.000000</td>\n",
              "      <td>365.000000</td>\n",
              "    </tr>\n",
              "  </tbody>\n",
              "</table>\n",
              "</div>\n",
              "      <button class=\"colab-df-convert\" onclick=\"convertToInteractive('df-05c3b3ab-029f-403c-8815-56316c2e32e7')\"\n",
              "              title=\"Convert this dataframe to an interactive table.\"\n",
              "              style=\"display:none;\">\n",
              "        \n",
              "  <svg xmlns=\"http://www.w3.org/2000/svg\" height=\"24px\"viewBox=\"0 0 24 24\"\n",
              "       width=\"24px\">\n",
              "    <path d=\"M0 0h24v24H0V0z\" fill=\"none\"/>\n",
              "    <path d=\"M18.56 5.44l.94 2.06.94-2.06 2.06-.94-2.06-.94-.94-2.06-.94 2.06-2.06.94zm-11 1L8.5 8.5l.94-2.06 2.06-.94-2.06-.94L8.5 2.5l-.94 2.06-2.06.94zm10 10l.94 2.06.94-2.06 2.06-.94-2.06-.94-.94-2.06-.94 2.06-2.06.94z\"/><path d=\"M17.41 7.96l-1.37-1.37c-.4-.4-.92-.59-1.43-.59-.52 0-1.04.2-1.43.59L10.3 9.45l-7.72 7.72c-.78.78-.78 2.05 0 2.83L4 21.41c.39.39.9.59 1.41.59.51 0 1.02-.2 1.41-.59l7.78-7.78 2.81-2.81c.8-.78.8-2.07 0-2.86zM5.41 20L4 18.59l7.72-7.72 1.47 1.35L5.41 20z\"/>\n",
              "  </svg>\n",
              "      </button>\n",
              "      \n",
              "  <style>\n",
              "    .colab-df-container {\n",
              "      display:flex;\n",
              "      flex-wrap:wrap;\n",
              "      gap: 12px;\n",
              "    }\n",
              "\n",
              "    .colab-df-convert {\n",
              "      background-color: #E8F0FE;\n",
              "      border: none;\n",
              "      border-radius: 50%;\n",
              "      cursor: pointer;\n",
              "      display: none;\n",
              "      fill: #1967D2;\n",
              "      height: 32px;\n",
              "      padding: 0 0 0 0;\n",
              "      width: 32px;\n",
              "    }\n",
              "\n",
              "    .colab-df-convert:hover {\n",
              "      background-color: #E2EBFA;\n",
              "      box-shadow: 0px 1px 2px rgba(60, 64, 67, 0.3), 0px 1px 3px 1px rgba(60, 64, 67, 0.15);\n",
              "      fill: #174EA6;\n",
              "    }\n",
              "\n",
              "    [theme=dark] .colab-df-convert {\n",
              "      background-color: #3B4455;\n",
              "      fill: #D2E3FC;\n",
              "    }\n",
              "\n",
              "    [theme=dark] .colab-df-convert:hover {\n",
              "      background-color: #434B5C;\n",
              "      box-shadow: 0px 1px 3px 1px rgba(0, 0, 0, 0.15);\n",
              "      filter: drop-shadow(0px 1px 2px rgba(0, 0, 0, 0.3));\n",
              "      fill: #FFFFFF;\n",
              "    }\n",
              "  </style>\n",
              "\n",
              "      <script>\n",
              "        const buttonEl =\n",
              "          document.querySelector('#df-05c3b3ab-029f-403c-8815-56316c2e32e7 button.colab-df-convert');\n",
              "        buttonEl.style.display =\n",
              "          google.colab.kernel.accessAllowed ? 'block' : 'none';\n",
              "\n",
              "        async function convertToInteractive(key) {\n",
              "          const element = document.querySelector('#df-05c3b3ab-029f-403c-8815-56316c2e32e7');\n",
              "          const dataTable =\n",
              "            await google.colab.kernel.invokeFunction('convertToInteractive',\n",
              "                                                     [key], {});\n",
              "          if (!dataTable) return;\n",
              "\n",
              "          const docLinkHtml = 'Like what you see? Visit the ' +\n",
              "            '<a target=\"_blank\" href=https://colab.research.google.com/notebooks/data_table.ipynb>data table notebook</a>'\n",
              "            + ' to learn more about interactive tables.';\n",
              "          element.innerHTML = '';\n",
              "          dataTable['output_type'] = 'display_data';\n",
              "          await google.colab.output.renderOutput(dataTable, element);\n",
              "          const docLink = document.createElement('div');\n",
              "          docLink.innerHTML = docLinkHtml;\n",
              "          element.appendChild(docLink);\n",
              "        }\n",
              "      </script>\n",
              "    </div>\n",
              "  </div>\n",
              "  "
            ],
            "text/plain": [
              "            host_id  ...  availability_365\n",
              "count  3.911600e+04  ...      39116.000000\n",
              "mean   6.753109e+07  ...        112.957613\n",
              "std    7.863542e+07  ...        131.576326\n",
              "min    2.438000e+03  ...          0.000000\n",
              "25%    7.824647e+06  ...          0.000000\n",
              "50%    3.059726e+07  ...         46.000000\n",
              "75%    1.074344e+08  ...        226.000000\n",
              "max    2.743213e+08  ...        365.000000\n",
              "\n",
              "[8 rows x 9 columns]"
            ]
          },
          "metadata": {},
          "execution_count": 7
        }
      ]
    },
    {
      "cell_type": "markdown",
      "source": [
        "We look for any irregularity in attribute distribution:"
      ],
      "metadata": {
        "id": "xL1dbAwY-8ze"
      }
    },
    {
      "cell_type": "code",
      "source": [
        "df.boxplot(column=['minimum_nights', 'calculated_host_listings_count'], figsize=(12, 8))"
      ],
      "metadata": {
        "colab": {
          "base_uri": "https://localhost:8080/",
          "height": 474
        },
        "id": "72np-xmD_B7u",
        "outputId": "288639a5-46af-4a61-95a1-4b2df1058d4b"
      },
      "execution_count": 8,
      "outputs": [
        {
          "output_type": "execute_result",
          "data": {
            "text/plain": [
              "<matplotlib.axes._subplots.AxesSubplot at 0x7ff42e851fd0>"
            ]
          },
          "metadata": {},
          "execution_count": 8
        },
        {
          "output_type": "display_data",
          "data": {
            "image/png": "[encoded data removed]",
            "text/plain": [
              "<Figure size 864x576 with 1 Axes>"
            ]
          },
          "metadata": {
            "needs_background": "light"
          }
        }
      ]
    },
    {
      "cell_type": "code",
      "source": [
        "df.boxplot(column='reviews_per_month', figsize=(8, 5))"
      ],
      "metadata": {
        "colab": {
          "base_uri": "https://localhost:8080/",
          "height": 338
        },
        "id": "WLjARJZ6_x2L",
        "outputId": "dee084da-dce2-418a-b95f-eaaf822c14e6"
      },
      "execution_count": 9,
      "outputs": [
        {
          "output_type": "execute_result",
          "data": {
            "text/plain": [
              "<matplotlib.axes._subplots.AxesSubplot at 0x7ff42e7b3fd0>"
            ]
          },
          "metadata": {},
          "execution_count": 9
        },
        {
          "output_type": "display_data",
          "data": {
            "image/png": "[encoded data removed]",
            "text/plain": [
              "<Figure size 576x360 with 1 Axes>"
            ]
          },
          "metadata": {
            "needs_background": "light"
          }
        }
      ]
    },
    {
      "cell_type": "code",
      "source": [
        "df.isna().any()"
      ],
      "metadata": {
        "colab": {
          "base_uri": "https://localhost:8080/"
        },
        "id": "VY-pNUF-cwL5",
        "outputId": "7b497315-1067-4e8b-eb5d-c79402d22d1b"
      },
      "execution_count": 10,
      "outputs": [
        {
          "output_type": "execute_result",
          "data": {
            "text/plain": [
              "name                               True\n",
              "host_id                           False\n",
              "host_name                          True\n",
              "neighbourhood_group               False\n",
              "neighbourhood                     False\n",
              "latitude                          False\n",
              "longitude                         False\n",
              "room_type                         False\n",
              "price                             False\n",
              "minimum_nights                    False\n",
              "number_of_reviews                 False\n",
              "last_review                        True\n",
              "reviews_per_month                  True\n",
              "calculated_host_listings_count    False\n",
              "availability_365                  False\n",
              "dtype: bool"
            ]
          },
          "metadata": {},
          "execution_count": 10
        }
      ]
    },
    {
      "cell_type": "markdown",
      "source": [
        "We find out that both last_review and reviews_per_month can be NaN. A reasonable\n",
        "explanation could be that, for those listings that have received no reviews"
      ],
      "metadata": {
        "id": "Jsgz9ZwRd_Cb"
      }
    },
    {
      "cell_type": "markdown",
      "source": [
        "Handling missing values:"
      ],
      "metadata": {
        "id": "bFE4n7qBc8hX"
      }
    },
    {
      "cell_type": "code",
      "source": [
        "df['reviews_per_month'].fillna(value=0, inplace=True)"
      ],
      "metadata": {
        "id": "4cuVabwec_Wx"
      },
      "execution_count": 11,
      "outputs": []
    },
    {
      "cell_type": "markdown",
      "source": [
        "We can decide to represent neighbourhood_group, neighbourhood and room type with integers:"
      ],
      "metadata": {
        "id": "2g3-nSx-Dl3t"
      }
    },
    {
      "cell_type": "code",
      "source": [
        "df['neighbourhood'].unique().shape"
      ],
      "metadata": {
        "colab": {
          "base_uri": "https://localhost:8080/"
        },
        "id": "RW8eccuacbhJ",
        "outputId": "e9192c54-9c2b-4106-85c7-f73184234372"
      },
      "execution_count": 12,
      "outputs": [
        {
          "output_type": "execute_result",
          "data": {
            "text/plain": [
              "(221,)"
            ]
          },
          "metadata": {},
          "execution_count": 12
        }
      ]
    },
    {
      "cell_type": "code",
      "source": [
        "df['neighbourhood_group'].unique()"
      ],
      "metadata": {
        "colab": {
          "base_uri": "https://localhost:8080/"
        },
        "id": "zJ1b027FDGbc",
        "outputId": "5df76346-1772-4db7-d1ab-4d46805b0fb8"
      },
      "execution_count": 13,
      "outputs": [
        {
          "output_type": "execute_result",
          "data": {
            "text/plain": [
              "array(['Queens', 'Manhattan', 'Brooklyn', 'Bronx', 'Staten Island'],\n",
              "      dtype=object)"
            ]
          },
          "metadata": {},
          "execution_count": 13
        }
      ]
    },
    {
      "cell_type": "code",
      "source": [
        "df['room_type'].unique()"
      ],
      "metadata": {
        "colab": {
          "base_uri": "https://localhost:8080/"
        },
        "id": "oSqw9p03Flww",
        "outputId": "8415e85b-7438-4a32-b6e5-cb66ecb5c074"
      },
      "execution_count": 14,
      "outputs": [
        {
          "output_type": "execute_result",
          "data": {
            "text/plain": [
              "array(['Private room', 'Entire home/apt', 'Shared room'], dtype=object)"
            ]
          },
          "metadata": {},
          "execution_count": 14
        }
      ]
    },
    {
      "cell_type": "markdown",
      "source": [
        "Let's make other kind of preprocessing:"
      ],
      "metadata": {
        "id": "JA2I5TwxIlOt"
      }
    },
    {
      "cell_type": "code",
      "source": [
        "# preprocessing date for regression\n",
        "import datetime as dt\n",
        "\n",
        "df['last_review'] = pd.to_datetime(df['last_review']).map(dt.datetime.toordinal)"
      ],
      "metadata": {
        "id": "8MleG5TUIqnL"
      },
      "execution_count": 15,
      "outputs": []
    },
    {
      "cell_type": "markdown",
      "source": [
        "# Let's perform Regression Pipeline:"
      ],
      "metadata": {
        "id": "kX5HL8nPDS7H"
      }
    },
    {
      "cell_type": "code",
      "source": [
        "models = [\n",
        "  LinearRegression(),\n",
        "  Ridge(random_state=42),\n",
        "  MLPRegressor(hidden_layer_sizes=(10,), random_state=42, max_iter=10000),\n",
        "  MLPRegressor(hidden_layer_sizes=(10,10), activation='tanh', solver='lbfgs',\n",
        "    alpha=0.000, batch_size='auto', learning_rate='constant',\n",
        "    learning_rate_init=0.01, power_t=0.5, max_iter=10000,\n",
        "    shuffle=True, random_state=42, tol=0.0001, verbose=True, warm_start=False,\n",
        "    momentum=0.0, nesterovs_momentum=False, early_stopping=False, \n",
        "    validation_fraction=0.0, beta_1=0.9, beta_2=0.999, epsilon=1e-08),\n",
        "  SVR(gamma='scale'),\n",
        "  RandomForestRegressor(n_estimators=300), \n",
        "  make_pipeline(\n",
        "  make_column_transformer(\n",
        "    (FunctionTransformer(np.sin), [0]),\n",
        "    (PolynomialFeatures(5), [0])\n",
        "    ),\n",
        "\n",
        "  LinearRegression()),\n",
        "  make_pipeline(\n",
        "  make_column_transformer(\n",
        "    (FunctionTransformer(np.sin), [0]),\n",
        "    (PolynomialFeatures(5), [0])\n",
        "    ),\n",
        "  Ridge(alpha=1)\n",
        "  )\n",
        "]\n",
        "\n",
        "\n",
        "\n",
        "names = [\n",
        "  'linreg',\n",
        "  'ridge',\n",
        "  'mlp_standard',\n",
        "  'mlp_tuned',\n",
        "  'svr',\n",
        "  'rf',\n",
        "  f'sin+poly{5}+linreg',\n",
        "  f'sin+poly{5}+ridge'\n",
        "]"
      ],
      "metadata": {
        "id": "W6Tn4lnpDDPC"
      },
      "execution_count": 16,
      "outputs": []
    },
    {
      "cell_type": "markdown",
      "source": [
        "Let's do regression without categorical attributes:"
      ],
      "metadata": {
        "id": "KLRFPTgIFsIv"
      }
    },
    {
      "cell_type": "code",
      "source": [
        "df.columns"
      ],
      "metadata": {
        "colab": {
          "base_uri": "https://localhost:8080/"
        },
        "id": "uBYmkNgvbvqg",
        "outputId": "2f3fcf7d-a969-4c18-f988-f6b0122d8292"
      },
      "execution_count": 17,
      "outputs": [
        {
          "output_type": "execute_result",
          "data": {
            "text/plain": [
              "Index(['name', 'host_id', 'host_name', 'neighbourhood_group', 'neighbourhood',\n",
              "       'latitude', 'longitude', 'room_type', 'price', 'minimum_nights',\n",
              "       'number_of_reviews', 'last_review', 'reviews_per_month',\n",
              "       'calculated_host_listings_count', 'availability_365'],\n",
              "      dtype='object')"
            ]
          },
          "metadata": {},
          "execution_count": 17
        }
      ]
    },
    {
      "cell_type": "code",
      "source": [
        "df_drop = df.drop(columns=[\"host_id\", \"name\", \"host_name\", \"last_review\"])"
      ],
      "metadata": {
        "id": "Fff8KA6QKjZK"
      },
      "execution_count": 18,
      "outputs": []
    },
    {
      "cell_type": "code",
      "source": [
        "# This perform one-hot encoding\n",
        "df_drop = pd.get_dummies(df_drop, columns=[\"neighbourhood_group\",\"neighbourhood\", \"room_type\"], prefix=[\"group\", \"zone\", \"room\"])"
      ],
      "metadata": {
        "id": "a16C6P6rU0rN"
      },
      "execution_count": 19,
      "outputs": []
    },
    {
      "cell_type": "code",
      "source": [
        "t = PrettyTable()\n",
        "t.field_names = ['model', 'MSE', 'R2']\n",
        "model =  RandomForestRegressor(100, random_state=42)\n",
        "X_train, X_test, y_train, y_test = train_test_split(df_drop.drop(columns='price'), df_drop['price'],\n",
        "  train_size=.7,\n",
        "  random_state=42,\n",
        "  shuffle=True)\n",
        "model.fit(X_train, y_train)\n",
        "y_hat = model.predict(X_test)\n",
        "mse = mean_squared_error(y_test, y_hat)\n",
        "r2 = r2_score(y_test, y_hat)\n",
        "t.add_row(['RF', mse, r2])\n",
        "print(t)"
      ],
      "metadata": {
        "colab": {
          "base_uri": "https://localhost:8080/"
        },
        "id": "PdESHMZBQicc",
        "outputId": "b0be3128-fe2f-47f2-f211-8bf1fd028772"
      },
      "execution_count": 21,
      "outputs": [
        {
          "output_type": "stream",
          "name": "stdout",
          "text": [
            "+-------+--------------------+---------------------+\n",
            "| model |        MSE         |          R2         |\n",
            "+-------+--------------------+---------------------+\n",
            "|   RF  | 45507.980829237335 | 0.06007130410277861 |\n",
            "+-------+--------------------+---------------------+\n"
          ]
        }
      ]
    },
    {
      "cell_type": "markdown",
      "source": [
        "The random foret regressor we have trained can help us determine how useful each feature is for\n",
        "the model"
      ],
      "metadata": {
        "id": "9wZ2UE1PiMgA"
      }
    },
    {
      "cell_type": "code",
      "source": [
        "sorted(zip(df_drop.drop(columns=['price']).columns, model.feature_importances_), key=lambda x: x[1], \\\n",
        "        reverse=True)"
      ],
      "metadata": {
        "colab": {
          "base_uri": "https://localhost:8080/"
        },
        "id": "uDx8hzwOhnix",
        "outputId": "baf7ff70-a639-4c41-980d-693ae9ed0832"
      },
      "execution_count": 22,
      "outputs": [
        {
          "output_type": "execute_result",
          "data": {
            "text/plain": [
              "[('longitude', 0.19531958162539256),\n",
              " ('latitude', 0.19260976793612938),\n",
              " ('availability_365', 0.09931319100601685),\n",
              " ('minimum_nights', 0.0865975498991029),\n",
              " ('reviews_per_month', 0.06671127288266526),\n",
              " ('room_Entire home/apt', 0.059172360232891186),\n",
              " ('calculated_host_listings_count', 0.05576273049387783),\n",
              " ('number_of_reviews', 0.04714926017170854),\n",
              " ('zone_Astoria', 0.04139341216319777),\n",
              " ('zone_Battery Park City', 0.025550585848364425),\n",
              " ('zone_Upper West Side', 0.014064247071532402),\n",
              " ('zone_Clinton Hill', 0.013171040528292299),\n",
              " ('zone_Bedford-Stuyvesant', 0.01000645683367144),\n",
              " ('zone_Lower East Side', 0.00804173963796789),\n",
              " ('zone_Randall Manor', 0.006175028369909121),\n",
              " ('zone_Tribeca', 0.004297777118487053),\n",
              " ('zone_Chelsea', 0.004089506570170703),\n",
              " ('zone_Williamsburg', 0.0038499654893919444),\n",
              " ('zone_Midtown', 0.00379064951298688),\n",
              " ('group_Queens', 0.003696010843852792),\n",
              " ('zone_Theater District', 0.0033626161781590744),\n",
              " ('zone_West Village', 0.003254487357686249),\n",
              " ('zone_Greenwich Village', 0.003218227219315047),\n",
              " ('zone_Gramercy', 0.003168642094861801),\n",
              " ('zone_East Village', 0.0027134726320800487),\n",
              " ('zone_Riverdale', 0.0024858905506248705),\n",
              " ('zone_Flatiron District', 0.0024219670959939286),\n",
              " ('zone_Bay Ridge', 0.0023068264247610637),\n",
              " ('group_Manhattan', 0.002167590505296703),\n",
              " ('zone_Upper East Side', 0.002164728209620029),\n",
              " ('zone_SoHo', 0.0021313659609523456),\n",
              " ('zone_Prospect-Lefferts Gardens', 0.0019026890071078722),\n",
              " ('zone_Prospect Heights', 0.0015395842702020364),\n",
              " ('zone_Forest Hills', 0.001483500346687956),\n",
              " ('zone_Sunset Park', 0.0014370645131290562),\n",
              " ('zone_East Harlem', 0.0013327648199239466),\n",
              " (\"zone_Hell's Kitchen\", 0.001326789897171835),\n",
              " ('zone_Long Island City', 0.0011891957323159454),\n",
              " ('zone_Cypress Hills', 0.0011079831194984375),\n",
              " ('zone_Sea Gate', 0.00101909357890134),\n",
              " ('zone_Brighton Beach', 0.0010163465079670122),\n",
              " ('zone_Murray Hill', 0.0009540045841610252),\n",
              " ('zone_Financial District', 0.0009387439172828761),\n",
              " ('zone_Crown Heights', 0.0008200135778506187),\n",
              " ('group_Brooklyn', 0.0007714638875087909),\n",
              " ('zone_Kips Bay', 0.000730881518477946),\n",
              " ('zone_East Flatbush', 0.0006948113236605131),\n",
              " ('zone_NoHo', 0.0005991883622245241),\n",
              " ('zone_Flatlands', 0.000597854010013295),\n",
              " ('zone_Cobble Hill', 0.0005644721303528246),\n",
              " ('zone_Roosevelt Island', 0.0005612166217808731),\n",
              " ('zone_Greenpoint', 0.0005366496265779327),\n",
              " ('zone_Morningside Heights', 0.0005305890168402033),\n",
              " ('zone_Bushwick', 0.0005018295317062982),\n",
              " ('zone_Stuyvesant Town', 0.0005000477605360417),\n",
              " ('room_Private room', 0.00038732390040465504),\n",
              " ('zone_Park Slope', 0.00037904181090152664),\n",
              " ('zone_Chinatown', 0.0003624381672947294),\n",
              " ('room_Shared room', 0.00033230244691584676),\n",
              " ('zone_Gowanus', 0.00031996684678908875),\n",
              " ('zone_Flatbush', 0.0003183203480302425),\n",
              " ('zone_Little Italy', 0.00030101125565598424),\n",
              " ('zone_Brooklyn Heights', 0.000298144858190014),\n",
              " ('zone_Jamaica', 0.00028315699726081295),\n",
              " ('zone_Briarwood', 0.0002778995143389035),\n",
              " (\"zone_Prince's Bay\", 0.00026693827839421706),\n",
              " ('zone_Arverne', 0.000255598503107456),\n",
              " ('zone_Harlem', 0.00024614617107757576),\n",
              " ('zone_Fort Greene', 0.00021962690994404346),\n",
              " ('zone_Boerum Hill', 0.0002094825488611313),\n",
              " ('zone_Nolita', 0.00019849066822455173),\n",
              " ('zone_Canarsie', 0.00015794356502475833),\n",
              " ('zone_Far Rockaway', 0.00014122230385839497),\n",
              " ('zone_Civic Center', 0.00014094755598217145),\n",
              " ('zone_Westchester Square', 0.0001264495412230116),\n",
              " ('zone_Carroll Gardens', 9.904671170427857e-05),\n",
              " ('zone_Elmhurst', 8.679167794665703e-05),\n",
              " ('zone_Washington Heights', 8.280042579641365e-05),\n",
              " ('zone_Woodside', 8.0916258634533e-05),\n",
              " ('zone_Mott Haven', 7.311639992822648e-05),\n",
              " ('zone_Sheepshead Bay', 5.9775313623559824e-05),\n",
              " ('zone_South Slope', 5.793758559121073e-05),\n",
              " ('zone_Arrochar', 5.532447547452213e-05),\n",
              " ('zone_Windsor Terrace', 5.438514983771424e-05),\n",
              " ('zone_St. Albans', 4.593167548285862e-05),\n",
              " ('zone_Ditmars Steinway', 4.0144241021650074e-05),\n",
              " ('zone_Vinegar Hill', 3.884487305721999e-05),\n",
              " ('zone_Todt Hill', 3.6383339167584684e-05),\n",
              " ('zone_Downtown Brooklyn', 3.6111208805529704e-05),\n",
              " ('zone_Jamaica Estates', 3.4403008499378904e-05),\n",
              " ('zone_Allerton', 3.297983181850097e-05),\n",
              " ('zone_DUMBO', 3.1649677637163574e-05),\n",
              " ('zone_Kensington', 3.092114104964064e-05),\n",
              " ('zone_Flushing', 3.071283672084352e-05),\n",
              " ('zone_Rego Park', 2.988999927782769e-05),\n",
              " ('group_Bronx', 2.9348715779293947e-05),\n",
              " ('zone_Jackson Heights', 2.6926541097890242e-05),\n",
              " ('zone_Wakefield', 2.6756086966122816e-05),\n",
              " ('zone_Shore Acres', 2.5510923980344603e-05),\n",
              " ('zone_Richmond Hill', 2.5214449570645423e-05),\n",
              " ('zone_Clason Point', 2.4888759044663365e-05),\n",
              " ('zone_Pelham Gardens', 2.4671889303480863e-05),\n",
              " ('zone_Castleton Corners', 2.4017334685699802e-05),\n",
              " ('zone_Whitestone', 2.338661458624314e-05),\n",
              " ('zone_Ridgewood', 2.2466204299476335e-05),\n",
              " ('zone_Rockaway Beach', 2.2149887829350803e-05),\n",
              " ('zone_South Ozone Park', 2.0747811837199615e-05),\n",
              " ('zone_Marble Hill', 1.939746948663468e-05),\n",
              " ('zone_Sunnyside', 1.7305707254449384e-05),\n",
              " ('zone_East New York', 1.678791388490202e-05),\n",
              " ('zone_Grymes Hill', 1.589543354456368e-05),\n",
              " ('zone_Kew Gardens', 1.5706421693707204e-05),\n",
              " ('zone_Bayside', 1.5348183766037007e-05),\n",
              " ('zone_Red Hook', 1.5197008750322072e-05),\n",
              " ('zone_Maspeth', 1.5163809307558934e-05),\n",
              " ('zone_Corona', 1.5085212175366097e-05),\n",
              " ('zone_Inwood', 1.4942819375154845e-05),\n",
              " ('zone_Longwood', 1.4847794902228591e-05),\n",
              " ('zone_Williamsbridge', 1.4620802104351733e-05),\n",
              " ('zone_Holliswood', 1.4569188143758593e-05),\n",
              " ('zone_Springfield Gardens', 1.4423966906541784e-05),\n",
              " ('zone_Coney Island', 1.411720819863573e-05),\n",
              " ('zone_East Elmhurst', 1.3939693679155436e-05),\n",
              " ('zone_Fresh Meadows', 1.3492363440499e-05),\n",
              " ('zone_Throgs Neck', 1.3282102537959727e-05),\n",
              " ('zone_Glendale', 1.172545440757628e-05),\n",
              " ('zone_Kingsbridge', 1.1488899333994148e-05),\n",
              " ('zone_Pelham Bay', 1.140836559123623e-05),\n",
              " ('zone_South Beach', 1.112609127443983e-05),\n",
              " ('zone_Gravesend', 1.0932309172917453e-05),\n",
              " ('zone_Parkchester', 1.0577991666575005e-05),\n",
              " ('zone_Midwood', 1.0187277496214437e-05),\n",
              " ('zone_Mill Basin', 1.0066576375851467e-05),\n",
              " ('zone_Port Richmond', 9.530200828766694e-06),\n",
              " ('zone_Belle Harbor', 8.975858187480955e-06),\n",
              " ('zone_St. George', 8.85521086005277e-06),\n",
              " ('zone_Middle Village', 8.43511807732487e-06),\n",
              " ('zone_Two Bridges', 8.353111121579175e-06),\n",
              " ('zone_Cambria Heights', 8.348457234164934e-06),\n",
              " ('zone_Queens Village', 8.345673247151668e-06),\n",
              " ('zone_Eastchester', 7.744542836865889e-06),\n",
              " ('zone_Willowbrook', 7.387020707493978e-06),\n",
              " ('zone_Laurelton', 7.314709135243695e-06),\n",
              " ('zone_Rosedale', 7.246255330347151e-06),\n",
              " ('zone_Brownsville', 7.051765573459833e-06),\n",
              " ('zone_Morrisania', 6.968673356479688e-06),\n",
              " ('zone_Howard Beach', 6.532169526433449e-06),\n",
              " ('zone_Norwood', 6.085813514232381e-06),\n",
              " ('zone_Borough Park', 6.075807200310844e-06),\n",
              " ('zone_Concourse', 5.985852514819107e-06),\n",
              " ('zone_Jamaica Hills', 5.935970546232976e-06),\n",
              " ('zone_Mount Hope', 5.843349808589977e-06),\n",
              " ('zone_West Brighton', 5.644039708597344e-06),\n",
              " ('zone_Stapleton', 5.624690984541649e-06),\n",
              " ('zone_Edgemere', 5.5511905385705255e-06),\n",
              " ('zone_Kew Gardens Hills', 4.985159718199196e-06),\n",
              " ('zone_Eltingville', 4.930159729251431e-06),\n",
              " ('zone_Dyker Heights', 4.6194528383298785e-06),\n",
              " ('zone_Ozone Park', 4.549611740428103e-06),\n",
              " ('zone_Fordham', 4.109522139913011e-06),\n",
              " ('zone_Port Morris', 4.0659042573321004e-06),\n",
              " ('zone_Woodhaven', 3.975647304408045e-06),\n",
              " ('zone_Hollis', 3.883928544271972e-06),\n",
              " ('zone_Morris Heights', 3.684945367586404e-06),\n",
              " ('zone_Navy Yard', 3.528260243619051e-06),\n",
              " ('zone_Belmont', 3.4901417360286602e-06),\n",
              " ('zone_Edenwald', 3.374430026449821e-06),\n",
              " ('zone_Bensonhurst', 3.139795448821992e-06),\n",
              " ('zone_Breezy Point', 3.0644034773152628e-06),\n",
              " ('group_Staten Island', 2.796239283080495e-06),\n",
              " ('zone_Columbia St', 2.7431320683631704e-06),\n",
              " ('zone_Schuylerville', 2.6488996097210736e-06),\n",
              " ('zone_Claremont Village', 2.620481960736894e-06),\n",
              " ('zone_Bay Terrace', 2.620022097810328e-06),\n",
              " ('zone_Tompkinsville', 2.5689613656582134e-06),\n",
              " ('zone_Oakwood', 2.14017619732051e-06),\n",
              " ('zone_Rosebank', 2.0328638797981706e-06),\n",
              " ('zone_University Heights', 2.0180450319889283e-06),\n",
              " ('zone_Huguenot', 2.0127450853628268e-06),\n",
              " ('zone_Manhattan Beach', 1.836944838238122e-06),\n",
              " ('zone_East Morrisania', 1.786716143503817e-06),\n",
              " ('zone_Fort Hamilton', 1.7603903483504282e-06),\n",
              " ('zone_Bergen Beach', 1.5261430412345098e-06),\n",
              " ('zone_Bellerose', 1.4139370988728484e-06),\n",
              " ('zone_Concourse Village', 1.3626701249092657e-06),\n",
              " ('zone_Concord', 1.327295961501771e-06),\n",
              " ('zone_Bath Beach', 1.2144134591245142e-06),\n",
              " ('zone_Great Kills', 1.1796190446460925e-06),\n",
              " ('zone_North Riverdale', 1.1747392962802417e-06),\n",
              " ('zone_Bayswater', 1.0900343815480179e-06),\n",
              " ('zone_Soundview', 1.0503988486703753e-06),\n",
              " ('zone_College Point', 9.437166498721279e-07),\n",
              " ('zone_City Island', 8.201711861551754e-07),\n",
              " ('zone_Morris Park', 8.139406327319863e-07),\n",
              " ('zone_Highbridge', 7.650070841743609e-07),\n",
              " ('zone_Hunts Point', 7.238355857175438e-07),\n",
              " ('zone_Woodlawn', 6.069355895826947e-07),\n",
              " ('zone_Dongan Hills', 5.838670075307162e-07),\n",
              " ('zone_Mount Eden', 5.831140404639627e-07),\n",
              " ('zone_New Springville', 5.176002325502855e-07),\n",
              " ('zone_Van Nest', 5.07854607946303e-07),\n",
              " ('zone_West Farms', 4.725028237099326e-07),\n",
              " ('zone_Clifton', 4.7210349651539184e-07),\n",
              " ('zone_Bronxdale', 4.2784609591641355e-07),\n",
              " ('zone_Castle Hill', 3.97752766206781e-07),\n",
              " ('zone_Bay Terrace, Staten Island', 3.7759056882524104e-07),\n",
              " ('zone_Mariners Harbor', 3.744319730595782e-07),\n",
              " ('zone_Douglaston', 3.6550019564937395e-07),\n",
              " ('zone_Unionport', 3.46854893258727e-07),\n",
              " ('zone_Melrose', 3.194436833405419e-07),\n",
              " ('zone_Grant City', 3.1388335119991733e-07),\n",
              " ('zone_Emerson Hill', 3.059596164675109e-07),\n",
              " ('zone_Tottenville', 3.0518373088484944e-07),\n",
              " ('zone_Midland Beach', 2.921776063688996e-07),\n",
              " ('zone_Fieldston', 2.6762130402235095e-07),\n",
              " ('zone_Graniteville', 2.4357912003582806e-07),\n",
              " ('zone_New Dorp Beach', 1.5784943404784946e-07),\n",
              " ('zone_Tremont', 1.0667259164656807e-07),\n",
              " ('zone_Baychester', 9.562214519676238e-08),\n",
              " ('zone_New Dorp', 9.465228046393072e-08),\n",
              " ('zone_Westerleigh', 7.159632500658259e-08),\n",
              " ('zone_Little Neck', 4.769301578781654e-08),\n",
              " ('zone_Spuyten Duyvil', 3.0657403521792625e-08),\n",
              " (\"zone_Bull's Head\", 2.826037559351698e-08),\n",
              " ('zone_Arden Heights', 2.219525386241634e-08),\n",
              " ('zone_Howland Hook', 2.0600740788451388e-08),\n",
              " ('zone_New Brighton', 2.036964187516932e-08),\n",
              " ('zone_Silver Lake', 1.7345147583318856e-08),\n",
              " ('zone_Co-op City', 1.0658492640376861e-08),\n",
              " ('zone_Olinville', 2.0788741040403015e-10),\n",
              " ('zone_Fort Wadsworth', 0.0),\n",
              " ('zone_Lighthouse Hill', 0.0),\n",
              " ('zone_Neponsit', 0.0),\n",
              " ('zone_Richmondtown', 0.0),\n",
              " ('zone_Rossville', 0.0),\n",
              " ('zone_Woodrow', 0.0)]"
            ]
          },
          "metadata": {},
          "execution_count": 22
        }
      ]
    },
    {
      "cell_type": "markdown",
      "source": [
        "As we can notice, the model doesn't make use of neighborhood group and zone, we can try to discard them."
      ],
      "metadata": {
        "id": "dnF4mLiLiqRL"
      }
    },
    {
      "cell_type": "code",
      "source": [
        "df_1h = pd.get_dummies(df, columns=['room_type'])\n",
        "# discard \"neighbourhood\" and \"neighbourhood_group\"\n",
        "df_dropped = df_1h.drop(columns=[\"neighbourhood_group\",\"neighbourhood\",\"host_id\", \"name\",\\\n",
        "                                 \"host_name\", \"last_review\"])\n",
        "feature_names = df_dropped.drop(columns=[\"price\"]).columns\n",
        "X = df_dropped.drop(columns=[\"price\"]).values\n",
        "y = df_dropped[\"price\"].values\n",
        "\n",
        "t = PrettyTable()\n",
        "t.field_names = ['model', 'MSE', 'R2']\n",
        "model =  RandomForestRegressor(100, random_state=42)\n",
        "X_train, X_test, y_train, y_test = train_test_split(X, y,\n",
        "  random_state=42,\n",
        "  shuffle=True)\n",
        "model.fit(X_train, y_train)\n",
        "y_hat = model.predict(X_test)\n",
        "mse = mean_squared_error(y_test, y_hat)\n",
        "r2 = r2_score(y_test, y_hat)\n",
        "t.add_row([\"RF\", mse, r2])\n",
        "print(t)"
      ],
      "metadata": {
        "colab": {
          "base_uri": "https://localhost:8080/"
        },
        "id": "DfmxyvX4izla",
        "outputId": "9844125a-9032-4e8d-c623-1422fbdb8716"
      },
      "execution_count": 24,
      "outputs": [
        {
          "output_type": "stream",
          "name": "stdout",
          "text": [
            "+-------+-------------------+---------------------+\n",
            "| model |        MSE        |          R2         |\n",
            "+-------+-------------------+---------------------+\n",
            "|   RF  | 49037.84247009919 | 0.10485905409912633 |\n",
            "+-------+-------------------+---------------------+\n"
          ]
        }
      ]
    },
    {
      "cell_type": "code",
      "source": [
        "sorted(zip(feature_names, model.feature_importances_), key=lambda x: x[1], \\\n",
        "       reverse=True)"
      ],
      "metadata": {
        "colab": {
          "base_uri": "https://localhost:8080/"
        },
        "id": "PdWkE45Rkru2",
        "outputId": "1c558bb0-b9b8-4dd9-d58b-802e6250a5db"
      },
      "execution_count": 25,
      "outputs": [
        {
          "output_type": "execute_result",
          "data": {
            "text/plain": [
              "[('longitude', 0.3106356538341069),\n",
              " ('latitude', 0.2432212751382898),\n",
              " ('availability_365', 0.10206173081645416),\n",
              " ('minimum_nights', 0.09453420146707416),\n",
              " ('reviews_per_month', 0.07067698724606092),\n",
              " ('room_type_Entire home/apt', 0.06307473812272034),\n",
              " ('calculated_host_listings_count', 0.06097854808980696),\n",
              " ('number_of_reviews', 0.053690275059188476),\n",
              " ('room_type_Shared room', 0.0007054953430413454),\n",
              " ('room_type_Private room', 0.0004210948832570403)]"
            ]
          },
          "metadata": {},
          "execution_count": 25
        }
      ]
    },
    {
      "cell_type": "markdown",
      "source": [
        "Now, we'll try to add one of the dropped columns one at time and then together."
      ],
      "metadata": {
        "id": "joDvnMFEnfVY"
      }
    },
    {
      "cell_type": "code",
      "source": [
        "for include_features in [[\"id\"], [\"host_id\"], [\"id\", \"host_id\"]]:\n",
        "  df_1h = pd.get_dummies(df, columns=['room_type'])\n",
        "  # Extract the \"id\" information\n",
        "  if \"id\" in include_features:\n",
        "    df_1h[\"id\"] = df_1h.index\n",
        "  \n",
        "  df_dropped = df_1h.drop(columns=[\"neighbourhood_group\",\"neighbourhood\",\\\n",
        "                                     \"name\", \"host_name\", \"last_review\"])\n",
        "  \n",
        "  # if \"host_id\" should not be kept, it is discarded\n",
        "  if \"host_id\" not in include_features:\n",
        "    df_dropped = df_dropped.drop(columns=[\"host_id\"])\n",
        "  feature_names = df_dropped.drop(columns=[\"price\"]).columns\n",
        "  X = df_dropped.drop(columns=[\"price\"]).values\n",
        "  y = df_dropped[\"price\"].values\n",
        "\n",
        "  X_train, X_valid, y_train, y_valid = train_test_split(X, y, shuffle=True, random_state=42)\n",
        "  reg = RandomForestRegressor(100, random_state=42)\n",
        "  reg.fit(X_train, y_train)\n",
        "  print(include_features, r2_score(y_valid, reg.predict(X_valid)))\n"
      ],
      "metadata": {
        "colab": {
          "base_uri": "https://localhost:8080/"
        },
        "id": "vqnxcObFrU3D",
        "outputId": "c49cfddb-ee22-42b5-a097-ce857c75a1db"
      },
      "execution_count": 26,
      "outputs": [
        {
          "output_type": "stream",
          "name": "stdout",
          "text": [
            "['id'] 0.11644446892306404\n",
            "['host_id'] 0.11778902062981622\n",
            "['id', 'host_id'] 0.13278619065870456\n"
          ]
        }
      ]
    },
    {
      "cell_type": "markdown",
      "source": [
        "We'll include both of them.\n",
        "Now let's try to encode 'name', the title of the item:"
      ],
      "metadata": {
        "id": "58A9hz8vgMjF"
      }
    },
    {
      "cell_type": "code",
      "source": [
        "from sklearn.feature_extraction.text import TfidfVectorizer\n",
        "\n",
        "vectorizer = TfidfVectorizer(stop_words=\"english\", binary=True, use_idf=False,\\\n",
        "                             norm=False)\n",
        "# word presence matrix (i-th row, j-th col => 1 if j-th word is contained in \n",
        "# i-th title)\n",
        "wpm = vectorizer.fit_transform(df_1h[\"name\"].fillna(\"\"))\n",
        "# We take the N most popular words and add a boolean feature for each of them.\n",
        "N = 150\n",
        "freq = sorted(zip(vectorizer.get_feature_names(), wpm.sum(axis=0).tolist()[0]),\\\n",
        "              key=lambda x: x[1], reverse=True)[:N]\n",
        "freq"
      ],
      "metadata": {
        "id": "rC8bkagagLuF"
      },
      "execution_count": null,
      "outputs": []
    },
    {
      "cell_type": "code",
      "source": [
        "print(wpm.shape)"
      ],
      "metadata": {
        "colab": {
          "base_uri": "https://localhost:8080/"
        },
        "id": "6oicL17AiDgY",
        "outputId": "9951e1a2-036b-4e81-c986-984bacb5dc14"
      },
      "execution_count": 30,
      "outputs": [
        {
          "output_type": "stream",
          "name": "stdout",
          "text": [
            "(39116, 6890)\n"
          ]
        }
      ]
    },
    {
      "cell_type": "code",
      "source": [
        " import numpy as np\n",
        "# mask to be used to filter columns in wpm (only keeps the ones for the 100 most\n",
        "# frequent words)\n",
        "words = [ word for word, _ in freq ]\n",
        "mask = [ w in words for w in vectorizer.get_feature_names() ]\n",
        "words_ = [ w for w in vectorizer.get_feature_names() if w in words ]\n",
        "words_df = pd.DataFrame(data=wpm[:, np.array(mask)].toarray(), \\\n",
        "                        columns=[f\"word_{word}\" for word in words_], index=df_1h.index)\n",
        "# Only encode \"room_type\"\n",
        "df_1h = pd.get_dummies(df, columns=['room_type'])\n",
        "df_1h = df_1h.join(pd.DataFrame(data=wpm[:, np.array(mask)].toarray(),\\\n",
        "                                columns=[f\"word_{word}\" for word in words_], index=df_1h.index))\n",
        "# discard \"neighbourhood\" and \"neighbourhood_group\"\n",
        "df_dropped = df_1h.drop(columns=[\"neighbourhood_group\",\"neighbourhood\", \"name\",\\\n",
        "                                 \"host_name\", \"last_review\"])\n",
        "\n",
        "feature_names = df_dropped.drop(columns=[\"price\"]).columns\n",
        "X = df_dropped.drop(columns=[\"price\"]).values\n",
        "y = df_dropped[\"price\"].values\n",
        "X_train, X_valid, y_train, y_valid = train_test_split(X, y, shuffle=True,\\\n",
        "                                                      random_state=42)\n",
        "reg = RandomForestRegressor(100, random_state=42)\n",
        "reg.fit(X_train, y_train)\n",
        "r2_score(y_valid, reg.predict(X_valid))"
      ],
      "metadata": {
        "colab": {
          "base_uri": "https://localhost:8080/"
        },
        "id": "1o_RyxBdkgZ6",
        "outputId": "3aede4b6-78a5-4c3f-95b1-aa4d78a20f38"
      },
      "execution_count": 32,
      "outputs": [
        {
          "output_type": "stream",
          "name": "stderr",
          "text": [
            "/usr/local/lib/python3.7/dist-packages/sklearn/utils/deprecation.py:87: FutureWarning: Function get_feature_names is deprecated; get_feature_names is deprecated in 1.0 and will be removed in 1.2. Please use get_feature_names_out instead.\n",
            "  warnings.warn(msg, category=FutureWarning)\n"
          ]
        },
        {
          "output_type": "execute_result",
          "data": {
            "text/plain": [
              "0.15120205841835732"
            ]
          },
          "metadata": {},
          "execution_count": 32
        }
      ]
    },
    {
      "cell_type": "code",
      "source": [
        "from sklearn.model_selection import GridSearchCV\n",
        "param_grid = {\n",
        "\"n_estimators\": [100, 250, 500],\n",
        "\"criterion\": [\"mse\", \"mae\"],\n",
        "\"max_features\": [\"auto\", \"sqrt\", \"log2\"],\n",
        "\"random_state\": [42], # always use the samet random seed\n",
        "\"n_jobs\": [-1], # for parallelization\n",
        "}\n",
        "gs = GridSearchCV(RandomForestRegressor(), param_grid, scoring=\"r2\", n_jobs=-1,\\\n",
        "                  cv=5)\n",
        "gs.fit(X_train_valid, y_train_valid)\n",
        "gs.best_score_"
      ],
      "metadata": {
        "id": "fmVpiJ6koVK4"
      },
      "execution_count": null,
      "outputs": []
    },
    {
      "cell_type": "markdown",
      "source": [
        "Let's try to normalize using Standard Scaler:"
      ],
      "metadata": {
        "id": "MxJOm2mBX8P0"
      }
    },
    {
      "cell_type": "code",
      "source": [
        "interesting_models = [\n",
        "  Ridge(random_state=42),\n",
        "  RandomForestRegressor(n_estimators=300), \n",
        "]\n",
        "\n",
        "interesting_names = [\n",
        "  'ridge',\n",
        "  'rf',\n",
        "]"
      ],
      "metadata": {
        "id": "RXNrBD0mDkHj"
      },
      "execution_count": null,
      "outputs": []
    },
    {
      "cell_type": "code",
      "source": [
        "from sklearn.preprocessing import StandardScaler\n",
        "\n",
        "# create an abs_scaler object\n",
        "scaler = StandardScaler()\n",
        "\n",
        "# calculate the maximum absolute value for scaling the data using the fit method\n",
        "scaler.fit(df_drop_cat_na.iloc[:, :9])\n",
        "\n",
        "# transform the data using the parameters calculated by the fit method (the maximum absolute values)\n",
        "scaled_data = scaler.transform(df_drop_cat_na.iloc[:, :9])\n",
        "\n",
        "# store the results in a data frame\n",
        "df_drop_cat_na.iloc[:, :9] = scaled_data\n",
        "\n",
        "# visualize the data frame\n",
        "df_drop_cat_na"
      ],
      "metadata": {
        "id": "fMmuALy1Y9j1"
      },
      "execution_count": null,
      "outputs": []
    },
    {
      "cell_type": "code",
      "source": [
        "df_drop_cat_na.columns"
      ],
      "metadata": {
        "id": "mwaXnAhZdYMA"
      },
      "execution_count": null,
      "outputs": []
    },
    {
      "cell_type": "code",
      "source": [
        "t = PrettyTable()\n",
        "t.field_names = ['model', 'MSE', 'R2']\n",
        "for model, name in zip(interesting_models, interesting_names):\n",
        "  X_train, X_test, y_train, y_test = train_test_split(df_drop_cat_na.drop(columns='price'), df_drop_cat_na['price'],\n",
        "    train_size=.7,\n",
        "    random_state=42,\n",
        "    shuffle=True)\n",
        "  model.fit(X_train, y_train)\n",
        "  y_hat = model.predict(X_test)\n",
        "  mse = mean_squared_error(y_test, y_hat)\n",
        "  r2 = r2_score(y_test, y_hat)\n",
        "  t.add_row([name, mse, r2])\n",
        "print(t)"
      ],
      "metadata": {
        "id": "PvEX24qZQRyP"
      },
      "execution_count": null,
      "outputs": []
    },
    {
      "cell_type": "code",
      "source": [
        "df_drop_cat_na.info()"
      ],
      "metadata": {
        "id": "bvr9VGBSaYkC"
      },
      "execution_count": null,
      "outputs": []
    },
    {
      "cell_type": "code",
      "source": [
        ""
      ],
      "metadata": {
        "id": "fNW-zqz9gCId"
      },
      "execution_count": null,
      "outputs": []
    },
    {
      "cell_type": "markdown",
      "source": [
        "Let's try a Grid Search:"
      ],
      "metadata": {
        "id": "9G8qC04HgkY3"
      }
    },
    {
      "cell_type": "code",
      "source": [
        "lasso_params = {'alpha':[0.02, 0.024, 0.025, 0.026, 0.03]}\n",
        "ridge_params = {'alpha':[200, 230, 250,265, 270, 275, 290, 300, 500]}\n",
        "\n",
        "models2 = {'OLS': LinearRegression(),\n",
        "           'Ridge': GridSearchCV(Ridge(random_state=42), \n",
        "                               param_grid=ridge_params).fit(df_drop_cat_na.drop(columns='price'), df_drop_cat_na['price']).best_estimator_}"
      ],
      "metadata": {
        "id": "6gC1cgIDgmDK"
      },
      "execution_count": null,
      "outputs": []
    },
    {
      "cell_type": "code",
      "source": [
        "models2['Ridge']"
      ],
      "metadata": {
        "id": "RFwY6F8HiYvM"
      },
      "execution_count": null,
      "outputs": []
    },
    {
      "cell_type": "code",
      "source": [
        "t = PrettyTable()\n",
        "t.field_names = ['model', 'MSE', 'R2']\n",
        "for model, name in zip(models2.values(), names):\n",
        "  X_train, X_test, y_train, y_test = train_test_split(df_drop_cat_na.drop(columns='price'), df_drop_cat_na['price'],\n",
        "    train_size=.7,\n",
        "    random_state=42,\n",
        "    shuffle=True)\n",
        "  X_train, X_test, _ = select_features(X_train, y_train, X_test)\n",
        "  model.fit(X_train, y_train)\n",
        "  y_hat = model.predict(X_test)\n",
        "  mse = mean_squared_error(y_test, y_hat)\n",
        "  r2 = r2_score(y_test, y_hat)\n",
        "  t.add_row([name, mse, r2])\n",
        "print(t)"
      ],
      "metadata": {
        "id": "ubEqBtBJhIJC"
      },
      "execution_count": null,
      "outputs": []
    },
    {
      "cell_type": "code",
      "source": [
        "from sklearn.datasets import make_regression\n",
        "from sklearn.model_selection import train_test_split\n",
        "from sklearn.feature_selection import SelectKBest\n",
        "from sklearn.feature_selection import f_regression\n",
        "from matplotlib import pyplot\n",
        "\n",
        "\n",
        "# feature selection\n",
        "def select_features(X_train, y_train, X_test):\n",
        "\t# configure to select all features\n",
        "\tfs = SelectKBest(score_func=f_regression, k=13)\n",
        "\t# learn relationship from training data\n",
        "\tfs.fit(X_train, y_train)\n",
        "\t# transform train input data\n",
        "\tX_train_fs = fs.transform(X_train)\n",
        "\t# transform test input data\n",
        "\tX_test_fs = fs.transform(X_test)\n",
        "\treturn X_train_fs, X_test_fs, fs"
      ],
      "metadata": {
        "id": "toGtVGJV7CMH"
      },
      "execution_count": null,
      "outputs": []
    },
    {
      "cell_type": "code",
      "source": [
        "X_train.shape"
      ],
      "metadata": {
        "id": "dQh1iLQa7Cby"
      },
      "execution_count": null,
      "outputs": []
    },
    {
      "cell_type": "code",
      "source": [
        ""
      ],
      "metadata": {
        "id": "21JI9LyE7E_d"
      },
      "execution_count": null,
      "outputs": []
    }
  ]
}