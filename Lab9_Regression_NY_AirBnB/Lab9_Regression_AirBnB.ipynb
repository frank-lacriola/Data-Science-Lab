{
  "nbformat": 4,
  "nbformat_minor": 0,
  "metadata": {
    "colab": {
      "name": "Lab9_Regression_AirBnB.ipynb",
      "provenance": [],
      "authorship_tag": "ABX9TyM8bRFTF1K/EpqGF9ZRhdtv",
      "include_colab_link": true
    },
    "kernelspec": {
      "name": "python3",
      "display_name": "Python 3"
    },
    "language_info": {
      "name": "python"
    }
  },
  "cells": [
    {
      "cell_type": "markdown",
      "metadata": {
        "id": "view-in-github",
        "colab_type": "text"
      },
      "source": [
        "<a href=\"https://colab.research.google.com/github/frank-lacriola/Data-Science-Lab/blob/main/Lab9_Regression_NY_AirBnB/Lab9_Regression_AirBnB.ipynb\" target=\"_parent\"><img src=\"https://colab.research.google.com/assets/colab-badge.svg\" alt=\"Open In Colab\"/></a>"
      ]
    },
    {
      "cell_type": "code",
      "execution_count": 1,
      "metadata": {
        "colab": {
          "base_uri": "https://localhost:8080/"
        },
        "id": "nMhpwVjP-v6P",
        "outputId": "96faaf79-6015-4d75-b080-d011f6e1117c"
      },
      "outputs": [
        {
          "output_type": "stream",
          "name": "stdout",
          "text": [
            "--2021-12-14 22:08:14--  https://github.com/dbdmg/data-science-lab/raw/master/datasets/NYC_Airbnb.zip\n",
            "Resolving github.com (github.com)... 140.82.113.3\n",
            "Connecting to github.com (github.com)|140.82.113.3|:443... connected.\n",
            "HTTP request sent, awaiting response... 302 Found\n",
            "Location: https://raw.githubusercontent.com/dbdmg/data-science-lab/master/datasets/NYC_Airbnb.zip [following]\n",
            "--2021-12-14 22:08:14--  https://raw.githubusercontent.com/dbdmg/data-science-lab/master/datasets/NYC_Airbnb.zip\n",
            "Resolving raw.githubusercontent.com (raw.githubusercontent.com)... 185.199.108.133, 185.199.109.133, 185.199.110.133, ...\n",
            "Connecting to raw.githubusercontent.com (raw.githubusercontent.com)|185.199.108.133|:443... connected.\n",
            "HTTP request sent, awaiting response... 200 OK\n",
            "Length: 2563162 (2.4M) [application/zip]\n",
            "Saving to: ‘NYC_Airbnb.zip’\n",
            "\n",
            "NYC_Airbnb.zip      100%[===================>]   2.44M  --.-KB/s    in 0.07s   \n",
            "\n",
            "2021-12-14 22:08:15 (33.5 MB/s) - ‘NYC_Airbnb.zip’ saved [2563162/2563162]\n",
            "\n"
          ]
        }
      ],
      "source": [
        "!wget https://github.com/dbdmg/data-science-lab/raw/master/datasets/NYC_Airbnb.zip"
      ]
    },
    {
      "cell_type": "code",
      "source": [
        "!unzip \"/content/NYC_Airbnb.zip\""
      ],
      "metadata": {
        "colab": {
          "base_uri": "https://localhost:8080/"
        },
        "id": "mmKRuw6e_LwP",
        "outputId": "b73195bb-0fd2-482e-8875-aba0f956f210"
      },
      "execution_count": 2,
      "outputs": [
        {
          "output_type": "stream",
          "name": "stdout",
          "text": [
            "Archive:  /content/NYC_Airbnb.zip\n",
            "   creating: NYC_Airbnb/\n",
            "  inflating: NYC_Airbnb/development.csv  \n",
            "  inflating: __MACOSX/NYC_Airbnb/._development.csv  \n",
            "  inflating: NYC_Airbnb/sample_submission.csv  \n",
            "  inflating: __MACOSX/NYC_Airbnb/._sample_submission.csv  \n",
            "  inflating: NYC_Airbnb/evaluation.csv  \n",
            "  inflating: __MACOSX/NYC_Airbnb/._evaluation.csv  \n"
          ]
        }
      ]
    },
    {
      "cell_type": "code",
      "source": [
        "import pandas as pd\n",
        "\n",
        "df = pd.read_csv(\"/content/NYC_Airbnb/development.csv\")"
      ],
      "metadata": {
        "id": "6MTThdfw_X1s"
      },
      "execution_count": 3,
      "outputs": []
    },
    {
      "cell_type": "code",
      "source": [
        "df.head()"
      ],
      "metadata": {
        "colab": {
          "base_uri": "https://localhost:8080/",
          "height": 469
        },
        "id": "Z8eODrydBCWN",
        "outputId": "26dd9c3e-941c-41e9-ae8a-6013abd492ae"
      },
      "execution_count": 7,
      "outputs": [
        {
          "output_type": "execute_result",
          "data": {
            "text/html": [
              "<div>\n",
              "<style scoped>\n",
              "    .dataframe tbody tr th:only-of-type {\n",
              "        vertical-align: middle;\n",
              "    }\n",
              "\n",
              "    .dataframe tbody tr th {\n",
              "        vertical-align: top;\n",
              "    }\n",
              "\n",
              "    .dataframe thead th {\n",
              "        text-align: right;\n",
              "    }\n",
              "</style>\n",
              "<table border=\"1\" class=\"dataframe\">\n",
              "  <thead>\n",
              "    <tr style=\"text-align: right;\">\n",
              "      <th></th>\n",
              "      <th>id</th>\n",
              "      <th>name</th>\n",
              "      <th>host_id</th>\n",
              "      <th>host_name</th>\n",
              "      <th>neighbourhood_group</th>\n",
              "      <th>neighbourhood</th>\n",
              "      <th>latitude</th>\n",
              "      <th>longitude</th>\n",
              "      <th>room_type</th>\n",
              "      <th>price</th>\n",
              "      <th>minimum_nights</th>\n",
              "      <th>number_of_reviews</th>\n",
              "      <th>last_review</th>\n",
              "      <th>reviews_per_month</th>\n",
              "      <th>calculated_host_listings_count</th>\n",
              "      <th>availability_365</th>\n",
              "    </tr>\n",
              "  </thead>\n",
              "  <tbody>\n",
              "    <tr>\n",
              "      <th>0</th>\n",
              "      <td>12783632</td>\n",
              "      <td>NYC Mini Hotel</td>\n",
              "      <td>57230304</td>\n",
              "      <td>Imanuelly</td>\n",
              "      <td>Queens</td>\n",
              "      <td>Elmhurst</td>\n",
              "      <td>40.74037</td>\n",
              "      <td>-73.88610</td>\n",
              "      <td>Private room</td>\n",
              "      <td>75</td>\n",
              "      <td>1</td>\n",
              "      <td>2</td>\n",
              "      <td>2019-05-26</td>\n",
              "      <td>0.92</td>\n",
              "      <td>3</td>\n",
              "      <td>351</td>\n",
              "    </tr>\n",
              "    <tr>\n",
              "      <th>1</th>\n",
              "      <td>3463385</td>\n",
              "      <td>Gorgeous room in Manhattan</td>\n",
              "      <td>10698270</td>\n",
              "      <td>Evgenia</td>\n",
              "      <td>Manhattan</td>\n",
              "      <td>Upper East Side</td>\n",
              "      <td>40.76717</td>\n",
              "      <td>-73.95532</td>\n",
              "      <td>Private room</td>\n",
              "      <td>95</td>\n",
              "      <td>1</td>\n",
              "      <td>202</td>\n",
              "      <td>2019-05-27</td>\n",
              "      <td>3.31</td>\n",
              "      <td>2</td>\n",
              "      <td>263</td>\n",
              "    </tr>\n",
              "    <tr>\n",
              "      <th>2</th>\n",
              "      <td>17572926</td>\n",
              "      <td>Great 1 Bedroom on Upper East</td>\n",
              "      <td>36578169</td>\n",
              "      <td>James</td>\n",
              "      <td>Manhattan</td>\n",
              "      <td>Upper East Side</td>\n",
              "      <td>40.77984</td>\n",
              "      <td>-73.94725</td>\n",
              "      <td>Entire home/apt</td>\n",
              "      <td>130</td>\n",
              "      <td>2</td>\n",
              "      <td>0</td>\n",
              "      <td>NaN</td>\n",
              "      <td>NaN</td>\n",
              "      <td>1</td>\n",
              "      <td>0</td>\n",
              "    </tr>\n",
              "    <tr>\n",
              "      <th>3</th>\n",
              "      <td>33913644</td>\n",
              "      <td>Modern and bright 2Bed 2Bath Bushwick, Brooklyn</td>\n",
              "      <td>50981314</td>\n",
              "      <td>Ofier</td>\n",
              "      <td>Brooklyn</td>\n",
              "      <td>Bushwick</td>\n",
              "      <td>40.70205</td>\n",
              "      <td>-73.91338</td>\n",
              "      <td>Entire home/apt</td>\n",
              "      <td>150</td>\n",
              "      <td>2</td>\n",
              "      <td>4</td>\n",
              "      <td>2019-07-07</td>\n",
              "      <td>1.64</td>\n",
              "      <td>1</td>\n",
              "      <td>89</td>\n",
              "    </tr>\n",
              "    <tr>\n",
              "      <th>4</th>\n",
              "      <td>9405895</td>\n",
              "      <td>Stylish and zen Brooklyn retreat</td>\n",
              "      <td>48775347</td>\n",
              "      <td>Mathieu</td>\n",
              "      <td>Brooklyn</td>\n",
              "      <td>Fort Greene</td>\n",
              "      <td>40.68914</td>\n",
              "      <td>-73.97853</td>\n",
              "      <td>Entire home/apt</td>\n",
              "      <td>325</td>\n",
              "      <td>3</td>\n",
              "      <td>16</td>\n",
              "      <td>2019-04-20</td>\n",
              "      <td>0.42</td>\n",
              "      <td>1</td>\n",
              "      <td>103</td>\n",
              "    </tr>\n",
              "  </tbody>\n",
              "</table>\n",
              "</div>"
            ],
            "text/plain": [
              "         id  ... availability_365\n",
              "0  12783632  ...              351\n",
              "1   3463385  ...              263\n",
              "2  17572926  ...                0\n",
              "3  33913644  ...               89\n",
              "4   9405895  ...              103\n",
              "\n",
              "[5 rows x 16 columns]"
            ]
          },
          "metadata": {},
          "execution_count": 7
        }
      ]
    },
    {
      "cell_type": "code",
      "source": [
        "df.describe()"
      ],
      "metadata": {
        "colab": {
          "base_uri": "https://localhost:8080/",
          "height": 320
        },
        "id": "mPNzZIGWBC5i",
        "outputId": "5f00989e-d430-4d1b-9e42-72dec775beae"
      },
      "execution_count": 8,
      "outputs": [
        {
          "output_type": "execute_result",
          "data": {
            "text/html": [
              "<div>\n",
              "<style scoped>\n",
              "    .dataframe tbody tr th:only-of-type {\n",
              "        vertical-align: middle;\n",
              "    }\n",
              "\n",
              "    .dataframe tbody tr th {\n",
              "        vertical-align: top;\n",
              "    }\n",
              "\n",
              "    .dataframe thead th {\n",
              "        text-align: right;\n",
              "    }\n",
              "</style>\n",
              "<table border=\"1\" class=\"dataframe\">\n",
              "  <thead>\n",
              "    <tr style=\"text-align: right;\">\n",
              "      <th></th>\n",
              "      <th>id</th>\n",
              "      <th>host_id</th>\n",
              "      <th>latitude</th>\n",
              "      <th>longitude</th>\n",
              "      <th>price</th>\n",
              "      <th>minimum_nights</th>\n",
              "      <th>number_of_reviews</th>\n",
              "      <th>reviews_per_month</th>\n",
              "      <th>calculated_host_listings_count</th>\n",
              "      <th>availability_365</th>\n",
              "    </tr>\n",
              "  </thead>\n",
              "  <tbody>\n",
              "    <tr>\n",
              "      <th>count</th>\n",
              "      <td>3.911600e+04</td>\n",
              "      <td>3.911600e+04</td>\n",
              "      <td>39116.000000</td>\n",
              "      <td>39116.000000</td>\n",
              "      <td>39116.000000</td>\n",
              "      <td>39116.000000</td>\n",
              "      <td>39116.000000</td>\n",
              "      <td>31075.000000</td>\n",
              "      <td>39116.000000</td>\n",
              "      <td>39116.000000</td>\n",
              "    </tr>\n",
              "    <tr>\n",
              "      <th>mean</th>\n",
              "      <td>1.901070e+07</td>\n",
              "      <td>6.753109e+07</td>\n",
              "      <td>40.729037</td>\n",
              "      <td>-73.952308</td>\n",
              "      <td>153.406995</td>\n",
              "      <td>7.053073</td>\n",
              "      <td>23.261658</td>\n",
              "      <td>1.376466</td>\n",
              "      <td>7.204827</td>\n",
              "      <td>112.957613</td>\n",
              "    </tr>\n",
              "    <tr>\n",
              "      <th>std</th>\n",
              "      <td>1.100872e+07</td>\n",
              "      <td>7.863542e+07</td>\n",
              "      <td>0.054373</td>\n",
              "      <td>0.045880</td>\n",
              "      <td>242.218222</td>\n",
              "      <td>20.494289</td>\n",
              "      <td>44.601529</td>\n",
              "      <td>1.683171</td>\n",
              "      <td>33.109702</td>\n",
              "      <td>131.576326</td>\n",
              "    </tr>\n",
              "    <tr>\n",
              "      <th>min</th>\n",
              "      <td>2.595000e+03</td>\n",
              "      <td>2.438000e+03</td>\n",
              "      <td>40.507080</td>\n",
              "      <td>-74.244420</td>\n",
              "      <td>0.000000</td>\n",
              "      <td>1.000000</td>\n",
              "      <td>0.000000</td>\n",
              "      <td>0.010000</td>\n",
              "      <td>1.000000</td>\n",
              "      <td>0.000000</td>\n",
              "    </tr>\n",
              "    <tr>\n",
              "      <th>25%</th>\n",
              "      <td>9.413194e+06</td>\n",
              "      <td>7.824647e+06</td>\n",
              "      <td>40.690260</td>\n",
              "      <td>-73.983160</td>\n",
              "      <td>69.000000</td>\n",
              "      <td>1.000000</td>\n",
              "      <td>1.000000</td>\n",
              "      <td>0.190000</td>\n",
              "      <td>1.000000</td>\n",
              "      <td>0.000000</td>\n",
              "    </tr>\n",
              "    <tr>\n",
              "      <th>50%</th>\n",
              "      <td>1.969114e+07</td>\n",
              "      <td>3.059726e+07</td>\n",
              "      <td>40.723240</td>\n",
              "      <td>-73.955700</td>\n",
              "      <td>108.000000</td>\n",
              "      <td>3.000000</td>\n",
              "      <td>5.000000</td>\n",
              "      <td>0.720000</td>\n",
              "      <td>1.000000</td>\n",
              "      <td>46.000000</td>\n",
              "    </tr>\n",
              "    <tr>\n",
              "      <th>75%</th>\n",
              "      <td>2.917843e+07</td>\n",
              "      <td>1.074344e+08</td>\n",
              "      <td>40.763130</td>\n",
              "      <td>-73.936530</td>\n",
              "      <td>178.000000</td>\n",
              "      <td>5.000000</td>\n",
              "      <td>23.000000</td>\n",
              "      <td>2.020000</td>\n",
              "      <td>2.000000</td>\n",
              "      <td>226.000000</td>\n",
              "    </tr>\n",
              "    <tr>\n",
              "      <th>max</th>\n",
              "      <td>3.648724e+07</td>\n",
              "      <td>2.743213e+08</td>\n",
              "      <td>40.913060</td>\n",
              "      <td>-73.716900</td>\n",
              "      <td>10000.000000</td>\n",
              "      <td>1250.000000</td>\n",
              "      <td>629.000000</td>\n",
              "      <td>58.500000</td>\n",
              "      <td>327.000000</td>\n",
              "      <td>365.000000</td>\n",
              "    </tr>\n",
              "  </tbody>\n",
              "</table>\n",
              "</div>"
            ],
            "text/plain": [
              "                 id  ...  availability_365\n",
              "count  3.911600e+04  ...      39116.000000\n",
              "mean   1.901070e+07  ...        112.957613\n",
              "std    1.100872e+07  ...        131.576326\n",
              "min    2.595000e+03  ...          0.000000\n",
              "25%    9.413194e+06  ...          0.000000\n",
              "50%    1.969114e+07  ...         46.000000\n",
              "75%    2.917843e+07  ...        226.000000\n",
              "max    3.648724e+07  ...        365.000000\n",
              "\n",
              "[8 rows x 10 columns]"
            ]
          },
          "metadata": {},
          "execution_count": 8
        }
      ]
    },
    {
      "cell_type": "code",
      "source": [
        "df['neighbourhood'].unique()"
      ],
      "metadata": {
        "colab": {
          "base_uri": "https://localhost:8080/"
        },
        "id": "wi0RXVzLBPAE",
        "outputId": "4ee76424-5189-4ce3-9e47-9ce2705f1136"
      },
      "execution_count": 13,
      "outputs": [
        {
          "output_type": "execute_result",
          "data": {
            "text/plain": [
              "Williamsburg          3121\n",
              "Bedford-Stuyvesant    2944\n",
              "Harlem                2149\n",
              "Bushwick              1994\n",
              "Hell's Kitchen        1585\n",
              "                      ... \n",
              "Silver Lake              1\n",
              "Woodrow                  1\n",
              "Westerleigh              1\n",
              "Richmondtown             1\n",
              "West Farms               1\n",
              "Name: neighbourhood, Length: 221, dtype: int64"
            ]
          },
          "metadata": {},
          "execution_count": 13
        }
      ]
    },
    {
      "cell_type": "code",
      "source": [
        "df['neighbourhood_group'].unique()"
      ],
      "metadata": {
        "colab": {
          "base_uri": "https://localhost:8080/"
        },
        "id": "zJ1b027FDGbc",
        "outputId": "1e29349c-1aa5-4ef6-b1a4-0e98c02c4433"
      },
      "execution_count": 14,
      "outputs": [
        {
          "output_type": "execute_result",
          "data": {
            "text/plain": [
              "array(['Queens', 'Manhattan', 'Brooklyn', 'Bronx', 'Staten Island'],\n",
              "      dtype=object)"
            ]
          },
          "metadata": {},
          "execution_count": 14
        }
      ]
    },
    {
      "cell_type": "markdown",
      "source": [
        "We can decide to represent neighbourhood_group with integers"
      ],
      "metadata": {
        "id": "2g3-nSx-Dl3t"
      }
    },
    {
      "cell_type": "code",
      "source": [
        ""
      ],
      "metadata": {
        "id": "RXNrBD0mDkHj"
      },
      "execution_count": null,
      "outputs": []
    }
  ]
}