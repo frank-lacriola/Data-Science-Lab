{
 "cells": [
  {
   "cell_type": "code",
   "execution_count": null,
   "metadata": {},
   "outputs": [],
   "source": [
    "source = 'data/toBike.json'"
   ]
  },
  {
   "cell_type": "code",
   "execution_count": 8,
   "metadata": {},
   "outputs": [],
   "source": [
    "import json\n",
    "with open(source) as f:\n",
    "    dataset = json.load(f)\n"
   ]
  },
  {
   "cell_type": "code",
   "execution_count": 10,
   "metadata": {},
   "outputs": [
    {
     "data": {
      "text/plain": [
       "dict_keys(['company', 'href', 'id', 'location', 'name', 'source', 'stations'])"
      ]
     },
     "execution_count": 10,
     "metadata": {},
     "output_type": "execute_result"
    }
   ],
   "source": [
    "dataset['network'].keys()"
   ]
  },
  {
   "cell_type": "code",
   "execution_count": 18,
   "metadata": {},
   "outputs": [],
   "source": [
    "stationList = dataset['network']['stations']"
   ]
  },
  {
   "cell_type": "code",
   "execution_count": 27,
   "metadata": {},
   "outputs": [
    {
     "data": {
      "text/plain": [
       "{'empty_slots': 14,\n",
       " 'extra': {'number': 4,\n",
       "  'reviews': 340,\n",
       "  'score': 3.9,\n",
       "  'status': 'online',\n",
       "  'uid': '253'},\n",
       " 'free_bikes': 5,\n",
       " 'id': '9f705b5e090de99e976f4ac6c6911571',\n",
       " 'latitude': 45.072882,\n",
       " 'longitude': 7.667951,\n",
       " 'name': 'Porta Susa 1',\n",
       " 'timestamp': '2021-09-30T09:41:51.508000Z'}"
      ]
     },
     "execution_count": 27,
     "metadata": {},
     "output_type": "execute_result"
    }
   ],
   "source": [
    "stationList[0]"
   ]
  },
  {
   "cell_type": "code",
   "execution_count": 26,
   "metadata": {},
   "outputs": [
    {
     "data": {
      "text/plain": [
       "dict_keys(['empty_slots', 'extra', 'free_bikes', 'id', 'latitude', 'longitude', 'name', 'timestamp'])"
      ]
     },
     "execution_count": 26,
     "metadata": {},
     "output_type": "execute_result"
    }
   ],
   "source": [
    "stationList[0].keys()"
   ]
  },
  {
   "cell_type": "code",
   "execution_count": 29,
   "metadata": {},
   "outputs": [
    {
     "name": "stdout",
     "output_type": "stream",
     "text": [
      "the number of active stations is:  39\n"
     ]
    }
   ],
   "source": [
    "activeStations = 0\n",
    "for i in range(len(stationList)-1):\n",
    "    if stationList[i]['extra']['status'] == 'online':\n",
    "        activeStations += 1\n",
    "print(f'the number of active stations is: ', activeStations)"
   ]
  },
  {
   "cell_type": "code",
   "execution_count": 28,
   "metadata": {},
   "outputs": [
    {
     "name": "stdout",
     "output_type": "stream",
     "text": [
      "the number of empty slots is:  298\n",
      "the number of free bikes is:  144\n"
     ]
    }
   ],
   "source": [
    "freeBikes = 0\n",
    "emptySlots = 0\n",
    "for i in range(len(stationList)-1):\n",
    "        emptySlots += stationList[i]['empty_slots']\n",
    "        freeBikes += stationList[i]['free_bikes']\n",
    "print(f'the number of empty slots is: ',emptySlots)\n",
    "print(f'the number of free bikes is: ',freeBikes)"
   ]
  },
  {
   "cell_type": "code",
   "execution_count": 30,
   "metadata": {},
   "outputs": [],
   "source": [
    "from math import cos, acos, sin\n",
    "\n",
    "def distance_coords(lat1, lng1, lat2, lng2):\n",
    "    \"\"\"Compute the distance among two points.\"\"\"\n",
    "    deg2rad = lambda x: x * 3.141592 / 180\n",
    "    lat1, lng1, lat2, lng2 = map(deg2rad, [ lat1, lng1, lat2, lng2 ])\n",
    "    R = 6378100 # Radius of the Earth, in meters\n",
    "    return R * acos(sin(lat1) * sin(lat2) + cos(lat1) * cos(lat2) * cos(lng1 - lng2))"
   ]
  },
  {
   "cell_type": "code",
   "execution_count": 63,
   "metadata": {},
   "outputs": [],
   "source": [
    "def findClosest(lat, long):\n",
    "    closest = (None, None)\n",
    "    for station in stationList:\n",
    "        closest_station, closest_distance = closest\n",
    "        current_distance = distance_coords(lat, long, station[\"latitude\"], station[\"longitude\"])\n",
    "            # if closest_distance is None, then we are at the first\n",
    "            # loop execution where the station has available bikes.\n",
    "            # In that case, we save the current station as the \n",
    "            # closest one (as we do not have any other stations available).\n",
    "            # From the next cycle on, to update `closest`, we need\n",
    "            # the station to actually be closer than the already saved one.\n",
    "        if station[\"free_bikes\"] > 0 and (closest_distance is None or current_distance < closest_distance):\n",
    "            closest = (station, current_distance)\n",
    "    return closest"
   ]
  },
  {
   "cell_type": "code",
   "execution_count": 68,
   "metadata": {},
   "outputs": [
    {
     "data": {
      "text/plain": [
       "({'empty_slots': 7,\n",
       "  'extra': {'number': 199,\n",
       "   'reviews': 4,\n",
       "   'score': 3.6,\n",
       "   'status': 'online',\n",
       "   'uid': '1667'},\n",
       "  'free_bikes': 8,\n",
       "  'id': '055bfeb73e15dd3eb17558c483954eff',\n",
       "  'latitude': 45.0787395,\n",
       "  'longitude': 7.6928751,\n",
       "  'name': 'Palermo 2',\n",
       "  'timestamp': '2021-09-30T09:41:51.508000Z'},\n",
       " 485.99791245691983)"
      ]
     },
     "execution_count": 68,
     "metadata": {},
     "output_type": "execute_result"
    }
   ],
   "source": [
    "findClosest(45.074512, 7.694419)"
   ]
  },
  {
   "cell_type": "code",
   "execution_count": 49,
   "metadata": {},
   "outputs": [
    {
     "data": {
      "text/plain": [
       "64"
      ]
     },
     "execution_count": 49,
     "metadata": {},
     "output_type": "execute_result"
    }
   ],
   "source": [
    "distances"
   ]
  },
  {
   "cell_type": "code",
   "execution_count": 75,
   "metadata": {},
   "outputs": [],
   "source": [
    "def findMinDistance(lat, long):\n",
    "    t = [(s, distance_coords(lat, long, s['latitude'], s['longitude'])) for s in stationList if s['free_bikes'] > 0]\n",
    "    return min(t, key=lambda t: t[1])\n",
    "    \n"
   ]
  },
  {
   "cell_type": "code",
   "execution_count": 76,
   "metadata": {},
   "outputs": [
    {
     "data": {
      "text/plain": [
       "({'empty_slots': 7,\n",
       "  'extra': {'number': 199,\n",
       "   'reviews': 4,\n",
       "   'score': 3.6,\n",
       "   'status': 'online',\n",
       "   'uid': '1667'},\n",
       "  'free_bikes': 8,\n",
       "  'id': '055bfeb73e15dd3eb17558c483954eff',\n",
       "  'latitude': 45.0787395,\n",
       "  'longitude': 7.6928751,\n",
       "  'name': 'Palermo 2',\n",
       "  'timestamp': '2021-09-30T09:41:51.508000Z'},\n",
       " 485.99791245691983)"
      ]
     },
     "execution_count": 76,
     "metadata": {},
     "output_type": "execute_result"
    }
   ],
   "source": [
    "findMinDistance(45.074512, 7.694419)"
   ]
  },
  {
   "cell_type": "code",
   "execution_count": null,
   "metadata": {},
   "outputs": [],
   "source": []
  }
 ],
 "metadata": {
  "kernelspec": {
   "display_name": "Python 3",
   "language": "python",
   "name": "python3"
  },
  "language_info": {
   "codemirror_mode": {
    "name": "ipython",
    "version": 3
   },
   "file_extension": ".py",
   "mimetype": "text/x-python",
   "name": "python",
   "nbconvert_exporter": "python",
   "pygments_lexer": "ipython3",
   "version": "3.8.5"
  }
 },
 "nbformat": 4,
 "nbformat_minor": 4
}
